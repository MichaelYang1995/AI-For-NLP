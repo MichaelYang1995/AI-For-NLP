{
 "cells": [
  {
   "cell_type": "markdown",
   "metadata": {},
   "source": [
    "# 1 Prepare Work"
   ]
  },
  {
   "cell_type": "code",
   "execution_count": 2,
   "metadata": {},
   "outputs": [],
   "source": [
    "import numpy as np\n",
    "import os.path\n",
    "import jieba\n",
    "import pandas as pd\n",
    "import re"
   ]
  },
  {
   "cell_type": "code",
   "execution_count": 3,
   "metadata": {},
   "outputs": [
    {
     "name": "stdout",
     "output_type": "stream",
     "text": [
      "Success!\n"
     ]
    }
   ],
   "source": [
    "csv_path = r'D:\\Assignment\\Project_01\\newsdata.csv'\n",
    "if not os.path.isfile(csv_path):\n",
    "    print('Input error, please enter correct path!')\n",
    "else:\n",
    "    print('Success!')"
   ]
  },
  {
   "cell_type": "code",
   "execution_count": 4,
   "metadata": {},
   "outputs": [
    {
     "name": "stderr",
     "output_type": "stream",
     "text": [
      "D:\\Anaconda3\\lib\\site-packages\\IPython\\core\\interactiveshell.py:3049: DtypeWarning: Columns (0) have mixed types. Specify dtype option on import or set low_memory=False.\n",
      "  interactivity=interactivity, compiler=compiler, result=result)\n"
     ]
    }
   ],
   "source": [
    "ori_news_csv = pd.read_csv(csv_path, encoding='ansi', error_bad_lines=False, usecols=[0, 2, 3])"
   ]
  },
  {
   "cell_type": "code",
   "execution_count": 5,
   "metadata": {},
   "outputs": [
    {
     "data": {
      "text/html": [
       "<div>\n",
       "<style scoped>\n",
       "    .dataframe tbody tr th:only-of-type {\n",
       "        vertical-align: middle;\n",
       "    }\n",
       "\n",
       "    .dataframe tbody tr th {\n",
       "        vertical-align: top;\n",
       "    }\n",
       "\n",
       "    .dataframe thead th {\n",
       "        text-align: right;\n",
       "    }\n",
       "</style>\n",
       "<table border=\"1\" class=\"dataframe\">\n",
       "  <thead>\n",
       "    <tr style=\"text-align: right;\">\n",
       "      <th></th>\n",
       "      <th>id</th>\n",
       "      <th>source</th>\n",
       "      <th>content</th>\n",
       "    </tr>\n",
       "  </thead>\n",
       "  <tbody>\n",
       "    <tr>\n",
       "      <th>0</th>\n",
       "      <td>89617</td>\n",
       "      <td>快科技@http://www.kkj.cn/</td>\n",
       "      <td>此外，自本周（6月12日）起，除小米手机6等15款机型外，其余机型已暂停更新发布（含开发版/...</td>\n",
       "    </tr>\n",
       "    <tr>\n",
       "      <th>1</th>\n",
       "      <td>89616</td>\n",
       "      <td>快科技@http://www.kkj.cn/</td>\n",
       "      <td>骁龙835作为唯一通过Windows 10桌面平台认证的ARM处理器，高通强调，不会因为只考...</td>\n",
       "    </tr>\n",
       "    <tr>\n",
       "      <th>2</th>\n",
       "      <td>89615</td>\n",
       "      <td>快科技@http://www.kkj.cn/</td>\n",
       "      <td>此前的一加3T搭载的是3400mAh电池，DashCharge快充规格为5V/4A。\\n至于...</td>\n",
       "    </tr>\n",
       "    <tr>\n",
       "      <th>3</th>\n",
       "      <td>89614</td>\n",
       "      <td>新华社</td>\n",
       "      <td>这是6月18日在葡萄牙中部大佩德罗冈地区拍摄的被森林大火烧毁的汽车。新华社记者张立云摄\\n</td>\n",
       "    </tr>\n",
       "    <tr>\n",
       "      <th>4</th>\n",
       "      <td>89613</td>\n",
       "      <td>深圳大件事</td>\n",
       "      <td>（原标题：44岁女子跑深圳约会网友被拒，暴雨中裸身奔走……）\\n@深圳交警微博称：昨日清晨交...</td>\n",
       "    </tr>\n",
       "  </tbody>\n",
       "</table>\n",
       "</div>"
      ],
      "text/plain": [
       "      id                  source  \\\n",
       "0  89617  快科技@http://www.kkj.cn/   \n",
       "1  89616  快科技@http://www.kkj.cn/   \n",
       "2  89615  快科技@http://www.kkj.cn/   \n",
       "3  89614                     新华社   \n",
       "4  89613                   深圳大件事   \n",
       "\n",
       "                                             content  \n",
       "0  此外，自本周（6月12日）起，除小米手机6等15款机型外，其余机型已暂停更新发布（含开发版/...  \n",
       "1  骁龙835作为唯一通过Windows 10桌面平台认证的ARM处理器，高通强调，不会因为只考...  \n",
       "2  此前的一加3T搭载的是3400mAh电池，DashCharge快充规格为5V/4A。\\n至于...  \n",
       "3      这是6月18日在葡萄牙中部大佩德罗冈地区拍摄的被森林大火烧毁的汽车。新华社记者张立云摄\\n  \n",
       "4  （原标题：44岁女子跑深圳约会网友被拒，暴雨中裸身奔走……）\\n@深圳交警微博称：昨日清晨交...  "
      ]
     },
     "execution_count": 5,
     "metadata": {},
     "output_type": "execute_result"
    }
   ],
   "source": [
    "ori_news_csv.head()"
   ]
  },
  {
   "cell_type": "code",
   "execution_count": 6,
   "metadata": {},
   "outputs": [
    {
     "name": "stdout",
     "output_type": "stream",
     "text": [
      "<class 'pandas.core.frame.DataFrame'>\n",
      "RangeIndex: 90532 entries, 0 to 90531\n",
      "Data columns (total 3 columns):\n",
      "id         90532 non-null object\n",
      "source     89720 non-null object\n",
      "content    87165 non-null object\n",
      "dtypes: object(3)\n",
      "memory usage: 2.1+ MB\n"
     ]
    }
   ],
   "source": [
    "ori_news_csv.info()"
   ]
  },
  {
   "cell_type": "code",
   "execution_count": 7,
   "metadata": {},
   "outputs": [
    {
     "data": {
      "text/html": [
       "<div>\n",
       "<style scoped>\n",
       "    .dataframe tbody tr th:only-of-type {\n",
       "        vertical-align: middle;\n",
       "    }\n",
       "\n",
       "    .dataframe tbody tr th {\n",
       "        vertical-align: top;\n",
       "    }\n",
       "\n",
       "    .dataframe thead th {\n",
       "        text-align: right;\n",
       "    }\n",
       "</style>\n",
       "<table border=\"1\" class=\"dataframe\">\n",
       "  <thead>\n",
       "    <tr style=\"text-align: right;\">\n",
       "      <th></th>\n",
       "      <th>id</th>\n",
       "      <th>source</th>\n",
       "      <th>content</th>\n",
       "    </tr>\n",
       "  </thead>\n",
       "  <tbody>\n",
       "    <tr>\n",
       "      <th>count</th>\n",
       "      <td>90532</td>\n",
       "      <td>89720</td>\n",
       "      <td>87165</td>\n",
       "    </tr>\n",
       "    <tr>\n",
       "      <th>unique</th>\n",
       "      <td>90428</td>\n",
       "      <td>1049</td>\n",
       "      <td>74995</td>\n",
       "    </tr>\n",
       "    <tr>\n",
       "      <th>top</th>\n",
       "      <td>,{\"type\":\"新闻\"</td>\n",
       "      <td>新华社</td>\n",
       "      <td>\\n\\n</td>\n",
       "    </tr>\n",
       "    <tr>\n",
       "      <th>freq</th>\n",
       "      <td>32</td>\n",
       "      <td>78661</td>\n",
       "      <td>177</td>\n",
       "    </tr>\n",
       "  </tbody>\n",
       "</table>\n",
       "</div>"
      ],
      "text/plain": [
       "                   id source content\n",
       "count           90532  89720   87165\n",
       "unique          90428   1049   74995\n",
       "top     ,{\"type\":\"新闻\"    新华社    \\n\\n\n",
       "freq               32  78661     177"
      ]
     },
     "execution_count": 7,
     "metadata": {},
     "output_type": "execute_result"
    }
   ],
   "source": [
    "ori_news_csv.describe()"
   ]
  },
  {
   "cell_type": "code",
   "execution_count": 8,
   "metadata": {},
   "outputs": [],
   "source": [
    "news_csv = ori_news_csv.dropna(axis=0)"
   ]
  },
  {
   "cell_type": "code",
   "execution_count": 9,
   "metadata": {
    "scrolled": true
   },
   "outputs": [
    {
     "name": "stdout",
     "output_type": "stream",
     "text": [
      "<class 'pandas.core.frame.DataFrame'>\n",
      "Int64Index: 87163 entries, 0 to 90531\n",
      "Data columns (total 3 columns):\n",
      "id         87163 non-null object\n",
      "source     87163 non-null object\n",
      "content    87163 non-null object\n",
      "dtypes: object(3)\n",
      "memory usage: 2.7+ MB\n"
     ]
    }
   ],
   "source": [
    "news_csv.info()"
   ]
  },
  {
   "cell_type": "code",
   "execution_count": 10,
   "metadata": {
    "scrolled": true
   },
   "outputs": [
    {
     "data": {
      "text/html": [
       "<div>\n",
       "<style scoped>\n",
       "    .dataframe tbody tr th:only-of-type {\n",
       "        vertical-align: middle;\n",
       "    }\n",
       "\n",
       "    .dataframe tbody tr th {\n",
       "        vertical-align: top;\n",
       "    }\n",
       "\n",
       "    .dataframe thead th {\n",
       "        text-align: right;\n",
       "    }\n",
       "</style>\n",
       "<table border=\"1\" class=\"dataframe\">\n",
       "  <thead>\n",
       "    <tr style=\"text-align: right;\">\n",
       "      <th></th>\n",
       "      <th>id</th>\n",
       "      <th>source</th>\n",
       "      <th>content</th>\n",
       "    </tr>\n",
       "  </thead>\n",
       "  <tbody>\n",
       "    <tr>\n",
       "      <th>3</th>\n",
       "      <td>89614</td>\n",
       "      <td>新华社</td>\n",
       "      <td>这是6月18日在葡萄牙中部大佩德罗冈地区拍摄的被森林大火烧毁的汽车。新华社记者张立云摄\\n</td>\n",
       "    </tr>\n",
       "    <tr>\n",
       "      <th>19</th>\n",
       "      <td>89600</td>\n",
       "      <td>新华网</td>\n",
       "      <td>国歌法草案首次提请最高立法机关审议\\n点击图片进入下一页\\n新闻：十二届全国人大常委会第二十...</td>\n",
       "    </tr>\n",
       "    <tr>\n",
       "      <th>27</th>\n",
       "      <td>89592</td>\n",
       "      <td>新华网</td>\n",
       "      <td>当地时间2017年6月17日，土耳其马尼萨省，在土耳其第1步兵训练大队司令部军营，590名土...</td>\n",
       "    </tr>\n",
       "    <tr>\n",
       "      <th>29</th>\n",
       "      <td>89590</td>\n",
       "      <td>新华网</td>\n",
       "      <td>英国与欧盟的“脱欧”谈判于19日正式开始。然而此时，英国首相特雷莎·梅正面临着空前的政治压力...</td>\n",
       "    </tr>\n",
       "    <tr>\n",
       "      <th>41</th>\n",
       "      <td>89578</td>\n",
       "      <td>新华社</td>\n",
       "      <td>这是6月18日在葡萄牙中部大佩德罗冈地区拍摄的被森林大火烧毁的汽车。新华社记者张立云摄\\n</td>\n",
       "    </tr>\n",
       "    <tr>\n",
       "      <th>53</th>\n",
       "      <td>89566</td>\n",
       "      <td>新华网</td>\n",
       "      <td>戈壁的大漠黄沙曾掩埋了无数西域古道，而如今一条大漠天路正顽强地与黄沙“搏斗”，在乌兰布和、腾...</td>\n",
       "    </tr>\n",
       "    <tr>\n",
       "      <th>67</th>\n",
       "      <td>89552</td>\n",
       "      <td>新华社@</td>\n",
       "      <td>从百度、支付宝到App?“高考志愿填报”五花八门\\n顾女士近来减少了刷朋友圈的频率，一有时间...</td>\n",
       "    </tr>\n",
       "    <tr>\n",
       "      <th>97</th>\n",
       "      <td>89522</td>\n",
       "      <td>新华社</td>\n",
       "      <td>新华社韩国济州6月18日电综述：亚投行第二届年会三大亮点\\n新华社记者 耿学鹏 严蕾\\n亚洲...</td>\n",
       "    </tr>\n",
       "    <tr>\n",
       "      <th>106</th>\n",
       "      <td>89513</td>\n",
       "      <td>新华网</td>\n",
       "      <td>粤港澳概念板块午后走强，珠海港、恒基达鑫、白云机场等个股的午后纷纷快速拉升。\\n据悉，首届粤...</td>\n",
       "    </tr>\n",
       "    <tr>\n",
       "      <th>115</th>\n",
       "      <td>89504</td>\n",
       "      <td>新华社</td>\n",
       "      <td>新华社北京6月18日电 经军委领导批准，《军营理论热点怎么看·2017》日前印发全军。\\n为...</td>\n",
       "    </tr>\n",
       "    <tr>\n",
       "      <th>242</th>\n",
       "      <td>89386</td>\n",
       "      <td>新华网</td>\n",
       "      <td>东方卫视明星旅游体验综艺节目《旅途的花样》6月17日（周六）晚播出了第三期节目。本周，“花样...</td>\n",
       "    </tr>\n",
       "    <tr>\n",
       "      <th>316</th>\n",
       "      <td>89312</td>\n",
       "      <td>新华社</td>\n",
       "      <td>新华社兰州6月19日电（记者张钦）记者19日了解到，刚刚出台的《甘肃省网络扶贫行动的实施方案...</td>\n",
       "    </tr>\n",
       "    <tr>\n",
       "      <th>323</th>\n",
       "      <td>89305</td>\n",
       "      <td>新华社</td>\n",
       "      <td>新华社乌鲁木齐6月18日电（记者杜刚、王秉阳）6月18日，新疆天山天池首次举办山地马拉松比赛...</td>\n",
       "    </tr>\n",
       "    <tr>\n",
       "      <th>325</th>\n",
       "      <td>89303</td>\n",
       "      <td>新华社</td>\n",
       "      <td>新华社北京6月19日电（记者熊丰）记者从公安部消防局获悉，19日上午6时，由公安部消防局组织...</td>\n",
       "    </tr>\n",
       "    <tr>\n",
       "      <th>340</th>\n",
       "      <td>89288</td>\n",
       "      <td>新华网</td>\n",
       "      <td>新华社北京６月２３日电（记者邢静）幸福是人们对生活最美好的期待，２０１７年哪些城市生活更幸福...</td>\n",
       "    </tr>\n",
       "    <tr>\n",
       "      <th>341</th>\n",
       "      <td>89287</td>\n",
       "      <td>新华网</td>\n",
       "      <td>新华社昆明6月23日电（记者王研）近年来，随着云南航空业的迅速发展，机场禁毒形势也日益严峻。...</td>\n",
       "    </tr>\n",
       "    <tr>\n",
       "      <th>342</th>\n",
       "      <td>89286</td>\n",
       "      <td>新华网</td>\n",
       "      <td>新华社北京６月２３日电（记者倪元锦）２１日起，京津冀迎来今年以来最强降雨。记者采访气象专家，...</td>\n",
       "    </tr>\n",
       "    <tr>\n",
       "      <th>346</th>\n",
       "      <td>89282</td>\n",
       "      <td>新华网</td>\n",
       "      <td>新华社北京６月２３日电（记者 倪元锦）２１日起，京津冀迎来今年以来最强降雨。记者采访气象专家...</td>\n",
       "    </tr>\n",
       "    <tr>\n",
       "      <th>376</th>\n",
       "      <td>89252</td>\n",
       "      <td>新华网</td>\n",
       "      <td>新华社哈尔滨6月23日电（记者 许正）记者23日从黑龙江省环保厅获悉，这个省目前建立的自然保...</td>\n",
       "    </tr>\n",
       "    <tr>\n",
       "      <th>391</th>\n",
       "      <td>89241</td>\n",
       "      <td>新华网</td>\n",
       "      <td>新华社合肥６月２３日电? 题：安徽不断将跨省流域补偿试点推向深入\\n新华社记者杨丁淼\\n当罗...</td>\n",
       "    </tr>\n",
       "    <tr>\n",
       "      <th>403</th>\n",
       "      <td>89229</td>\n",
       "      <td>新华网</td>\n",
       "      <td>新华社重庆６月２３日电? 题：“悟空”为何跌下共享风口？——重庆首家共享单车“退市”观察\\n...</td>\n",
       "    </tr>\n",
       "    <tr>\n",
       "      <th>460</th>\n",
       "      <td>89172</td>\n",
       "      <td>新华网</td>\n",
       "      <td>新华社贵阳６月２３日电（记者 李黔渝）贵州省政府近日下发通知，对严重影响公共安全的中学、医院...</td>\n",
       "    </tr>\n",
       "    <tr>\n",
       "      <th>461</th>\n",
       "      <td>89171</td>\n",
       "      <td>新华网</td>\n",
       "      <td>新华社广州6月23日电 题：激发内生动力 走在脱贫路上——广东探索东西部扶贫协作新路径\\n新...</td>\n",
       "    </tr>\n",
       "    <tr>\n",
       "      <th>463</th>\n",
       "      <td>89169</td>\n",
       "      <td>新华网</td>\n",
       "      <td>新华社南京6月23日电（记者 朱国亮）23日在常州召开的江苏首届VR/AR（虚拟现实/增强现...</td>\n",
       "    </tr>\n",
       "    <tr>\n",
       "      <th>531</th>\n",
       "      <td>89106</td>\n",
       "      <td>新华网</td>\n",
       "      <td>于2010年12月14日正式于杭州成立、由裕隆集团与东风汽车集团所建立的合资企业东风裕隆汽车...</td>\n",
       "    </tr>\n",
       "    <tr>\n",
       "      <th>534</th>\n",
       "      <td>89103</td>\n",
       "      <td>新华网</td>\n",
       "      <td>美国《华盛顿邮报》6月14日披露，主持“通俄门”调查的特别检察官罗伯特·米勒正在调查总统唐纳...</td>\n",
       "    </tr>\n",
       "    <tr>\n",
       "      <th>577</th>\n",
       "      <td>89076</td>\n",
       "      <td>新华通讯社</td>\n",
       "      <td>刘国梁\\n??新华社北京6月20日电记者从中国乒乓球协会获悉，国家乒乓球队管理模式将进行改革...</td>\n",
       "    </tr>\n",
       "    <tr>\n",
       "      <th>579</th>\n",
       "      <td>89074</td>\n",
       "      <td>新华社</td>\n",
       "      <td>暑期旅游旺季是各大旅游景区开门迎客的好时机。然而，有5家5A级景区却高兴不起来：国家旅游...</td>\n",
       "    </tr>\n",
       "    <tr>\n",
       "      <th>581</th>\n",
       "      <td>89072</td>\n",
       "      <td>新华社</td>\n",
       "      <td>新华社北京6月20日电　总部设在德国波恩的国际残奥委会在当地时间19日宣布，中国残联主席...</td>\n",
       "    </tr>\n",
       "    <tr>\n",
       "      <th>592</th>\n",
       "      <td>89065</td>\n",
       "      <td>新华网</td>\n",
       "      <td>新华社成都6月23日电（记者周相吉）四川省在坚决查处违纪违法的同时，又为“改革创新、担当有为...</td>\n",
       "    </tr>\n",
       "    <tr>\n",
       "      <th>...</th>\n",
       "      <td>...</td>\n",
       "      <td>...</td>\n",
       "      <td>...</td>\n",
       "    </tr>\n",
       "    <tr>\n",
       "      <th>90502</th>\n",
       "      <td>30</td>\n",
       "      <td>新华社</td>\n",
       "      <td>新华社照片，外代，2017年6月7日\\n（外代二线）足球——世预赛：葡萄牙备战\\n6月6日，...</td>\n",
       "    </tr>\n",
       "    <tr>\n",
       "      <th>90503</th>\n",
       "      <td>29</td>\n",
       "      <td>新华社</td>\n",
       "      <td>新华社照片，外代，2017年6月7日\\n（外代二线）足球——世预赛：葡萄牙备战\\n6月6日，...</td>\n",
       "    </tr>\n",
       "    <tr>\n",
       "      <th>90504</th>\n",
       "      <td>28</td>\n",
       "      <td>新华社</td>\n",
       "      <td>新华社照片，外代，2017年6月7日\\n（外代二线）足球——世预赛：葡萄牙备战\\n6月6日，...</td>\n",
       "    </tr>\n",
       "    <tr>\n",
       "      <th>90505</th>\n",
       "      <td>27</td>\n",
       "      <td>新华社</td>\n",
       "      <td>新华社照片，外代，2017年6月7日\\n（外代二线）足球——世预赛：葡萄牙备战\\n6月6日，...</td>\n",
       "    </tr>\n",
       "    <tr>\n",
       "      <th>90506</th>\n",
       "      <td>26</td>\n",
       "      <td>新华社</td>\n",
       "      <td>新华社照片，外代，2017年6月7日\\n（外代二线）足球——世预赛：葡萄牙备战\\n6月6日，...</td>\n",
       "    </tr>\n",
       "    <tr>\n",
       "      <th>90507</th>\n",
       "      <td>25</td>\n",
       "      <td>新华社</td>\n",
       "      <td>新华社照片，外代，2017年6月7日\\n（外代二线）足球——世预赛：葡萄牙备战\\n6月6日，...</td>\n",
       "    </tr>\n",
       "    <tr>\n",
       "      <th>90508</th>\n",
       "      <td>24</td>\n",
       "      <td>新华社</td>\n",
       "      <td>新华社照片，外代，2017年6月7日\\n（外代二线）蚕丝生产\\n6月6日，在印度特里普拉邦特...</td>\n",
       "    </tr>\n",
       "    <tr>\n",
       "      <th>90509</th>\n",
       "      <td>23</td>\n",
       "      <td>新华社</td>\n",
       "      <td>新华社照片，外代，2017年6月7日\\n（外代二线）蚕丝生产\\n6月6日，在印度特里普拉邦特...</td>\n",
       "    </tr>\n",
       "    <tr>\n",
       "      <th>90510</th>\n",
       "      <td>22</td>\n",
       "      <td>新华社</td>\n",
       "      <td>新华社照片，外代，2017年6月7日\\n（外代二线）蚕丝生产\\n5月30日，在印度特里普拉邦...</td>\n",
       "    </tr>\n",
       "    <tr>\n",
       "      <th>90511</th>\n",
       "      <td>21</td>\n",
       "      <td>新华社</td>\n",
       "      <td>新华社照片，外代，2017年6月7日\\n（外代二线）蚕丝生产\\n6月6日，在印度特里普拉邦特...</td>\n",
       "    </tr>\n",
       "    <tr>\n",
       "      <th>90512</th>\n",
       "      <td>20</td>\n",
       "      <td>新华社</td>\n",
       "      <td>新华社照片，外代，2017年6月7日\\n（外代二线）蚕丝生产\\n5月30日，在印度特里普拉邦...</td>\n",
       "    </tr>\n",
       "    <tr>\n",
       "      <th>90513</th>\n",
       "      <td>19</td>\n",
       "      <td>新华社</td>\n",
       "      <td>\\n\\n2017年4月27日，在首尔光化门广场，民众在集会上手举反“萨德”标语。（新华社记者...</td>\n",
       "    </tr>\n",
       "    <tr>\n",
       "      <th>90514</th>\n",
       "      <td>18</td>\n",
       "      <td>新华社</td>\n",
       "      <td>\\n新华社巴格达6月6日电（记者魏玉栋　程帅朋）伊拉克西部安巴尔省一处市场6日晚发生自杀式爆...</td>\n",
       "    </tr>\n",
       "    <tr>\n",
       "      <th>90515</th>\n",
       "      <td>17</td>\n",
       "      <td>新华社</td>\n",
       "      <td>新华社照片，外代，2017年6月7日\\n（外代二线）足球——国际友谊赛：德国平丹麦\\n6月6...</td>\n",
       "    </tr>\n",
       "    <tr>\n",
       "      <th>90516</th>\n",
       "      <td>16</td>\n",
       "      <td>新华社</td>\n",
       "      <td>新华社照片，外代，2017年6月7日\\n（外代二线）足球——国际友谊赛：德国平丹麦\\n6月6...</td>\n",
       "    </tr>\n",
       "    <tr>\n",
       "      <th>90517</th>\n",
       "      <td>15</td>\n",
       "      <td>新华社</td>\n",
       "      <td>新华社照片，外代，2017年6月7日\\n（外代二线）足球——国际友谊赛：德国平丹麦\\n6月6...</td>\n",
       "    </tr>\n",
       "    <tr>\n",
       "      <th>90518</th>\n",
       "      <td>14</td>\n",
       "      <td>新华社</td>\n",
       "      <td>新华社照片，外代，2017年6月7日\\n（外代二线）足球——国际友谊赛：德国平丹麦\\n6月6...</td>\n",
       "    </tr>\n",
       "    <tr>\n",
       "      <th>90519</th>\n",
       "      <td>13</td>\n",
       "      <td>新华社</td>\n",
       "      <td>新华社照片，外代，2017年6月7日\\n（外代二线）足球——国际友谊赛：德国平丹麦\\n6月6...</td>\n",
       "    </tr>\n",
       "    <tr>\n",
       "      <th>90520</th>\n",
       "      <td>12</td>\n",
       "      <td>新华社</td>\n",
       "      <td>新华社照片，外代，2017年6月7日\\n（外代二线）足球——国际友谊赛：德国平丹麦\\n6月6...</td>\n",
       "    </tr>\n",
       "    <tr>\n",
       "      <th>90521</th>\n",
       "      <td>11</td>\n",
       "      <td>新华社</td>\n",
       "      <td>新华社照片，外代，2017年6月7日\\n（外代二线）足球——国际友谊赛：德国平丹麦\\n6月6...</td>\n",
       "    </tr>\n",
       "    <tr>\n",
       "      <th>90522</th>\n",
       "      <td>10</td>\n",
       "      <td>新华社</td>\n",
       "      <td>新华社照片，外代，2017年6月7日\\n（外代二线）足球——国际友谊赛：德国平丹麦\\n6月6...</td>\n",
       "    </tr>\n",
       "    <tr>\n",
       "      <th>90523</th>\n",
       "      <td>9</td>\n",
       "      <td>新华社</td>\n",
       "      <td>新华社照片，外代，2017年6月7日\\n（外代二线）足球——国际友谊赛：德国平丹麦\\n6月6...</td>\n",
       "    </tr>\n",
       "    <tr>\n",
       "      <th>90524</th>\n",
       "      <td>8</td>\n",
       "      <td>新华社</td>\n",
       "      <td>新华社照片，北京，2017年6月7日\\n电影《血战湘江》举行清华大学巡映活动\\n6月6日，电...</td>\n",
       "    </tr>\n",
       "    <tr>\n",
       "      <th>90525</th>\n",
       "      <td>7</td>\n",
       "      <td>新华社</td>\n",
       "      <td>新华社照片，北京，2017年6月7日\\n电影《血战湘江》举行清华大学巡映活动\\n6月6日，清...</td>\n",
       "    </tr>\n",
       "    <tr>\n",
       "      <th>90526</th>\n",
       "      <td>6</td>\n",
       "      <td>新华社</td>\n",
       "      <td>新华社照片，北京，2017年6月7日\\n电影《血战湘江》举行清华大学巡映活动\\n6月6日，电...</td>\n",
       "    </tr>\n",
       "    <tr>\n",
       "      <th>90527</th>\n",
       "      <td>5</td>\n",
       "      <td>新华社</td>\n",
       "      <td>新华社照片，多伦多，2017年6月7日\\n（体育）（2）冰球——国家女子冰球队海外选秀在多伦...</td>\n",
       "    </tr>\n",
       "    <tr>\n",
       "      <th>90528</th>\n",
       "      <td>4</td>\n",
       "      <td>新华社</td>\n",
       "      <td>新华社兰州6月3日电（王衡、徐丹）记者从甘肃省交通运输厅获悉，甘肃近日集中开建高速公路、普通...</td>\n",
       "    </tr>\n",
       "    <tr>\n",
       "      <th>90529</th>\n",
       "      <td>3</td>\n",
       "      <td>新华社</td>\n",
       "      <td>\\n\\n2017年5月29日，在法国巴黎郊外的凡尔赛宫，法国总统马克龙出席新闻发布会。（新华...</td>\n",
       "    </tr>\n",
       "    <tr>\n",
       "      <th>90530</th>\n",
       "      <td>2</td>\n",
       "      <td>新华社</td>\n",
       "      <td>\\n\\n2017年5月25日，在美国马萨诸塞州剑桥市，哈佛大学毕业生在毕业典礼上欢呼。（新华...</td>\n",
       "    </tr>\n",
       "    <tr>\n",
       "      <th>90531</th>\n",
       "      <td>1</td>\n",
       "      <td>新华社</td>\n",
       "      <td>新华社德国杜塞尔多夫６月６日电题：乒乓女球迷　\\n　　新华社记者王子江、张寒\\n　　熊老...</td>\n",
       "    </tr>\n",
       "  </tbody>\n",
       "</table>\n",
       "<p>78855 rows × 3 columns</p>\n",
       "</div>"
      ],
      "text/plain": [
       "          id source                                            content\n",
       "3      89614    新华社      这是6月18日在葡萄牙中部大佩德罗冈地区拍摄的被森林大火烧毁的汽车。新华社记者张立云摄\\n\n",
       "19     89600    新华网  国歌法草案首次提请最高立法机关审议\\n点击图片进入下一页\\n新闻：十二届全国人大常委会第二十...\n",
       "27     89592    新华网  当地时间2017年6月17日，土耳其马尼萨省，在土耳其第1步兵训练大队司令部军营，590名土...\n",
       "29     89590    新华网  英国与欧盟的“脱欧”谈判于19日正式开始。然而此时，英国首相特雷莎·梅正面临着空前的政治压力...\n",
       "41     89578    新华社      这是6月18日在葡萄牙中部大佩德罗冈地区拍摄的被森林大火烧毁的汽车。新华社记者张立云摄\\n\n",
       "53     89566    新华网  戈壁的大漠黄沙曾掩埋了无数西域古道，而如今一条大漠天路正顽强地与黄沙“搏斗”，在乌兰布和、腾...\n",
       "67     89552   新华社@  从百度、支付宝到App?“高考志愿填报”五花八门\\n顾女士近来减少了刷朋友圈的频率，一有时间...\n",
       "97     89522    新华社  新华社韩国济州6月18日电综述：亚投行第二届年会三大亮点\\n新华社记者 耿学鹏 严蕾\\n亚洲...\n",
       "106    89513    新华网  粤港澳概念板块午后走强，珠海港、恒基达鑫、白云机场等个股的午后纷纷快速拉升。\\n据悉，首届粤...\n",
       "115    89504    新华社  新华社北京6月18日电 经军委领导批准，《军营理论热点怎么看·2017》日前印发全军。\\n为...\n",
       "242    89386    新华网  东方卫视明星旅游体验综艺节目《旅途的花样》6月17日（周六）晚播出了第三期节目。本周，“花样...\n",
       "316    89312    新华社  新华社兰州6月19日电（记者张钦）记者19日了解到，刚刚出台的《甘肃省网络扶贫行动的实施方案...\n",
       "323    89305    新华社  新华社乌鲁木齐6月18日电（记者杜刚、王秉阳）6月18日，新疆天山天池首次举办山地马拉松比赛...\n",
       "325    89303    新华社  新华社北京6月19日电（记者熊丰）记者从公安部消防局获悉，19日上午6时，由公安部消防局组织...\n",
       "340    89288    新华网  新华社北京６月２３日电（记者邢静）幸福是人们对生活最美好的期待，２０１７年哪些城市生活更幸福...\n",
       "341    89287    新华网  新华社昆明6月23日电（记者王研）近年来，随着云南航空业的迅速发展，机场禁毒形势也日益严峻。...\n",
       "342    89286    新华网  新华社北京６月２３日电（记者倪元锦）２１日起，京津冀迎来今年以来最强降雨。记者采访气象专家，...\n",
       "346    89282    新华网  新华社北京６月２３日电（记者 倪元锦）２１日起，京津冀迎来今年以来最强降雨。记者采访气象专家...\n",
       "376    89252    新华网  新华社哈尔滨6月23日电（记者 许正）记者23日从黑龙江省环保厅获悉，这个省目前建立的自然保...\n",
       "391    89241    新华网  新华社合肥６月２３日电? 题：安徽不断将跨省流域补偿试点推向深入\\n新华社记者杨丁淼\\n当罗...\n",
       "403    89229    新华网  新华社重庆６月２３日电? 题：“悟空”为何跌下共享风口？——重庆首家共享单车“退市”观察\\n...\n",
       "460    89172    新华网  新华社贵阳６月２３日电（记者 李黔渝）贵州省政府近日下发通知，对严重影响公共安全的中学、医院...\n",
       "461    89171    新华网  新华社广州6月23日电 题：激发内生动力 走在脱贫路上——广东探索东西部扶贫协作新路径\\n新...\n",
       "463    89169    新华网  新华社南京6月23日电（记者 朱国亮）23日在常州召开的江苏首届VR/AR（虚拟现实/增强现...\n",
       "531    89106    新华网  于2010年12月14日正式于杭州成立、由裕隆集团与东风汽车集团所建立的合资企业东风裕隆汽车...\n",
       "534    89103    新华网  美国《华盛顿邮报》6月14日披露，主持“通俄门”调查的特别检察官罗伯特·米勒正在调查总统唐纳...\n",
       "577    89076  新华通讯社  刘国梁\\n??新华社北京6月20日电记者从中国乒乓球协会获悉，国家乒乓球队管理模式将进行改革...\n",
       "579    89074    新华社  　　暑期旅游旺季是各大旅游景区开门迎客的好时机。然而，有5家5A级景区却高兴不起来：国家旅游...\n",
       "581    89072    新华社  　　新华社北京6月20日电　总部设在德国波恩的国际残奥委会在当地时间19日宣布，中国残联主席...\n",
       "592    89065    新华网  新华社成都6月23日电（记者周相吉）四川省在坚决查处违纪违法的同时，又为“改革创新、担当有为...\n",
       "...      ...    ...                                                ...\n",
       "90502     30    新华社  新华社照片，外代，2017年6月7日\\n（外代二线）足球——世预赛：葡萄牙备战\\n6月6日，...\n",
       "90503     29    新华社  新华社照片，外代，2017年6月7日\\n（外代二线）足球——世预赛：葡萄牙备战\\n6月6日，...\n",
       "90504     28    新华社  新华社照片，外代，2017年6月7日\\n（外代二线）足球——世预赛：葡萄牙备战\\n6月6日，...\n",
       "90505     27    新华社  新华社照片，外代，2017年6月7日\\n（外代二线）足球——世预赛：葡萄牙备战\\n6月6日，...\n",
       "90506     26    新华社  新华社照片，外代，2017年6月7日\\n（外代二线）足球——世预赛：葡萄牙备战\\n6月6日，...\n",
       "90507     25    新华社  新华社照片，外代，2017年6月7日\\n（外代二线）足球——世预赛：葡萄牙备战\\n6月6日，...\n",
       "90508     24    新华社  新华社照片，外代，2017年6月7日\\n（外代二线）蚕丝生产\\n6月6日，在印度特里普拉邦特...\n",
       "90509     23    新华社  新华社照片，外代，2017年6月7日\\n（外代二线）蚕丝生产\\n6月6日，在印度特里普拉邦特...\n",
       "90510     22    新华社  新华社照片，外代，2017年6月7日\\n（外代二线）蚕丝生产\\n5月30日，在印度特里普拉邦...\n",
       "90511     21    新华社  新华社照片，外代，2017年6月7日\\n（外代二线）蚕丝生产\\n6月6日，在印度特里普拉邦特...\n",
       "90512     20    新华社  新华社照片，外代，2017年6月7日\\n（外代二线）蚕丝生产\\n5月30日，在印度特里普拉邦...\n",
       "90513     19    新华社  \\n\\n2017年4月27日，在首尔光化门广场，民众在集会上手举反“萨德”标语。（新华社记者...\n",
       "90514     18    新华社  \\n新华社巴格达6月6日电（记者魏玉栋　程帅朋）伊拉克西部安巴尔省一处市场6日晚发生自杀式爆...\n",
       "90515     17    新华社  新华社照片，外代，2017年6月7日\\n（外代二线）足球——国际友谊赛：德国平丹麦\\n6月6...\n",
       "90516     16    新华社  新华社照片，外代，2017年6月7日\\n（外代二线）足球——国际友谊赛：德国平丹麦\\n6月6...\n",
       "90517     15    新华社  新华社照片，外代，2017年6月7日\\n（外代二线）足球——国际友谊赛：德国平丹麦\\n6月6...\n",
       "90518     14    新华社  新华社照片，外代，2017年6月7日\\n（外代二线）足球——国际友谊赛：德国平丹麦\\n6月6...\n",
       "90519     13    新华社  新华社照片，外代，2017年6月7日\\n（外代二线）足球——国际友谊赛：德国平丹麦\\n6月6...\n",
       "90520     12    新华社  新华社照片，外代，2017年6月7日\\n（外代二线）足球——国际友谊赛：德国平丹麦\\n6月6...\n",
       "90521     11    新华社  新华社照片，外代，2017年6月7日\\n（外代二线）足球——国际友谊赛：德国平丹麦\\n6月6...\n",
       "90522     10    新华社  新华社照片，外代，2017年6月7日\\n（外代二线）足球——国际友谊赛：德国平丹麦\\n6月6...\n",
       "90523      9    新华社  新华社照片，外代，2017年6月7日\\n（外代二线）足球——国际友谊赛：德国平丹麦\\n6月6...\n",
       "90524      8    新华社  新华社照片，北京，2017年6月7日\\n电影《血战湘江》举行清华大学巡映活动\\n6月6日，电...\n",
       "90525      7    新华社  新华社照片，北京，2017年6月7日\\n电影《血战湘江》举行清华大学巡映活动\\n6月6日，清...\n",
       "90526      6    新华社  新华社照片，北京，2017年6月7日\\n电影《血战湘江》举行清华大学巡映活动\\n6月6日，电...\n",
       "90527      5    新华社  新华社照片，多伦多，2017年6月7日\\n（体育）（2）冰球——国家女子冰球队海外选秀在多伦...\n",
       "90528      4    新华社  新华社兰州6月3日电（王衡、徐丹）记者从甘肃省交通运输厅获悉，甘肃近日集中开建高速公路、普通...\n",
       "90529      3    新华社  \\n\\n2017年5月29日，在法国巴黎郊外的凡尔赛宫，法国总统马克龙出席新闻发布会。（新华...\n",
       "90530      2    新华社  \\n\\n2017年5月25日，在美国马萨诸塞州剑桥市，哈佛大学毕业生在毕业典礼上欢呼。（新华...\n",
       "90531      1    新华社  　　新华社德国杜塞尔多夫６月６日电题：乒乓女球迷　\\n　　新华社记者王子江、张寒\\n　　熊老...\n",
       "\n",
       "[78855 rows x 3 columns]"
      ]
     },
     "execution_count": 10,
     "metadata": {},
     "output_type": "execute_result"
    }
   ],
   "source": [
    "news_csv[news_csv['source'].str.contains('新华')]"
   ]
  },
  {
   "cell_type": "code",
   "execution_count": 11,
   "metadata": {},
   "outputs": [
    {
     "name": "stderr",
     "output_type": "stream",
     "text": [
      "D:\\Anaconda3\\lib\\site-packages\\ipykernel_launcher.py:1: SettingWithCopyWarning: \n",
      "A value is trying to be set on a copy of a slice from a DataFrame.\n",
      "Try using .loc[row_indexer,col_indexer] = value instead\n",
      "\n",
      "See the caveats in the documentation: http://pandas.pydata.org/pandas-docs/stable/indexing.html#indexing-view-versus-copy\n",
      "  \"\"\"Entry point for launching an IPython kernel.\n"
     ]
    }
   ],
   "source": [
    "news_csv['is_xinhua'] = np.where(news_csv['source'].str.contains('新华'), 1, 0)"
   ]
  },
  {
   "cell_type": "code",
   "execution_count": 12,
   "metadata": {},
   "outputs": [
    {
     "data": {
      "text/html": [
       "<div>\n",
       "<style scoped>\n",
       "    .dataframe tbody tr th:only-of-type {\n",
       "        vertical-align: middle;\n",
       "    }\n",
       "\n",
       "    .dataframe tbody tr th {\n",
       "        vertical-align: top;\n",
       "    }\n",
       "\n",
       "    .dataframe thead th {\n",
       "        text-align: right;\n",
       "    }\n",
       "</style>\n",
       "<table border=\"1\" class=\"dataframe\">\n",
       "  <thead>\n",
       "    <tr style=\"text-align: right;\">\n",
       "      <th></th>\n",
       "      <th>id</th>\n",
       "      <th>source</th>\n",
       "      <th>content</th>\n",
       "      <th>is_xinhua</th>\n",
       "    </tr>\n",
       "  </thead>\n",
       "  <tbody>\n",
       "    <tr>\n",
       "      <th>0</th>\n",
       "      <td>89617</td>\n",
       "      <td>快科技@http://www.kkj.cn/</td>\n",
       "      <td>此外，自本周（6月12日）起，除小米手机6等15款机型外，其余机型已暂停更新发布（含开发版/...</td>\n",
       "      <td>0</td>\n",
       "    </tr>\n",
       "    <tr>\n",
       "      <th>1</th>\n",
       "      <td>89616</td>\n",
       "      <td>快科技@http://www.kkj.cn/</td>\n",
       "      <td>骁龙835作为唯一通过Windows 10桌面平台认证的ARM处理器，高通强调，不会因为只考...</td>\n",
       "      <td>0</td>\n",
       "    </tr>\n",
       "    <tr>\n",
       "      <th>2</th>\n",
       "      <td>89615</td>\n",
       "      <td>快科技@http://www.kkj.cn/</td>\n",
       "      <td>此前的一加3T搭载的是3400mAh电池，DashCharge快充规格为5V/4A。\\n至于...</td>\n",
       "      <td>0</td>\n",
       "    </tr>\n",
       "    <tr>\n",
       "      <th>3</th>\n",
       "      <td>89614</td>\n",
       "      <td>新华社</td>\n",
       "      <td>这是6月18日在葡萄牙中部大佩德罗冈地区拍摄的被森林大火烧毁的汽车。新华社记者张立云摄\\n</td>\n",
       "      <td>1</td>\n",
       "    </tr>\n",
       "    <tr>\n",
       "      <th>4</th>\n",
       "      <td>89613</td>\n",
       "      <td>深圳大件事</td>\n",
       "      <td>（原标题：44岁女子跑深圳约会网友被拒，暴雨中裸身奔走……）\\n@深圳交警微博称：昨日清晨交...</td>\n",
       "      <td>0</td>\n",
       "    </tr>\n",
       "  </tbody>\n",
       "</table>\n",
       "</div>"
      ],
      "text/plain": [
       "      id                  source  \\\n",
       "0  89617  快科技@http://www.kkj.cn/   \n",
       "1  89616  快科技@http://www.kkj.cn/   \n",
       "2  89615  快科技@http://www.kkj.cn/   \n",
       "3  89614                     新华社   \n",
       "4  89613                   深圳大件事   \n",
       "\n",
       "                                             content  is_xinhua  \n",
       "0  此外，自本周（6月12日）起，除小米手机6等15款机型外，其余机型已暂停更新发布（含开发版/...          0  \n",
       "1  骁龙835作为唯一通过Windows 10桌面平台认证的ARM处理器，高通强调，不会因为只考...          0  \n",
       "2  此前的一加3T搭载的是3400mAh电池，DashCharge快充规格为5V/4A。\\n至于...          0  \n",
       "3      这是6月18日在葡萄牙中部大佩德罗冈地区拍摄的被森林大火烧毁的汽车。新华社记者张立云摄\\n          1  \n",
       "4  （原标题：44岁女子跑深圳约会网友被拒，暴雨中裸身奔走……）\\n@深圳交警微博称：昨日清晨交...          0  "
      ]
     },
     "execution_count": 12,
     "metadata": {},
     "output_type": "execute_result"
    }
   ],
   "source": [
    "news_csv.head()"
   ]
  },
  {
   "cell_type": "markdown",
   "metadata": {},
   "source": [
    "## 2 Process Data"
   ]
  },
  {
   "cell_type": "markdown",
   "metadata": {},
   "source": [
    "## 2.1 Get 1000 samples of '新华社' and 1000 samples of '非新华社' "
   ]
  },
  {
   "cell_type": "code",
   "execution_count": 51,
   "metadata": {},
   "outputs": [],
   "source": [
    "X = []\n",
    "Y = []\n",
    "i = 0\n",
    "j = 0"
   ]
  },
  {
   "cell_type": "code",
   "execution_count": 52,
   "metadata": {},
   "outputs": [],
   "source": [
    "#电脑运行太慢了，先整200个试试水\n",
    "content_list = news_csv['content'].tolist()\n",
    "for k, boolean in enumerate(news_csv['is_xinhua']):\n",
    "    if boolean == 1 and i < 100:\n",
    "        X.append(content_list[k])\n",
    "        Y.append(1)\n",
    "        i += 1\n",
    "    elif boolean == 0 and j < 100:\n",
    "        X.append(content_list[k])\n",
    "        Y.append(0)\n",
    "        j += 1\n",
    "    elif i >= 100 and j >= 100:\n",
    "        break"
   ]
  },
  {
   "cell_type": "code",
   "execution_count": 53,
   "metadata": {},
   "outputs": [
    {
     "data": {
      "text/plain": [
       "200"
      ]
     },
     "execution_count": 53,
     "metadata": {},
     "output_type": "execute_result"
    }
   ],
   "source": [
    "len(X) "
   ]
  },
  {
   "cell_type": "code",
   "execution_count": 54,
   "metadata": {},
   "outputs": [
    {
     "data": {
      "text/plain": [
       "200"
      ]
     },
     "execution_count": 54,
     "metadata": {},
     "output_type": "execute_result"
    }
   ],
   "source": [
    "len(Y)"
   ]
  },
  {
   "cell_type": "markdown",
   "metadata": {},
   "source": [
    "## 2.2 Cut the samples"
   ]
  },
  {
   "cell_type": "code",
   "execution_count": 17,
   "metadata": {},
   "outputs": [
    {
     "name": "stderr",
     "output_type": "stream",
     "text": [
      "Building prefix dict from the default dictionary ...\n",
      "Loading model from cache C:\\Users\\ADMINI~1\\AppData\\Local\\Temp\\jieba.cache\n",
      "Loading model cost 1.108 seconds.\n",
      "Prefix dict has been built succesfully.\n"
     ]
    },
    {
     "data": {
      "text/plain": [
       "'这是 6 月 18 日 在 葡萄牙 中部 大 佩德罗 冈 地区 拍摄 的 被 森林 大火 烧毁 的 汽车 。 新华社 记者 张立 云摄 \\n'"
      ]
     },
     "execution_count": 17,
     "metadata": {},
     "output_type": "execute_result"
    }
   ],
   "source": [
    "' '.join(jieba.cut(news_csv['content'][3]))"
   ]
  },
  {
   "cell_type": "code",
   "execution_count": 18,
   "metadata": {},
   "outputs": [],
   "source": [
    "def token(string):\n",
    "    return ''.join(re.findall(r'[\\w|\\d]+', string))\n",
    "def cut(string):\n",
    "    return jieba.lcut(string)"
   ]
  },
  {
   "cell_type": "code",
   "execution_count": 56,
   "metadata": {},
   "outputs": [],
   "source": [
    "cut_X = []"
   ]
  },
  {
   "cell_type": "code",
   "execution_count": 57,
   "metadata": {},
   "outputs": [],
   "source": [
    "label = ['新华', '新华社', '新华网']\n",
    "for news in X:\n",
    "    tmp = cut(token(news))\n",
    "    for word in tmp:\n",
    "        if word in label:\n",
    "            tmp.remove(word)\n",
    "    cut_X.append(tmp)"
   ]
  },
  {
   "cell_type": "code",
   "execution_count": 58,
   "metadata": {},
   "outputs": [
    {
     "data": {
      "text/plain": [
       "200"
      ]
     },
     "execution_count": 58,
     "metadata": {},
     "output_type": "execute_result"
    }
   ],
   "source": [
    "len(cut_X)"
   ]
  },
  {
   "cell_type": "code",
   "execution_count": 59,
   "metadata": {},
   "outputs": [
    {
     "data": {
      "text/plain": [
       "['这是',\n",
       " '6',\n",
       " '月',\n",
       " '18',\n",
       " '日',\n",
       " '在',\n",
       " '葡萄牙',\n",
       " '中部',\n",
       " '大',\n",
       " '佩德罗',\n",
       " '冈',\n",
       " '地区',\n",
       " '拍摄',\n",
       " '的',\n",
       " '被',\n",
       " '森林',\n",
       " '大火',\n",
       " '烧毁',\n",
       " '的',\n",
       " '汽车',\n",
       " '记者',\n",
       " '张立',\n",
       " '云摄']"
      ]
     },
     "execution_count": 59,
     "metadata": {},
     "output_type": "execute_result"
    }
   ],
   "source": [
    "cut_X[3]"
   ]
  },
  {
   "cell_type": "markdown",
   "metadata": {},
   "source": [
    "# 3 Embdding"
   ]
  },
  {
   "cell_type": "markdown",
   "metadata": {},
   "source": [
    "## 3.1 Get the probability"
   ]
  },
  {
   "cell_type": "code",
   "execution_count": 23,
   "metadata": {},
   "outputs": [],
   "source": [
    "def memo(func):\n",
    "    cache = {}\n",
    "\n",
    "    def _wrap(*args): ## ? *args, **kwargs\n",
    "        if args in cache: result = cache[args]\n",
    "        else:\n",
    "            result = func(*args)\n",
    "            cache[args] = result\n",
    "        return result\n",
    "    return _wrap"
   ]
  },
  {
   "cell_type": "code",
   "execution_count": 24,
   "metadata": {},
   "outputs": [],
   "source": [
    "@memo\n",
    "def get_probability(word, model):\n",
    "    keys = model.vocab.keys()\n",
    "    total_words_count = sum([v.count for k, v in model.vocab.items()])\n",
    "    esp = 1 / total_words_count\n",
    "\n",
    "    if word in keys:\n",
    "        word_count = model.vocab[word].count\n",
    "        return word_count / total_words_count\n",
    "    else:\n",
    "        return esp"
   ]
  },
  {
   "cell_type": "code",
   "execution_count": 25,
   "metadata": {},
   "outputs": [],
   "source": [
    "Word2vec_model_path = r'D:\\Assignment\\Assignment_08\\X_Word2vec_model.w2v'"
   ]
  },
  {
   "cell_type": "code",
   "execution_count": 26,
   "metadata": {
    "scrolled": true
   },
   "outputs": [
    {
     "name": "stderr",
     "output_type": "stream",
     "text": [
      "D:\\Anaconda3\\lib\\site-packages\\gensim\\utils.py:1197: UserWarning: detected Windows; aliasing chunkize to chunkize_serial\n",
      "  warnings.warn(\"detected Windows; aliasing chunkize to chunkize_serial\")\n"
     ]
    }
   ],
   "source": [
    "import gensim"
   ]
  },
  {
   "cell_type": "code",
   "execution_count": 27,
   "metadata": {},
   "outputs": [],
   "source": [
    "word2vec = gensim.models.word2vec.Word2Vec.load(Word2vec_model_path).wv"
   ]
  },
  {
   "cell_type": "code",
   "execution_count": 28,
   "metadata": {},
   "outputs": [
    {
     "data": {
      "text/plain": [
       "4.5954059429572944e-05"
      ]
     },
     "execution_count": 28,
     "metadata": {},
     "output_type": "execute_result"
    }
   ],
   "source": [
    "get_probability('啊', word2vec)"
   ]
  },
  {
   "cell_type": "markdown",
   "metadata": {},
   "source": [
    "## 3.2 Get the SIF sentence embdding"
   ]
  },
  {
   "cell_type": "code",
   "execution_count": 29,
   "metadata": {},
   "outputs": [],
   "source": [
    "from sklearn.decomposition import PCA"
   ]
  },
  {
   "cell_type": "code",
   "execution_count": 30,
   "metadata": {},
   "outputs": [],
   "source": [
    "@memo\n",
    "def get_SIF(word, model, a=0.01):\n",
    "    return (a + get_probability(word, model))"
   ]
  },
  {
   "cell_type": "code",
   "execution_count": 31,
   "metadata": {},
   "outputs": [],
   "source": [
    "def SIF_sentence_embdding(sentence, model, a=0.01):\n",
    "    result = 0\n",
    "    i = 0\n",
    "    for word in sentence:\n",
    "        temp = model[word] * get_SIF(word, model)\n",
    "        result += temp\n",
    "    return result"
   ]
  },
  {
   "cell_type": "code",
   "execution_count": 32,
   "metadata": {},
   "outputs": [],
   "source": [
    "def PCA_SIF_sentence_embdding(news, model=word2vec, embedding_size=50, a=0.01):\n",
    "    X = [SIF_sentence_embdding(sentence, model) for sentence in news]\n",
    "    \n",
    "    pca = PCA(n_components=min(embedding_size, len(X)))\n",
    "    \n",
    "    pca.fit(np.array(X))\n",
    "    \n",
    "    u = pca.components_[0]  # the PCA vector\n",
    "    u = np.multiply(u, np.transpose(u))  # u x uT\n",
    "    \n",
    "    # pad the vector?  (occurs if we have less sentences than embeddings_size)\n",
    "    if len(u) < embedding_size:\n",
    "        for i in range(embedding_size - len(u)):\n",
    "            u = np.append(u, 0)  # add needed extension for multiplication below\n",
    "    # resulting sentence vectors, vs = vs -u x uT x vs\n",
    "    Y = []\n",
    "    for Vs in X:\n",
    "        sub = np.multiply(u, Vs)\n",
    "        Y.append(np.subtract(Vs, sub))\n",
    "    return Y"
   ]
  },
  {
   "cell_type": "code",
   "execution_count": 60,
   "metadata": {
    "scrolled": false
   },
   "outputs": [
    {
     "data": {
      "text/plain": [
       "200"
      ]
     },
     "execution_count": 60,
     "metadata": {},
     "output_type": "execute_result"
    }
   ],
   "source": [
    "len(cut_X)"
   ]
  },
  {
   "cell_type": "code",
   "execution_count": 62,
   "metadata": {},
   "outputs": [],
   "source": [
    "X = PCA_SIF_sentence_embdding(cut_X)"
   ]
  },
  {
   "cell_type": "code",
   "execution_count": 63,
   "metadata": {},
   "outputs": [
    {
     "data": {
      "text/plain": [
       "array([-0.3388332 ,  0.31367433, -1.1886572 , -0.19834372, -0.76355356,\n",
       "        0.78088987, -0.12510942, -0.04191329, -1.1362219 ,  1.3453871 ,\n",
       "        0.70736414, -0.02386289,  0.23305674, -0.08110896, -0.06191227,\n",
       "       -0.42825627,  0.86159015,  0.03354946,  0.45374542, -0.72452825,\n",
       "       -0.42216712,  0.06371682, -0.04275539,  1.0201747 , -0.70221204,\n",
       "       -0.40013233, -0.20592153,  0.8326778 , -0.19719183, -0.84711224,\n",
       "        0.4768416 ,  0.13187121, -0.00883853, -0.48734808, -0.6989546 ,\n",
       "       -0.74409974, -0.35922697, -0.17189074,  0.40694484,  0.9456374 ,\n",
       "        0.24614866,  0.19374016,  0.7415607 ,  0.8048215 ,  0.16519848,\n",
       "       -0.18348104,  0.33834675, -0.10276471,  0.53404146,  0.50047386],\n",
       "      dtype=float32)"
      ]
     },
     "execution_count": 63,
     "metadata": {},
     "output_type": "execute_result"
    }
   ],
   "source": [
    "X[0]"
   ]
  },
  {
   "cell_type": "markdown",
   "metadata": {},
   "source": [
    "# 4 Model construction"
   ]
  },
  {
   "cell_type": "markdown",
   "metadata": {},
   "source": [
    "## 4.1 Process data "
   ]
  },
  {
   "cell_type": "code",
   "execution_count": 64,
   "metadata": {},
   "outputs": [
    {
     "data": {
      "text/plain": [
       "200"
      ]
     },
     "execution_count": 64,
     "metadata": {},
     "output_type": "execute_result"
    }
   ],
   "source": [
    "len(Y)"
   ]
  },
  {
   "cell_type": "code",
   "execution_count": 65,
   "metadata": {},
   "outputs": [
    {
     "data": {
      "text/plain": [
       "(50,)"
      ]
     },
     "execution_count": 65,
     "metadata": {},
     "output_type": "execute_result"
    }
   ],
   "source": [
    "X[0].shape"
   ]
  },
  {
   "cell_type": "code",
   "execution_count": 66,
   "metadata": {},
   "outputs": [],
   "source": [
    "X = np.array(X)"
   ]
  },
  {
   "cell_type": "code",
   "execution_count": 67,
   "metadata": {},
   "outputs": [],
   "source": [
    "Y = np.array(Y)"
   ]
  },
  {
   "cell_type": "code",
   "execution_count": 68,
   "metadata": {},
   "outputs": [
    {
     "data": {
      "text/plain": [
       "(200, 50)"
      ]
     },
     "execution_count": 68,
     "metadata": {},
     "output_type": "execute_result"
    }
   ],
   "source": [
    "X.shape"
   ]
  },
  {
   "cell_type": "code",
   "execution_count": 69,
   "metadata": {},
   "outputs": [
    {
     "data": {
      "text/plain": [
       "(200,)"
      ]
     },
     "execution_count": 69,
     "metadata": {},
     "output_type": "execute_result"
    }
   ],
   "source": [
    "Y.shape"
   ]
  },
  {
   "cell_type": "markdown",
   "metadata": {},
   "source": [
    "## 4.2 Get the train data and the test data"
   ]
  },
  {
   "cell_type": "code",
   "execution_count": 70,
   "metadata": {},
   "outputs": [],
   "source": [
    "from sklearn.model_selection import train_test_split"
   ]
  },
  {
   "cell_type": "code",
   "execution_count": 71,
   "metadata": {},
   "outputs": [],
   "source": [
    "from sklearn.preprocessing import StandardScaler"
   ]
  },
  {
   "cell_type": "code",
   "execution_count": 72,
   "metadata": {},
   "outputs": [],
   "source": [
    "from sklearn.metrics import accuracy_score"
   ]
  },
  {
   "cell_type": "code",
   "execution_count": 73,
   "metadata": {},
   "outputs": [],
   "source": [
    "scaler = StandardScaler()"
   ]
  },
  {
   "cell_type": "code",
   "execution_count": 74,
   "metadata": {},
   "outputs": [],
   "source": [
    "X_train, X_test, y_train, y_test = train_test_split(X, Y, test_size=0.2, random_state=42)"
   ]
  },
  {
   "cell_type": "code",
   "execution_count": 75,
   "metadata": {},
   "outputs": [],
   "source": [
    "X_tr_arr = X_train\n",
    "X_ts_arr = X_test"
   ]
  },
  {
   "cell_type": "code",
   "execution_count": 76,
   "metadata": {},
   "outputs": [
    {
     "name": "stdout",
     "output_type": "stream",
     "text": [
      "Input Shape (160, 50)\n",
      "Output Shape (40, 50)\n"
     ]
    }
   ],
   "source": [
    "print('Input Shape', (X_tr_arr.shape))\n",
    "print('Output Shape', X_test.shape)"
   ]
  },
  {
   "cell_type": "code",
   "execution_count": 77,
   "metadata": {},
   "outputs": [
    {
     "name": "stdout",
     "output_type": "stream",
     "text": [
      "(160,)\n",
      "(40,)\n"
     ]
    }
   ],
   "source": [
    "print(y_train.shape)\n",
    "print(y_test.shape)"
   ]
  },
  {
   "cell_type": "code",
   "execution_count": 78,
   "metadata": {},
   "outputs": [],
   "source": [
    "y_tr_arr = y_train\n",
    "y_ts_arr = y_test"
   ]
  },
  {
   "cell_type": "code",
   "execution_count": 79,
   "metadata": {},
   "outputs": [
    {
     "data": {
      "text/plain": [
       "array([0, 0, 0, 1, 1, 1, 0, 1, 1, 0, 1, 1, 1, 0, 1, 1, 0, 1, 0, 0, 1, 0,\n",
       "       1, 0, 0, 0, 0, 0, 1, 1, 0, 1, 0, 0, 1, 0, 1, 1, 1, 0])"
      ]
     },
     "execution_count": 79,
     "metadata": {},
     "output_type": "execute_result"
    }
   ],
   "source": [
    "y_test"
   ]
  },
  {
   "cell_type": "markdown",
   "metadata": {},
   "source": [
    "## 4.3 Model construction"
   ]
  },
  {
   "cell_type": "code",
   "execution_count": 80,
   "metadata": {},
   "outputs": [],
   "source": [
    "def weightInitialization(n_features):\n",
    "    w = np.zeros((1,n_features))\n",
    "    b = 0\n",
    "    return w,b"
   ]
  },
  {
   "cell_type": "code",
   "execution_count": 81,
   "metadata": {},
   "outputs": [],
   "source": [
    "def sigmoid_activation(result):\n",
    "    final_result = 1/(1+np.exp(-result))\n",
    "    return final_result"
   ]
  },
  {
   "cell_type": "code",
   "execution_count": 82,
   "metadata": {},
   "outputs": [],
   "source": [
    "def model_optimize(w, b, X, Y):\n",
    "    m = X.shape[0]\n",
    "    \n",
    "    #Prediction\n",
    "    final_result = sigmoid_activation(np.dot(w,X.T)+b)\n",
    "    Y_T = Y.T\n",
    "    cost = (-1/m)*(np.sum((Y_T*np.log(final_result)) + ((1-Y_T)*(np.log(1-final_result)))))\n",
    "    #\n",
    "    \n",
    "    #Gradient calculation\n",
    "    dw = (1/m)*(np.dot(X.T, (final_result-Y.T).T))\n",
    "    db = (1/m)*(np.sum(final_result-Y.T))\n",
    "    \n",
    "    grads = {\"dw\": dw, \"db\": db}\n",
    "    \n",
    "    return grads, cost"
   ]
  },
  {
   "cell_type": "code",
   "execution_count": 83,
   "metadata": {},
   "outputs": [],
   "source": [
    "def model_predict(w, b, X, Y, learning_rate, no_iterations):\n",
    "    costs = []\n",
    "    for i in range(no_iterations):\n",
    "        #\n",
    "        grads, cost = model_optimize(w,b,X,Y)\n",
    "        #\n",
    "        dw = grads[\"dw\"]\n",
    "        db = grads[\"db\"]\n",
    "        #weight update\n",
    "        w = w - (learning_rate * (dw.T))\n",
    "        b = b - (learning_rate * db)\n",
    "        #\n",
    "        \n",
    "        if (i % 100 == 0):\n",
    "            costs.append(cost)\n",
    "            #print(\"Cost after %i iteration is %f\" %(i, cost))\n",
    "    \n",
    "    #final parameters\n",
    "    coeff = {\"w\": w, \"b\": b}\n",
    "    gradient = {\"dw\": dw, \"db\": db}\n",
    "    \n",
    "    return coeff, gradient, costs"
   ]
  },
  {
   "cell_type": "code",
   "execution_count": 84,
   "metadata": {},
   "outputs": [],
   "source": [
    "def predict(final_pred, m):\n",
    "    y_pred = np.zeros((1,m))\n",
    "    for i in range(final_pred.shape[1]):\n",
    "        if final_pred[0][i] > 0.5:\n",
    "            y_pred[0][i] = 1\n",
    "    return y_pred"
   ]
  },
  {
   "cell_type": "markdown",
   "metadata": {},
   "source": [
    "## 4.4 Executing the program"
   ]
  },
  {
   "cell_type": "code",
   "execution_count": 85,
   "metadata": {},
   "outputs": [],
   "source": [
    "from sklearn.metrics import precision_score\n",
    "from sklearn.metrics import recall_score\n",
    "from sklearn.metrics import roc_auc_score\n",
    "from sklearn.metrics import confusion_matrix"
   ]
  },
  {
   "cell_type": "code",
   "execution_count": 89,
   "metadata": {},
   "outputs": [
    {
     "name": "stdout",
     "output_type": "stream",
     "text": [
      "Number of Features 50\n",
      "Optimized weights [[ 0.35479099 -0.56476848  0.09757922  0.12394322 -0.24951935  0.18690543\n",
      "   0.13311243 -0.18012615 -0.12513902 -0.14408425 -0.04107524  0.21599251\n",
      "  -0.02174008  0.11329497  0.39639381 -0.14516101  0.06953018 -0.44596844\n",
      "  -0.12633309  0.28871597 -0.31420165 -0.00572824  0.08713572 -0.29868165\n",
      "   0.59490993  0.20263318 -0.13419436  0.63738078 -0.45048619  0.08837802\n",
      "   0.02696278 -0.31880879  0.31859153  0.03329851  0.03926058  0.15921332\n",
      "  -0.312046   -0.16090838 -0.13616818 -0.3679124  -0.34578065  0.01671083\n",
      "   0.2146049  -0.36755196  0.10397691  0.02787302  0.12482917  0.29568472\n",
      "  -0.371863    0.31578017]]\n",
      "Optimized intercept -0.2533004519975549\n",
      "Training Accuracy 0.93125\n",
      "precision_score 0.925\n",
      "recall_score 0.9367088607594937\n",
      "roc_auc_score 0.9313173933427098\n",
      "\n",
      "\n",
      "Test Accuracy 0.825\n",
      "precision_score 0.925\n",
      "recall_score 0.9367088607594937\n",
      "roc_auc_score 0.9313173933427098\n"
     ]
    }
   ],
   "source": [
    "#Get number of features\n",
    "n_features = X_tr_arr.shape[1]\n",
    "print('Number of Features', n_features)\n",
    "w, b = weightInitialization(n_features)\n",
    "#Gradient Descent\n",
    "coeff, gradient, costs = model_predict(w, b, X_tr_arr, y_tr_arr, learning_rate=0.0009,no_iterations=20000)\n",
    "#Final prediction\n",
    "w = coeff[\"w\"]\n",
    "b = coeff[\"b\"]\n",
    "print('Optimized weights', w)\n",
    "print('Optimized intercept',b)\n",
    "#\n",
    "final_train_pred = sigmoid_activation(np.dot(w,X_tr_arr.T)+b)\n",
    "final_test_pred = sigmoid_activation(np.dot(w,X_ts_arr.T)+b)\n",
    "#\n",
    "m_tr =  X_tr_arr.shape[0]\n",
    "m_ts =  X_ts_arr.shape[0]\n",
    "#\n",
    "y_tr_pred = predict(final_train_pred, m_tr)\n",
    "print('Training Accuracy',accuracy_score(y_tr_pred.T, y_tr_arr))\n",
    "print('precision_score',precision_score(y_tr_pred.T, y_tr_arr))\n",
    "print('recall_score',recall_score(y_tr_pred.T, y_tr_arr))\n",
    "print('roc_auc_score',roc_auc_score(y_tr_pred.T, y_tr_arr))\n",
    "#\n",
    "print('\\n')\n",
    "y_ts_pred = predict(final_test_pred, m_ts)\n",
    "print('Test Accuracy',accuracy_score(y_ts_pred.T, y_ts_arr))\n",
    "print('precision_score',precision_score(y_tr_pred.T, y_tr_arr))\n",
    "print('recall_score',recall_score(y_tr_pred.T, y_tr_arr))\n",
    "print('roc_auc_score',roc_auc_score(y_tr_pred.T, y_tr_arr))"
   ]
  },
  {
   "cell_type": "code",
   "execution_count": 90,
   "metadata": {},
   "outputs": [],
   "source": [
    "import matplotlib.pyplot as plt"
   ]
  },
  {
   "cell_type": "code",
   "execution_count": 92,
   "metadata": {},
   "outputs": [
    {
     "data": {
      "image/png": "[encoded data removed]",
      "text/plain": [
       "<Figure size 432x288 with 1 Axes>"
      ]
     },
     "metadata": {
      "needs_background": "light"
     },
     "output_type": "display_data"
    }
   ],
   "source": [
    "plt.plot(costs)\n",
    "plt.ylabel('cost')\n",
    "plt.xlabel('iterations')\n",
    "plt.title('Cost reduction over time')\n",
    "plt.show()"
   ]
  },
  {
   "cell_type": "markdown",
   "metadata": {},
   "source": [
    "# 5 Scikit-learn"
   ]
  },
  {
   "cell_type": "code",
   "execution_count": 98,
   "metadata": {},
   "outputs": [],
   "source": [
    "from sklearn.metrics import precision_score\n",
    "from sklearn.metrics import recall_score\n",
    "from sklearn.metrics import roc_auc_score\n",
    "from sklearn.metrics import confusion_matrix\n",
    "def get_performance(clf, X_, y_):\n",
    "    y_hat = clf.predict(X_)\n",
    "    print('percision is: {}'.format(precision_score(y_, y_hat)))\n",
    "    print('recall is: {}'.format(recall_score(y_, y_hat)))\n",
    "    print('roc_auc is: {}'.format(roc_auc_score(y_, y_hat)))\n",
    "    print('confusion matrix: \\n{}'.format(confusion_matrix(y_, y_hat, labels=[0, 1])))"
   ]
  },
  {
   "cell_type": "code",
   "execution_count": null,
   "metadata": {},
   "outputs": [],
   "source": [
    "X_train, X_test, y_train, y_test"
   ]
  },
  {
   "cell_type": "code",
   "execution_count": 96,
   "metadata": {},
   "outputs": [
    {
     "data": {
      "text/plain": [
       "GaussianNB(priors=None, var_smoothing=1e-09)"
      ]
     },
     "execution_count": 96,
     "metadata": {},
     "output_type": "execute_result"
    }
   ],
   "source": [
    "from sklearn.naive_bayes import GaussianNB\n",
    "clf = GaussianNB()\n",
    "clf.fit(X_train, y_train)"
   ]
  },
  {
   "cell_type": "code",
   "execution_count": 102,
   "metadata": {},
   "outputs": [
    {
     "name": "stdout",
     "output_type": "stream",
     "text": [
      "percision is: 0.5714285714285714\n",
      "recall is: 0.9\n",
      "roc_auc is: 0.6125\n",
      "confusion matrix: \n",
      "[[26 54]\n",
      " [ 8 72]]\n",
      "\n",
      "\n",
      "percision is: 0.53125\n",
      "recall is: 0.85\n",
      "roc_auc is: 0.55\n",
      "confusion matrix: \n",
      "[[ 5 15]\n",
      " [ 3 17]]\n"
     ]
    }
   ],
   "source": [
    "get_performance(clf,X_train,y_train)\n",
    "print('\\n')\n",
    "get_performance(clf,X_test,y_test)"
   ]
  },
  {
   "cell_type": "code",
   "execution_count": 106,
   "metadata": {},
   "outputs": [
    {
     "data": {
      "text/plain": [
       "DecisionTreeClassifier(class_weight={0: 5, 1: 4}, criterion='entropy',\n",
       "            max_depth=None, max_features=50, max_leaf_nodes=None,\n",
       "            min_impurity_decrease=0.0, min_impurity_split=None,\n",
       "            min_samples_leaf=1, min_samples_split=2,\n",
       "            min_weight_fraction_leaf=0.0, presort=False, random_state=None,\n",
       "            splitter='best')"
      ]
     },
     "execution_count": 106,
     "metadata": {},
     "output_type": "execute_result"
    }
   ],
   "source": [
    "from sklearn.tree import DecisionTreeClassifier\n",
    "clf_tree = DecisionTreeClassifier(class_weight={0:5,1:4},criterion='entropy',max_features=50)\n",
    "clf_tree.fit(X_train,y_train)"
   ]
  },
  {
   "cell_type": "code",
   "execution_count": 108,
   "metadata": {},
   "outputs": [
    {
     "name": "stdout",
     "output_type": "stream",
     "text": [
      "percision is: 1.0\n",
      "recall is: 1.0\n",
      "roc_auc is: 1.0\n",
      "confusion matrix: \n",
      "[[80  0]\n",
      " [ 0 80]]\n",
      "\n",
      "\n",
      "percision is: 0.8\n",
      "recall is: 0.8\n",
      "roc_auc is: 0.8\n",
      "confusion matrix: \n",
      "[[16  4]\n",
      " [ 4 16]]\n"
     ]
    }
   ],
   "source": [
    "get_performance(clf_tree,X_train,y_train)\n",
    "print('\\n')\n",
    "get_performance(clf_tree,X_test,y_test)"
   ]
  },
  {
   "cell_type": "code",
   "execution_count": null,
   "metadata": {},
   "outputs": [],
   "source": []
  }
 ],
 "metadata": {
  "kernelspec": {
   "display_name": "Python 3",
   "language": "python",
   "name": "python3"
  }
 },
 "nbformat": 4,
 "nbformat_minor": 2
}
