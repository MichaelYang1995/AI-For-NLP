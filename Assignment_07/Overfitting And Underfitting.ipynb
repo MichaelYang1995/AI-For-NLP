{
 "cells": [
  {
   "cell_type": "markdown",
   "metadata": {},
   "source": [
    "# Overfitting"
   ]
  },
  {
   "cell_type": "markdown",
   "metadata": {},
   "source": [
    "对于可获得的大多数样本集来说，噪声是无法避免的。"
   ]
  },
  {
   "cell_type": "markdown",
   "metadata": {},
   "source": [
    "样本集噪声的存在可能会造成，过拟合现象。"
   ]
  },
  {
   "cell_type": "markdown",
   "metadata": {},
   "source": [
    "在训练模型的过程中，我首先会凭借经验或粗略地观察数据做出一个初步的模型假设。 而在模型假设的过程中，我们会使用一个训练集进行训练，如果过于依赖数据，设计了一个复杂度很高的模型，追求数据的高度拟合，便会产生过拟合现象。"
   ]
  },
  {
   "cell_type": "markdown",
   "metadata": {},
   "source": [
    "过拟合出现的特征：高方差（存在噪声）、低偏差（高度依赖测试集）"
   ]
  },
  {
   "cell_type": "markdown",
   "metadata": {},
   "source": [
    "# Underfitting"
   ]
  },
  {
   "cell_type": "markdown",
   "metadata": {},
   "source": [
    "在训练过程中，设计了一个不合适的模型，从而忽视了数据，没有学习到输入与输出的潜在关系。"
   ]
  },
  {
   "cell_type": "markdown",
   "metadata": {},
   "source": [
    "模型设计的不合适是造成欠拟合现象的根本原因"
   ]
  },
  {
   "cell_type": "markdown",
   "metadata": {},
   "source": [
    "欠拟合出现的特征：低方差（模型不合适，匹配单一），高偏差（忽视数据）"
   ]
  },
  {
   "cell_type": "markdown",
   "metadata": {},
   "source": [
    "# How to solve these two problem"
   ]
  },
  {
   "cell_type": "markdown",
   "metadata": {},
   "source": [
    "在训练集与测试集直接增加一个验证集。"
   ]
  },
  {
   "cell_type": "markdown",
   "metadata": {},
   "source": [
    "验证集是从样本集中单独预留出来的数据集"
   ]
  },
  {
   "cell_type": "markdown",
   "metadata": {},
   "source": [
    "验证集作用：调整模型超参，对模型的能力进行初步评估。"
   ]
  }
 ],
 "metadata": {
  "kernelspec": {
   "display_name": "Python 3",
   "language": "python",
   "name": "python3"
  },
  "language_info": {
   "codemirror_mode": {
    "name": "ipython",
    "version": 3
   },
   "file_extension": ".py",
   "mimetype": "text/x-python",
   "name": "python",
   "nbconvert_exporter": "python",
   "pygments_lexer": "ipython3",
   "version": "3.6.6"
  }
 },
 "nbformat": 4,
 "nbformat_minor": 2
}
