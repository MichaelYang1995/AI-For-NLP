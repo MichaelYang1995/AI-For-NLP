{
 "cells": [
  {
   "cell_type": "markdown",
   "metadata": {},
   "source": [
    "### 1. Why we need machine learning methods instead of creating a complicated formula?¶\n",
    "Ans:\n",
    "   由于复杂模板的难度太大，且只能靠人工进行逻辑推演，无法利用庞大的数据。\n",
    "   机器学习可以利用海量的数据，且极大提高了算法模型的优化效果，降低了算法优化难度。"
   ]
  },
  {
   "cell_type": "markdown",
   "metadata": {},
   "source": [
    "### 2. What's the disadvantages of the 1st Random Choosen methods in our course?\n",
    "Ans:\n",
    "    在维度较低的情况下，可以使用第一种随机选择的方式。但是在高维度的情况中，可选择的情况太多，每次遍历所有情况的代价太大。"
   ]
  },
  {
   "cell_type": "markdown",
   "metadata": {},
   "source": [
    "### 3. Is the 2nd method supervised direction better than 1st one? What's the disadvantages of the 2nd supversied directin method?\n",
    "Ans:\n",
    "    第二种方法比第一种稍好一点。\n",
    "    第二种方法的缺点就是虽然是有方向的梯度降低，但仍然需要一个搜索的过程，对于高维度的梯度下降来说，代价仍然很大。"
   ]
  },
  {
   "cell_type": "markdown",
   "metadata": {},
   "source": [
    "### 4. Why do we use Derivative / Gredient to fit a target function?\n",
    "Ans:\n",
    "    因为导数代表着基于训练数据的loss函数相对于参数的变化方向。"
   ]
  },
  {
   "cell_type": "markdown",
   "metadata": {},
   "source": [
    "### 5. In the words'Gredient Descent, what's the Gredient and what's the Descent?\n",
    "Ans:\n",
    "    梯度是由于每一步loss函数均值的减小，是阶梯式的，并不连续。\n",
    "    下降是指loss函数均值下降到全局最小值，使估计值与真实值平均误差不断减小的动作（算法的参数优化）。"
   ]
  },
  {
   "cell_type": "markdown",
   "metadata": {},
   "source": [
    "### 6. What's the advantages of the 3rd gradient descent method compared to the previous methods?\n",
    "Ans:\n",
    "    每一次参数的优化方向是已知的，不需要寻找。"
   ]
  },
  {
   "cell_type": "markdown",
   "metadata": {},
   "source": [
    "### 7. Using the simple words to describe: What's the machine leanring.\n",
    "Ans:\n",
    "    机器学习是以数据驱动，通过以往经验（训练数据）来优化算法效果（通过不断改变参数，降低估计值与真实值误差）。"
   ]
  },
  {
   "cell_type": "markdown",
   "metadata": {},
   "source": [
    "### 8. Test your result with commercial applications.将你的结果和高德地图或者百度地图进行比较，如果有不同，请分析原因\n",
    "Ans:\n",
    "    结果有所不同，由于我的模型并没有考虑每一站的具体距离，只考虑了过站数和换乘次数，且高德地图与百度地图可能对于不同站和不同时间段的换乘行为\n",
    "花费的具体时间有相应数据和对应的算法，而我只是做了主观意义上简单的权重分配。"
   ]
  }
 ],
 "metadata": {
  "kernelspec": {
   "display_name": "Python 3",
   "language": "python",
   "name": "python3"
  },
  "language_info": {
   "codemirror_mode": {
    "name": "ipython",
    "version": 3
   },
   "file_extension": ".py",
   "mimetype": "text/x-python",
   "name": "python",
   "nbconvert_exporter": "python",
   "pygments_lexer": "ipython3",
   "version": "3.7.1"
  }
 },
 "nbformat": 4,
 "nbformat_minor": 2
}
