{
 "cells": [
  {
   "cell_type": "markdown",
   "metadata": {},
   "source": [
    "# 1 Prepear Work"
   ]
  },
  {
   "cell_type": "code",
   "execution_count": 1,
   "metadata": {},
   "outputs": [],
   "source": [
    "import os.path, jieba"
   ]
  },
  {
   "cell_type": "code",
   "execution_count": 2,
   "metadata": {},
   "outputs": [],
   "source": [
    "import pandas as pd"
   ]
  },
  {
   "cell_type": "code",
   "execution_count": 3,
   "metadata": {},
   "outputs": [],
   "source": [
    "word_content_path = r'D:\\Assignment\\Project_01\\news-word-cut.txt'"
   ]
  },
  {
   "cell_type": "code",
   "execution_count": 4,
   "metadata": {},
   "outputs": [],
   "source": [
    "sentence_content_path = r'D:\\Assignment\\Project_01\\news-sentence-cut.txt'"
   ]
  },
  {
   "cell_type": "code",
   "execution_count": 5,
   "metadata": {},
   "outputs": [],
   "source": [
    "sentence_content_with_punctuation_path = r'D:\\Assignment\\Project_01\\news-sentence-with-punctuation-cut.txt'"
   ]
  },
  {
   "cell_type": "code",
   "execution_count": 6,
   "metadata": {},
   "outputs": [],
   "source": [
    "sentence_word_content_path = r'D:\\Assignment\\Project_01\\news-sentence-word-cut.txt'"
   ]
  },
  {
   "cell_type": "code",
   "execution_count": 7,
   "metadata": {},
   "outputs": [],
   "source": [
    "def generate_word_list(file_path):\n",
    "    file = open(file_path, \"r\", encoding=\"utf-8\")\n",
    "    content_line = file.readline()\n",
    "    article_contents_list = []\n",
    "    i = 0\n",
    "    while content_line:\n",
    "        temp = ''\n",
    "        content_line = content_line.strip(\"\\n\")\n",
    "        if len(content_line) > 0:\n",
    "            for word in content_line:\n",
    "                if word == ' ':\n",
    "                    article_contents_list += [temp]\n",
    "                    temp = ''\n",
    "                else:\n",
    "                    temp = temp + word\n",
    "        content_line = file.readline()\n",
    "        if temp != '': article_contents_list += [temp]\n",
    "    return article_contents_list"
   ]
  },
  {
   "cell_type": "code",
   "execution_count": 8,
   "metadata": {},
   "outputs": [],
   "source": [
    "def generate_sentence_list(file_path):\n",
    "    file = open(file_path, \"r\", encoding=\"utf-8\")\n",
    "    content_line = file.readline()\n",
    "    temp_list = []\n",
    "    article_contents_list = []\n",
    "    while content_line:\n",
    "        if content_line == '\\n':\n",
    "            article_contents_list.append(temp_list)\n",
    "            temp_list = []\n",
    "        else:\n",
    "            content_line = content_line.strip('\\n')\n",
    "            temp_list.append(content_line)\n",
    "        content_line= file.readline()\n",
    "    return article_contents_list"
   ]
  },
  {
   "cell_type": "code",
   "execution_count": 9,
   "metadata": {},
   "outputs": [],
   "source": [
    "def generate_sentence_word_list(file_path):\n",
    "    file = open(file_path, \"r\", encoding=\"utf-8\")\n",
    "    content_line = file.readline()\n",
    "    temp_word = ''\n",
    "    temp_sentence = []\n",
    "    temp_news = []\n",
    "    article_contents_list = []\n",
    "    while content_line:\n",
    "        if content_line == '\\n':\n",
    "            article_contents_list.append(temp_news)\n",
    "            temp_news = []\n",
    "        else:\n",
    "            for word in content_line:\n",
    "                if word == ' ':\n",
    "                    temp_sentence.append(temp_word)\n",
    "                    temp_word = ''\n",
    "                elif word == '\\n':\n",
    "                    temp_news.append(temp_sentence)\n",
    "                    temp_sentence = []\n",
    "                else:\n",
    "                    temp_word = temp_word + word\n",
    "        content_line= file.readline()\n",
    "    return article_contents_list"
   ]
  },
  {
   "cell_type": "code",
   "execution_count": 10,
   "metadata": {},
   "outputs": [],
   "source": [
    "word_content = generate_word_list(word_content_path)"
   ]
  },
  {
   "cell_type": "code",
   "execution_count": 11,
   "metadata": {},
   "outputs": [],
   "source": [
    "sentence_content = generate_sentence_list(sentence_content_path)"
   ]
  },
  {
   "cell_type": "code",
   "execution_count": 12,
   "metadata": {},
   "outputs": [],
   "source": [
    "sentence_content_with_punctuation = generate_sentence_list(sentence_content_with_punctuation_path)"
   ]
  },
  {
   "cell_type": "code",
   "execution_count": null,
   "metadata": {},
   "outputs": [],
   "source": [
    "sentence_word_content = generate_sentence_word_list(sentence_word_content_path)"
   ]
  },
  {
   "cell_type": "code",
   "execution_count": 13,
   "metadata": {},
   "outputs": [
    {
     "data": {
      "text/plain": [
       "['此外，自本周（6月12日）起，除小米手机6等15款机型外，其余机型已暂停更新发布（含开发版/体验版内测，稳定版暂不受影响），以确保工程师可以集中全部精力进行系统优化工作。',\n",
       " '有人猜测这也是将精力主要用到MIUI 9的研发之中。',\n",
       " 'MIUI 8去年5月发布，距今已有一年有余，也是时候更新换代了。',\n",
       " '当然，关于MIUI 9的确切信息，我们还是等待官方消息。']"
      ]
     },
     "execution_count": 13,
     "metadata": {},
     "output_type": "execute_result"
    }
   ],
   "source": [
    "sentence_content_with_punctuation[0]"
   ]
  },
  {
   "cell_type": "code",
   "execution_count": 14,
   "metadata": {},
   "outputs": [
    {
     "data": {
      "text/plain": [
       "['此外自本周6月12日起除小米手机6等15款机型外其余机型已暂停更新发布含开发版体验版内测稳定版暂不受影响以确保工程师可以集中全部精力进行系统优化工作',\n",
       " '有人猜测这也是将精力主要用到MIUI9的研发之中',\n",
       " 'MIUI8去年5月发布距今已有一年有余也是时候更新换代了',\n",
       " '当然关于MIUI9的确切信息我们还是等待官方消息']"
      ]
     },
     "execution_count": 14,
     "metadata": {},
     "output_type": "execute_result"
    }
   ],
   "source": [
    "sentence_content[0]"
   ]
  },
  {
   "cell_type": "code",
   "execution_count": 16,
   "metadata": {},
   "outputs": [
    {
     "data": {
      "text/plain": [
       "['此外', '自', '本周', '6', '月', '12', '日起', '除', '小米', '手机']"
      ]
     },
     "execution_count": 16,
     "metadata": {},
     "output_type": "execute_result"
    }
   ],
   "source": [
    "word_content[0:10]"
   ]
  },
  {
   "cell_type": "code",
   "execution_count": 17,
   "metadata": {},
   "outputs": [
    {
     "data": {
      "text/plain": [
       "['此外',\n",
       " '自',\n",
       " '本周',\n",
       " '6',\n",
       " '月',\n",
       " '12',\n",
       " '日起',\n",
       " '除',\n",
       " '小米',\n",
       " '手机',\n",
       " '6',\n",
       " '等',\n",
       " '15',\n",
       " '款',\n",
       " '机型',\n",
       " '外',\n",
       " '其余',\n",
       " '机型',\n",
       " '已',\n",
       " '暂停',\n",
       " '更新',\n",
       " '发布',\n",
       " '含',\n",
       " '开发',\n",
       " '版',\n",
       " '体验版',\n",
       " '内测',\n",
       " '稳定版',\n",
       " '暂不受',\n",
       " '影响',\n",
       " '以',\n",
       " '确保',\n",
       " '工程师',\n",
       " '可以',\n",
       " '集中',\n",
       " '全部',\n",
       " '精力',\n",
       " '进行',\n",
       " '系统优化',\n",
       " '工作']"
      ]
     },
     "execution_count": 17,
     "metadata": {},
     "output_type": "execute_result"
    }
   ],
   "source": [
    "sentence_word_content[0][0]"
   ]
  },
  {
   "cell_type": "code",
   "execution_count": 18,
   "metadata": {},
   "outputs": [
    {
     "name": "stderr",
     "output_type": "stream",
     "text": [
      "D:\\Anaconda3\\lib\\site-packages\\gensim\\utils.py:1197: UserWarning: detected Windows; aliasing chunkize to chunkize_serial\n",
      "  warnings.warn(\"detected Windows; aliasing chunkize to chunkize_serial\")\n"
     ]
    }
   ],
   "source": [
    "import gensim"
   ]
  },
  {
   "cell_type": "code",
   "execution_count": 19,
   "metadata": {},
   "outputs": [],
   "source": [
    "word2vec = gensim.models.word2vec.Word2Vec.load(\"./Word2vec_model.w2v\").wv"
   ]
  },
  {
   "cell_type": "code",
   "execution_count": 20,
   "metadata": {},
   "outputs": [
    {
     "data": {
      "text/plain": [
       "[('毛用', 0.7442479729652405),\n",
       " ('生产工艺', 0.7230020761489868),\n",
       " ('肉用', 0.7132026553153992),\n",
       " ('因原', 0.7121168375015259),\n",
       " ('拙政园', 0.707581639289856),\n",
       " ('装配式', 0.7034838199615479),\n",
       " ('噪声', 0.6892940402030945),\n",
       " ('叶片', 0.6849146485328674),\n",
       " ('工艺性能', 0.6845957040786743),\n",
       " ('分箱', 0.6816134452819824)]"
      ]
     },
     "execution_count": 20,
     "metadata": {},
     "output_type": "execute_result"
    }
   ],
   "source": [
    "word2vec.most_similar('体验版', topn=10)"
   ]
  },
  {
   "cell_type": "markdown",
   "metadata": {},
   "source": [
    "# 2 Get the set of chinese words associated with ['说', '表示']"
   ]
  },
  {
   "cell_type": "code",
   "execution_count": 21,
   "metadata": {},
   "outputs": [],
   "source": [
    "from collections import defaultdict"
   ]
  },
  {
   "cell_type": "code",
   "execution_count": 22,
   "metadata": {},
   "outputs": [],
   "source": [
    "def memo(func):\n",
    "    cache = {}\n",
    "\n",
    "    def _wrap(*args): ## ? *args, **kwargs\n",
    "        if args in cache: result = cache[args]\n",
    "        else:\n",
    "            result = func(*args)\n",
    "            cache[args] = result\n",
    "        return result\n",
    "    return _wrap"
   ]
  },
  {
   "cell_type": "code",
   "execution_count": 23,
   "metadata": {},
   "outputs": [],
   "source": [
    "@memo\n",
    "def get_related_words_first(input_word, model):\n",
    "    return [word for word, val in model.most_similar(input_word, topn=20)]"
   ]
  },
  {
   "cell_type": "code",
   "execution_count": 24,
   "metadata": {},
   "outputs": [],
   "source": [
    "def get_related_words(initial_words, model):\n",
    "    unseen = initial_words\n",
    "    \n",
    "    seen = defaultdict(int)\n",
    "    \n",
    "    max_size = 500\n",
    "    \n",
    "    while unseen and len(seen) < max_size:\n",
    "        if len(seen) % 50 == 0: \n",
    "            print('seen length : {}'.format(len(seen)))\n",
    "        \n",
    "        now_word = unseen.pop(0)\n",
    "        \n",
    "        new_append = get_related_words_first(now_word, model)\n",
    "        \n",
    "        unseen += new_append\n",
    "        \n",
    "        seen[now_word] += 1\n",
    "    return seen"
   ]
  },
  {
   "cell_type": "code",
   "execution_count": 25,
   "metadata": {
    "scrolled": true
   },
   "outputs": [
    {
     "name": "stdout",
     "output_type": "stream",
     "text": [
      "seen length : 0\n",
      "seen length : 50\n",
      "seen length : 100\n",
      "seen length : 100\n",
      "seen length : 150\n",
      "seen length : 200\n",
      "seen length : 250\n",
      "seen length : 300\n",
      "seen length : 350\n",
      "seen length : 400\n",
      "seen length : 450\n"
     ]
    }
   ],
   "source": [
    "related_word = get_related_words(['说', '表示'], word2vec)"
   ]
  },
  {
   "cell_type": "code",
   "execution_count": 26,
   "metadata": {
    "scrolled": false
   },
   "outputs": [],
   "source": [
    "related_word = sorted(related_word.items(), key=lambda x: x[1], reverse=True)"
   ]
  },
  {
   "cell_type": "code",
   "execution_count": 51,
   "metadata": {},
   "outputs": [
    {
     "data": {
      "text/plain": [
       "[('表示', 93),\n",
       " ('说', 86),\n",
       " ('认为', 81),\n",
       " ('坦言', 75),\n",
       " ('透露', 73),\n",
       " ('指出', 68),\n",
       " ('告诉', 56),\n",
       " ('称', 51),\n",
       " ('介绍', 48),\n",
       " ('称赞', 42)]"
      ]
     },
     "execution_count": 51,
     "metadata": {},
     "output_type": "execute_result"
    }
   ],
   "source": [
    "related_word[:10]"
   ]
  },
  {
   "cell_type": "code",
   "execution_count": 28,
   "metadata": {},
   "outputs": [],
   "source": [
    "related_word_use = [word for word, val in related_word if val> 6]"
   ]
  },
  {
   "cell_type": "code",
   "execution_count": 50,
   "metadata": {},
   "outputs": [
    {
     "data": {
      "text/plain": [
       "['表示', '说', '认为', '坦言', '透露', '指出', '告诉', '称', '介绍', '称赞']"
      ]
     },
     "execution_count": 50,
     "metadata": {},
     "output_type": "execute_result"
    }
   ],
   "source": [
    "related_word_use[:10]"
   ]
  },
  {
   "cell_type": "markdown",
   "metadata": {},
   "source": [
    "# 3 SIF"
   ]
  },
  {
   "cell_type": "markdown",
   "metadata": {},
   "source": [
    "## 3.1 Get the probality of word"
   ]
  },
  {
   "cell_type": "code",
   "execution_count": 30,
   "metadata": {},
   "outputs": [],
   "source": [
    "from collections import Counter"
   ]
  },
  {
   "cell_type": "code",
   "execution_count": 31,
   "metadata": {},
   "outputs": [],
   "source": [
    "unigrams_dict = Counter(word_content)\n",
    "\n",
    "word_list_len = len(word_content)\n",
    "\n",
    "def get_unigrams_probability(word):\n",
    "    esp = 1 / word_list_len\n",
    "    if word in unigrams_dict:\n",
    "        return unigrams_dict[word] / word_list_len \n",
    "    else:\n",
    "        return esp"
   ]
  },
  {
   "cell_type": "code",
   "execution_count": 32,
   "metadata": {},
   "outputs": [
    {
     "data": {
      "text/plain": [
       "4.5933924963048614e-05"
      ]
     },
     "execution_count": 32,
     "metadata": {},
     "output_type": "execute_result"
    }
   ],
   "source": [
    "get_unigrams_probability('啊')"
   ]
  },
  {
   "cell_type": "markdown",
   "metadata": {},
   "source": [
    "## 3.2 Sentences embdding"
   ]
  },
  {
   "cell_type": "code",
   "execution_count": 33,
   "metadata": {},
   "outputs": [],
   "source": [
    "import numpy as np"
   ]
  },
  {
   "cell_type": "code",
   "execution_count": 34,
   "metadata": {},
   "outputs": [],
   "source": [
    "from sklearn.decomposition import PCA"
   ]
  },
  {
   "cell_type": "code",
   "execution_count": 35,
   "metadata": {},
   "outputs": [],
   "source": [
    "def get_SIF(word, a=0.01):\n",
    "    return (a + get_unigrams_probability(word))"
   ]
  },
  {
   "cell_type": "code",
   "execution_count": 36,
   "metadata": {},
   "outputs": [],
   "source": [
    "def SIF_sentence_embdding(sentence, a=0.01):\n",
    "    result = 0\n",
    "    i = 0\n",
    "    for word in sentence:\n",
    "        temp = word2vec[word] * get_SIF(word)\n",
    "        result += temp\n",
    "    return result"
   ]
  },
  {
   "cell_type": "code",
   "execution_count": 37,
   "metadata": {},
   "outputs": [],
   "source": [
    "def PCA_SIF_sentence_embdding(news, embedding_size=35, a=0.01):\n",
    "    X = [SIF_sentence_embdding(sentence) for sentence in news]\n",
    "    \n",
    "    pca = PCA(n_components=min(embedding_size, len(X)))\n",
    "    \n",
    "    pca.fit(np.array(X))\n",
    "    \n",
    "    u = pca.components_[0]  # the PCA vector\n",
    "    u = np.multiply(u, np.transpose(u))  # u x uT\n",
    "    \n",
    "    # pad the vector?  (occurs if we have less sentences than embeddings_size)\n",
    "    if len(u) < embedding_size:\n",
    "        for i in range(embedding_size - len(u)):\n",
    "            u = np.append(u, 0)  # add needed extension for multiplication below\n",
    "    # resulting sentence vectors, vs = vs -u x uT x vs\n",
    "    Y = []\n",
    "    for Vs in X:\n",
    "        sub = np.multiply(u, Vs)\n",
    "        Y.append(np.subtract(Vs, sub))\n",
    "    return Y"
   ]
  },
  {
   "cell_type": "code",
   "execution_count": 38,
   "metadata": {},
   "outputs": [],
   "source": [
    "from collections import defaultdict"
   ]
  },
  {
   "cell_type": "code",
   "execution_count": 39,
   "metadata": {},
   "outputs": [],
   "source": [
    "def generate_all_PCA_SIF_sentence_embdding(content):\n",
    "    result = []\n",
    "    for news in content:\n",
    "        yield PCA_SIF_sentence_embdding(news)"
   ]
  },
  {
   "cell_type": "code",
   "execution_count": 40,
   "metadata": {},
   "outputs": [],
   "source": [
    "#sentence_embdding = generate_all_PCA_SIF_sentence_embdding(sentence_word_content)"
   ]
  },
  {
   "cell_type": "code",
   "execution_count": 41,
   "metadata": {},
   "outputs": [],
   "source": [
    "from scipy.spatial.distance import cosine"
   ]
  },
  {
   "cell_type": "code",
   "execution_count": 42,
   "metadata": {},
   "outputs": [],
   "source": [
    "def distance(v1, v2):\n",
    "    return cosine(v1, v2)"
   ]
  },
  {
   "cell_type": "markdown",
   "metadata": {},
   "source": [
    "# 4 NER & Dependency Prasing"
   ]
  },
  {
   "cell_type": "code",
   "execution_count": 43,
   "metadata": {},
   "outputs": [],
   "source": [
    "from stanfordcorenlp import StanfordCoreNLP"
   ]
  },
  {
   "cell_type": "code",
   "execution_count": 44,
   "metadata": {},
   "outputs": [],
   "source": [
    "nlp = StanfordCoreNLP(r'D:\\stanford_nlp', lang='zh')"
   ]
  },
  {
   "cell_type": "markdown",
   "metadata": {},
   "source": [
    "# 5 execute program"
   ]
  },
  {
   "cell_type": "code",
   "execution_count": 45,
   "metadata": {},
   "outputs": [],
   "source": [
    "from collections import defaultdict"
   ]
  },
  {
   "cell_type": "code",
   "execution_count": 47,
   "metadata": {},
   "outputs": [
    {
     "name": "stderr",
     "output_type": "stream",
     "text": [
      "D:\\Anaconda3\\lib\\site-packages\\sklearn\\decomposition\\pca.py:444: RuntimeWarning: invalid value encountered in true_divide\n",
      "  explained_variance_ = (S ** 2) / (n_samples - 1)\n",
      "D:\\Anaconda3\\lib\\site-packages\\sklearn\\decomposition\\pca.py:444: RuntimeWarning: invalid value encountered in true_divide\n",
      "  explained_variance_ = (S ** 2) / (n_samples - 1)\n",
      "D:\\Anaconda3\\lib\\site-packages\\sklearn\\decomposition\\pca.py:444: RuntimeWarning: invalid value encountered in true_divide\n",
      "  explained_variance_ = (S ** 2) / (n_samples - 1)\n",
      "D:\\Anaconda3\\lib\\site-packages\\sklearn\\decomposition\\pca.py:444: RuntimeWarning: invalid value encountered in true_divide\n",
      "  explained_variance_ = (S ** 2) / (n_samples - 1)\n",
      "D:\\Anaconda3\\lib\\site-packages\\sklearn\\decomposition\\pca.py:444: RuntimeWarning: invalid value encountered in true_divide\n",
      "  explained_variance_ = (S ** 2) / (n_samples - 1)\n",
      "D:\\Anaconda3\\lib\\site-packages\\sklearn\\decomposition\\pca.py:444: RuntimeWarning: invalid value encountered in true_divide\n",
      "  explained_variance_ = (S ** 2) / (n_samples - 1)\n",
      "D:\\Anaconda3\\lib\\site-packages\\sklearn\\decomposition\\pca.py:444: RuntimeWarning: invalid value encountered in true_divide\n",
      "  explained_variance_ = (S ** 2) / (n_samples - 1)\n",
      "D:\\Anaconda3\\lib\\site-packages\\sklearn\\decomposition\\pca.py:444: RuntimeWarning: invalid value encountered in true_divide\n",
      "  explained_variance_ = (S ** 2) / (n_samples - 1)\n",
      "D:\\Anaconda3\\lib\\site-packages\\sklearn\\decomposition\\pca.py:444: RuntimeWarning: invalid value encountered in true_divide\n",
      "  explained_variance_ = (S ** 2) / (n_samples - 1)\n",
      "D:\\Anaconda3\\lib\\site-packages\\sklearn\\decomposition\\pca.py:444: RuntimeWarning: invalid value encountered in true_divide\n",
      "  explained_variance_ = (S ** 2) / (n_samples - 1)\n",
      "D:\\Anaconda3\\lib\\site-packages\\sklearn\\decomposition\\pca.py:444: RuntimeWarning: invalid value encountered in true_divide\n",
      "  explained_variance_ = (S ** 2) / (n_samples - 1)\n",
      "D:\\Anaconda3\\lib\\site-packages\\sklearn\\decomposition\\pca.py:444: RuntimeWarning: invalid value encountered in true_divide\n",
      "  explained_variance_ = (S ** 2) / (n_samples - 1)\n",
      "D:\\Anaconda3\\lib\\site-packages\\sklearn\\decomposition\\pca.py:444: RuntimeWarning: invalid value encountered in true_divide\n",
      "  explained_variance_ = (S ** 2) / (n_samples - 1)\n",
      "D:\\Anaconda3\\lib\\site-packages\\sklearn\\decomposition\\pca.py:444: RuntimeWarning: invalid value encountered in true_divide\n",
      "  explained_variance_ = (S ** 2) / (n_samples - 1)\n",
      "D:\\Anaconda3\\lib\\site-packages\\sklearn\\decomposition\\pca.py:444: RuntimeWarning: invalid value encountered in true_divide\n",
      "  explained_variance_ = (S ** 2) / (n_samples - 1)\n",
      "D:\\Anaconda3\\lib\\site-packages\\sklearn\\decomposition\\pca.py:444: RuntimeWarning: invalid value encountered in true_divide\n",
      "  explained_variance_ = (S ** 2) / (n_samples - 1)\n",
      "D:\\Anaconda3\\lib\\site-packages\\sklearn\\decomposition\\pca.py:444: RuntimeWarning: invalid value encountered in true_divide\n",
      "  explained_variance_ = (S ** 2) / (n_samples - 1)\n",
      "D:\\Anaconda3\\lib\\site-packages\\sklearn\\decomposition\\pca.py:444: RuntimeWarning: invalid value encountered in true_divide\n",
      "  explained_variance_ = (S ** 2) / (n_samples - 1)\n",
      "D:\\Anaconda3\\lib\\site-packages\\sklearn\\decomposition\\pca.py:444: RuntimeWarning: invalid value encountered in true_divide\n",
      "  explained_variance_ = (S ** 2) / (n_samples - 1)\n",
      "D:\\Anaconda3\\lib\\site-packages\\sklearn\\decomposition\\pca.py:444: RuntimeWarning: invalid value encountered in true_divide\n",
      "  explained_variance_ = (S ** 2) / (n_samples - 1)\n",
      "D:\\Anaconda3\\lib\\site-packages\\sklearn\\decomposition\\pca.py:444: RuntimeWarning: invalid value encountered in true_divide\n",
      "  explained_variance_ = (S ** 2) / (n_samples - 1)\n",
      "D:\\Anaconda3\\lib\\site-packages\\sklearn\\decomposition\\pca.py:444: RuntimeWarning: invalid value encountered in true_divide\n",
      "  explained_variance_ = (S ** 2) / (n_samples - 1)\n",
      "D:\\Anaconda3\\lib\\site-packages\\sklearn\\decomposition\\pca.py:444: RuntimeWarning: invalid value encountered in true_divide\n",
      "  explained_variance_ = (S ** 2) / (n_samples - 1)\n",
      "D:\\Anaconda3\\lib\\site-packages\\sklearn\\decomposition\\pca.py:444: RuntimeWarning: invalid value encountered in true_divide\n",
      "  explained_variance_ = (S ** 2) / (n_samples - 1)\n",
      "D:\\Anaconda3\\lib\\site-packages\\sklearn\\decomposition\\pca.py:444: RuntimeWarning: invalid value encountered in true_divide\n",
      "  explained_variance_ = (S ** 2) / (n_samples - 1)\n",
      "D:\\Anaconda3\\lib\\site-packages\\sklearn\\decomposition\\pca.py:444: RuntimeWarning: invalid value encountered in true_divide\n",
      "  explained_variance_ = (S ** 2) / (n_samples - 1)\n",
      "D:\\Anaconda3\\lib\\site-packages\\sklearn\\decomposition\\pca.py:444: RuntimeWarning: invalid value encountered in true_divide\n",
      "  explained_variance_ = (S ** 2) / (n_samples - 1)\n",
      "D:\\Anaconda3\\lib\\site-packages\\sklearn\\decomposition\\pca.py:444: RuntimeWarning: invalid value encountered in true_divide\n",
      "  explained_variance_ = (S ** 2) / (n_samples - 1)\n",
      "D:\\Anaconda3\\lib\\site-packages\\sklearn\\decomposition\\pca.py:444: RuntimeWarning: invalid value encountered in true_divide\n",
      "  explained_variance_ = (S ** 2) / (n_samples - 1)\n",
      "D:\\Anaconda3\\lib\\site-packages\\sklearn\\decomposition\\pca.py:444: RuntimeWarning: invalid value encountered in true_divide\n",
      "  explained_variance_ = (S ** 2) / (n_samples - 1)\n",
      "D:\\Anaconda3\\lib\\site-packages\\sklearn\\decomposition\\pca.py:444: RuntimeWarning: invalid value encountered in true_divide\n",
      "  explained_variance_ = (S ** 2) / (n_samples - 1)\n",
      "D:\\Anaconda3\\lib\\site-packages\\sklearn\\decomposition\\pca.py:444: RuntimeWarning: invalid value encountered in true_divide\n",
      "  explained_variance_ = (S ** 2) / (n_samples - 1)\n",
      "D:\\Anaconda3\\lib\\site-packages\\sklearn\\decomposition\\pca.py:444: RuntimeWarning: invalid value encountered in true_divide\n",
      "  explained_variance_ = (S ** 2) / (n_samples - 1)\n",
      "D:\\Anaconda3\\lib\\site-packages\\sklearn\\decomposition\\pca.py:444: RuntimeWarning: invalid value encountered in true_divide\n",
      "  explained_variance_ = (S ** 2) / (n_samples - 1)\n",
      "D:\\Anaconda3\\lib\\site-packages\\sklearn\\decomposition\\pca.py:444: RuntimeWarning: invalid value encountered in true_divide\n",
      "  explained_variance_ = (S ** 2) / (n_samples - 1)\n",
      "D:\\Anaconda3\\lib\\site-packages\\sklearn\\decomposition\\pca.py:444: RuntimeWarning: invalid value encountered in true_divide\n",
      "  explained_variance_ = (S ** 2) / (n_samples - 1)\n",
      "D:\\Anaconda3\\lib\\site-packages\\sklearn\\decomposition\\pca.py:444: RuntimeWarning: invalid value encountered in true_divide\n",
      "  explained_variance_ = (S ** 2) / (n_samples - 1)\n",
      "D:\\Anaconda3\\lib\\site-packages\\sklearn\\decomposition\\pca.py:444: RuntimeWarning: invalid value encountered in true_divide\n",
      "  explained_variance_ = (S ** 2) / (n_samples - 1)\n",
      "D:\\Anaconda3\\lib\\site-packages\\sklearn\\decomposition\\pca.py:444: RuntimeWarning: invalid value encountered in true_divide\n",
      "  explained_variance_ = (S ** 2) / (n_samples - 1)\n",
      "D:\\Anaconda3\\lib\\site-packages\\sklearn\\decomposition\\pca.py:444: RuntimeWarning: invalid value encountered in true_divide\n",
      "  explained_variance_ = (S ** 2) / (n_samples - 1)\n",
      "D:\\Anaconda3\\lib\\site-packages\\sklearn\\decomposition\\pca.py:444: RuntimeWarning: invalid value encountered in true_divide\n",
      "  explained_variance_ = (S ** 2) / (n_samples - 1)\n",
      "D:\\Anaconda3\\lib\\site-packages\\sklearn\\decomposition\\pca.py:444: RuntimeWarning: invalid value encountered in true_divide\n",
      "  explained_variance_ = (S ** 2) / (n_samples - 1)\n",
      "D:\\Anaconda3\\lib\\site-packages\\sklearn\\decomposition\\pca.py:444: RuntimeWarning: invalid value encountered in true_divide\n",
      "  explained_variance_ = (S ** 2) / (n_samples - 1)\n",
      "D:\\Anaconda3\\lib\\site-packages\\sklearn\\decomposition\\pca.py:444: RuntimeWarning: invalid value encountered in true_divide\n",
      "  explained_variance_ = (S ** 2) / (n_samples - 1)\n",
      "D:\\Anaconda3\\lib\\site-packages\\sklearn\\decomposition\\pca.py:444: RuntimeWarning: invalid value encountered in true_divide\n",
      "  explained_variance_ = (S ** 2) / (n_samples - 1)\n",
      "D:\\Anaconda3\\lib\\site-packages\\sklearn\\decomposition\\pca.py:444: RuntimeWarning: invalid value encountered in true_divide\n",
      "  explained_variance_ = (S ** 2) / (n_samples - 1)\n",
      "D:\\Anaconda3\\lib\\site-packages\\sklearn\\decomposition\\pca.py:444: RuntimeWarning: invalid value encountered in true_divide\n",
      "  explained_variance_ = (S ** 2) / (n_samples - 1)\n",
      "D:\\Anaconda3\\lib\\site-packages\\sklearn\\decomposition\\pca.py:444: RuntimeWarning: invalid value encountered in true_divide\n",
      "  explained_variance_ = (S ** 2) / (n_samples - 1)\n"
     ]
    },
    {
     "name": "stderr",
     "output_type": "stream",
     "text": [
      "D:\\Anaconda3\\lib\\site-packages\\sklearn\\decomposition\\pca.py:444: RuntimeWarning: invalid value encountered in true_divide\n",
      "  explained_variance_ = (S ** 2) / (n_samples - 1)\n",
      "D:\\Anaconda3\\lib\\site-packages\\sklearn\\decomposition\\pca.py:444: RuntimeWarning: invalid value encountered in true_divide\n",
      "  explained_variance_ = (S ** 2) / (n_samples - 1)\n",
      "D:\\Anaconda3\\lib\\site-packages\\sklearn\\decomposition\\pca.py:444: RuntimeWarning: invalid value encountered in true_divide\n",
      "  explained_variance_ = (S ** 2) / (n_samples - 1)\n",
      "D:\\Anaconda3\\lib\\site-packages\\sklearn\\decomposition\\pca.py:444: RuntimeWarning: invalid value encountered in true_divide\n",
      "  explained_variance_ = (S ** 2) / (n_samples - 1)\n",
      "D:\\Anaconda3\\lib\\site-packages\\sklearn\\decomposition\\pca.py:444: RuntimeWarning: invalid value encountered in true_divide\n",
      "  explained_variance_ = (S ** 2) / (n_samples - 1)\n",
      "D:\\Anaconda3\\lib\\site-packages\\sklearn\\decomposition\\pca.py:444: RuntimeWarning: invalid value encountered in true_divide\n",
      "  explained_variance_ = (S ** 2) / (n_samples - 1)\n",
      "D:\\Anaconda3\\lib\\site-packages\\sklearn\\decomposition\\pca.py:444: RuntimeWarning: invalid value encountered in true_divide\n",
      "  explained_variance_ = (S ** 2) / (n_samples - 1)\n",
      "D:\\Anaconda3\\lib\\site-packages\\sklearn\\decomposition\\pca.py:444: RuntimeWarning: invalid value encountered in true_divide\n",
      "  explained_variance_ = (S ** 2) / (n_samples - 1)\n",
      "D:\\Anaconda3\\lib\\site-packages\\sklearn\\decomposition\\pca.py:444: RuntimeWarning: invalid value encountered in true_divide\n",
      "  explained_variance_ = (S ** 2) / (n_samples - 1)\n",
      "D:\\Anaconda3\\lib\\site-packages\\sklearn\\decomposition\\pca.py:444: RuntimeWarning: invalid value encountered in true_divide\n",
      "  explained_variance_ = (S ** 2) / (n_samples - 1)\n",
      "D:\\Anaconda3\\lib\\site-packages\\sklearn\\decomposition\\pca.py:444: RuntimeWarning: invalid value encountered in true_divide\n",
      "  explained_variance_ = (S ** 2) / (n_samples - 1)\n",
      "D:\\Anaconda3\\lib\\site-packages\\sklearn\\decomposition\\pca.py:444: RuntimeWarning: invalid value encountered in true_divide\n",
      "  explained_variance_ = (S ** 2) / (n_samples - 1)\n",
      "D:\\Anaconda3\\lib\\site-packages\\sklearn\\decomposition\\pca.py:444: RuntimeWarning: invalid value encountered in true_divide\n",
      "  explained_variance_ = (S ** 2) / (n_samples - 1)\n",
      "D:\\Anaconda3\\lib\\site-packages\\sklearn\\decomposition\\pca.py:444: RuntimeWarning: invalid value encountered in true_divide\n",
      "  explained_variance_ = (S ** 2) / (n_samples - 1)\n",
      "D:\\Anaconda3\\lib\\site-packages\\sklearn\\decomposition\\pca.py:444: RuntimeWarning: invalid value encountered in true_divide\n",
      "  explained_variance_ = (S ** 2) / (n_samples - 1)\n",
      "D:\\Anaconda3\\lib\\site-packages\\sklearn\\decomposition\\pca.py:444: RuntimeWarning: invalid value encountered in true_divide\n",
      "  explained_variance_ = (S ** 2) / (n_samples - 1)\n",
      "D:\\Anaconda3\\lib\\site-packages\\sklearn\\decomposition\\pca.py:444: RuntimeWarning: invalid value encountered in true_divide\n",
      "  explained_variance_ = (S ** 2) / (n_samples - 1)\n",
      "D:\\Anaconda3\\lib\\site-packages\\sklearn\\decomposition\\pca.py:444: RuntimeWarning: invalid value encountered in true_divide\n",
      "  explained_variance_ = (S ** 2) / (n_samples - 1)\n",
      "D:\\Anaconda3\\lib\\site-packages\\sklearn\\decomposition\\pca.py:444: RuntimeWarning: invalid value encountered in true_divide\n",
      "  explained_variance_ = (S ** 2) / (n_samples - 1)\n",
      "D:\\Anaconda3\\lib\\site-packages\\sklearn\\decomposition\\pca.py:444: RuntimeWarning: invalid value encountered in true_divide\n",
      "  explained_variance_ = (S ** 2) / (n_samples - 1)\n",
      "D:\\Anaconda3\\lib\\site-packages\\sklearn\\decomposition\\pca.py:444: RuntimeWarning: invalid value encountered in true_divide\n",
      "  explained_variance_ = (S ** 2) / (n_samples - 1)\n",
      "D:\\Anaconda3\\lib\\site-packages\\sklearn\\decomposition\\pca.py:444: RuntimeWarning: invalid value encountered in true_divide\n",
      "  explained_variance_ = (S ** 2) / (n_samples - 1)\n",
      "D:\\Anaconda3\\lib\\site-packages\\sklearn\\decomposition\\pca.py:444: RuntimeWarning: invalid value encountered in true_divide\n",
      "  explained_variance_ = (S ** 2) / (n_samples - 1)\n",
      "D:\\Anaconda3\\lib\\site-packages\\sklearn\\decomposition\\pca.py:444: RuntimeWarning: invalid value encountered in true_divide\n",
      "  explained_variance_ = (S ** 2) / (n_samples - 1)\n",
      "D:\\Anaconda3\\lib\\site-packages\\sklearn\\decomposition\\pca.py:444: RuntimeWarning: invalid value encountered in true_divide\n",
      "  explained_variance_ = (S ** 2) / (n_samples - 1)\n",
      "D:\\Anaconda3\\lib\\site-packages\\sklearn\\decomposition\\pca.py:444: RuntimeWarning: invalid value encountered in true_divide\n",
      "  explained_variance_ = (S ** 2) / (n_samples - 1)\n",
      "D:\\Anaconda3\\lib\\site-packages\\sklearn\\decomposition\\pca.py:444: RuntimeWarning: invalid value encountered in true_divide\n",
      "  explained_variance_ = (S ** 2) / (n_samples - 1)\n",
      "D:\\Anaconda3\\lib\\site-packages\\sklearn\\decomposition\\pca.py:444: RuntimeWarning: invalid value encountered in true_divide\n",
      "  explained_variance_ = (S ** 2) / (n_samples - 1)\n",
      "D:\\Anaconda3\\lib\\site-packages\\sklearn\\decomposition\\pca.py:444: RuntimeWarning: invalid value encountered in true_divide\n",
      "  explained_variance_ = (S ** 2) / (n_samples - 1)\n",
      "D:\\Anaconda3\\lib\\site-packages\\sklearn\\decomposition\\pca.py:444: RuntimeWarning: invalid value encountered in true_divide\n",
      "  explained_variance_ = (S ** 2) / (n_samples - 1)\n",
      "D:\\Anaconda3\\lib\\site-packages\\sklearn\\decomposition\\pca.py:444: RuntimeWarning: invalid value encountered in true_divide\n",
      "  explained_variance_ = (S ** 2) / (n_samples - 1)\n",
      "D:\\Anaconda3\\lib\\site-packages\\sklearn\\decomposition\\pca.py:444: RuntimeWarning: invalid value encountered in true_divide\n",
      "  explained_variance_ = (S ** 2) / (n_samples - 1)\n",
      "D:\\Anaconda3\\lib\\site-packages\\sklearn\\decomposition\\pca.py:444: RuntimeWarning: invalid value encountered in true_divide\n",
      "  explained_variance_ = (S ** 2) / (n_samples - 1)\n",
      "D:\\Anaconda3\\lib\\site-packages\\sklearn\\decomposition\\pca.py:444: RuntimeWarning: invalid value encountered in true_divide\n",
      "  explained_variance_ = (S ** 2) / (n_samples - 1)\n",
      "D:\\Anaconda3\\lib\\site-packages\\sklearn\\decomposition\\pca.py:444: RuntimeWarning: invalid value encountered in true_divide\n",
      "  explained_variance_ = (S ** 2) / (n_samples - 1)\n",
      "D:\\Anaconda3\\lib\\site-packages\\sklearn\\decomposition\\pca.py:444: RuntimeWarning: invalid value encountered in true_divide\n",
      "  explained_variance_ = (S ** 2) / (n_samples - 1)\n",
      "D:\\Anaconda3\\lib\\site-packages\\sklearn\\decomposition\\pca.py:444: RuntimeWarning: invalid value encountered in true_divide\n",
      "  explained_variance_ = (S ** 2) / (n_samples - 1)\n",
      "D:\\Anaconda3\\lib\\site-packages\\sklearn\\decomposition\\pca.py:444: RuntimeWarning: invalid value encountered in true_divide\n",
      "  explained_variance_ = (S ** 2) / (n_samples - 1)\n",
      "D:\\Anaconda3\\lib\\site-packages\\sklearn\\decomposition\\pca.py:444: RuntimeWarning: invalid value encountered in true_divide\n",
      "  explained_variance_ = (S ** 2) / (n_samples - 1)\n",
      "D:\\Anaconda3\\lib\\site-packages\\sklearn\\decomposition\\pca.py:444: RuntimeWarning: invalid value encountered in true_divide\n",
      "  explained_variance_ = (S ** 2) / (n_samples - 1)\n",
      "D:\\Anaconda3\\lib\\site-packages\\sklearn\\decomposition\\pca.py:444: RuntimeWarning: invalid value encountered in true_divide\n",
      "  explained_variance_ = (S ** 2) / (n_samples - 1)\n",
      "D:\\Anaconda3\\lib\\site-packages\\sklearn\\decomposition\\pca.py:444: RuntimeWarning: invalid value encountered in true_divide\n",
      "  explained_variance_ = (S ** 2) / (n_samples - 1)\n",
      "D:\\Anaconda3\\lib\\site-packages\\sklearn\\decomposition\\pca.py:444: RuntimeWarning: invalid value encountered in true_divide\n",
      "  explained_variance_ = (S ** 2) / (n_samples - 1)\n",
      "D:\\Anaconda3\\lib\\site-packages\\sklearn\\decomposition\\pca.py:444: RuntimeWarning: invalid value encountered in true_divide\n",
      "  explained_variance_ = (S ** 2) / (n_samples - 1)\n",
      "D:\\Anaconda3\\lib\\site-packages\\sklearn\\decomposition\\pca.py:444: RuntimeWarning: invalid value encountered in true_divide\n",
      "  explained_variance_ = (S ** 2) / (n_samples - 1)\n",
      "D:\\Anaconda3\\lib\\site-packages\\sklearn\\decomposition\\pca.py:444: RuntimeWarning: invalid value encountered in true_divide\n",
      "  explained_variance_ = (S ** 2) / (n_samples - 1)\n",
      "D:\\Anaconda3\\lib\\site-packages\\sklearn\\decomposition\\pca.py:444: RuntimeWarning: invalid value encountered in true_divide\n",
      "  explained_variance_ = (S ** 2) / (n_samples - 1)\n",
      "D:\\Anaconda3\\lib\\site-packages\\sklearn\\decomposition\\pca.py:444: RuntimeWarning: invalid value encountered in true_divide\n",
      "  explained_variance_ = (S ** 2) / (n_samples - 1)\n"
     ]
    },
    {
     "name": "stderr",
     "output_type": "stream",
     "text": [
      "D:\\Anaconda3\\lib\\site-packages\\sklearn\\decomposition\\pca.py:444: RuntimeWarning: invalid value encountered in true_divide\n",
      "  explained_variance_ = (S ** 2) / (n_samples - 1)\n",
      "D:\\Anaconda3\\lib\\site-packages\\sklearn\\decomposition\\pca.py:444: RuntimeWarning: invalid value encountered in true_divide\n",
      "  explained_variance_ = (S ** 2) / (n_samples - 1)\n",
      "D:\\Anaconda3\\lib\\site-packages\\sklearn\\decomposition\\pca.py:444: RuntimeWarning: invalid value encountered in true_divide\n",
      "  explained_variance_ = (S ** 2) / (n_samples - 1)\n",
      "D:\\Anaconda3\\lib\\site-packages\\sklearn\\decomposition\\pca.py:444: RuntimeWarning: invalid value encountered in true_divide\n",
      "  explained_variance_ = (S ** 2) / (n_samples - 1)\n",
      "D:\\Anaconda3\\lib\\site-packages\\sklearn\\decomposition\\pca.py:444: RuntimeWarning: invalid value encountered in true_divide\n",
      "  explained_variance_ = (S ** 2) / (n_samples - 1)\n",
      "D:\\Anaconda3\\lib\\site-packages\\sklearn\\decomposition\\pca.py:444: RuntimeWarning: invalid value encountered in true_divide\n",
      "  explained_variance_ = (S ** 2) / (n_samples - 1)\n",
      "D:\\Anaconda3\\lib\\site-packages\\sklearn\\decomposition\\pca.py:444: RuntimeWarning: invalid value encountered in true_divide\n",
      "  explained_variance_ = (S ** 2) / (n_samples - 1)\n",
      "D:\\Anaconda3\\lib\\site-packages\\sklearn\\decomposition\\pca.py:444: RuntimeWarning: invalid value encountered in true_divide\n",
      "  explained_variance_ = (S ** 2) / (n_samples - 1)\n",
      "D:\\Anaconda3\\lib\\site-packages\\sklearn\\decomposition\\pca.py:444: RuntimeWarning: invalid value encountered in true_divide\n",
      "  explained_variance_ = (S ** 2) / (n_samples - 1)\n",
      "D:\\Anaconda3\\lib\\site-packages\\sklearn\\decomposition\\pca.py:444: RuntimeWarning: invalid value encountered in true_divide\n",
      "  explained_variance_ = (S ** 2) / (n_samples - 1)\n",
      "D:\\Anaconda3\\lib\\site-packages\\sklearn\\decomposition\\pca.py:444: RuntimeWarning: invalid value encountered in true_divide\n",
      "  explained_variance_ = (S ** 2) / (n_samples - 1)\n",
      "D:\\Anaconda3\\lib\\site-packages\\sklearn\\decomposition\\pca.py:444: RuntimeWarning: invalid value encountered in true_divide\n",
      "  explained_variance_ = (S ** 2) / (n_samples - 1)\n",
      "D:\\Anaconda3\\lib\\site-packages\\sklearn\\decomposition\\pca.py:444: RuntimeWarning: invalid value encountered in true_divide\n",
      "  explained_variance_ = (S ** 2) / (n_samples - 1)\n",
      "D:\\Anaconda3\\lib\\site-packages\\sklearn\\decomposition\\pca.py:444: RuntimeWarning: invalid value encountered in true_divide\n",
      "  explained_variance_ = (S ** 2) / (n_samples - 1)\n",
      "D:\\Anaconda3\\lib\\site-packages\\sklearn\\decomposition\\pca.py:444: RuntimeWarning: invalid value encountered in true_divide\n",
      "  explained_variance_ = (S ** 2) / (n_samples - 1)\n",
      "D:\\Anaconda3\\lib\\site-packages\\sklearn\\decomposition\\pca.py:444: RuntimeWarning: invalid value encountered in true_divide\n",
      "  explained_variance_ = (S ** 2) / (n_samples - 1)\n",
      "D:\\Anaconda3\\lib\\site-packages\\sklearn\\decomposition\\pca.py:444: RuntimeWarning: invalid value encountered in true_divide\n",
      "  explained_variance_ = (S ** 2) / (n_samples - 1)\n",
      "D:\\Anaconda3\\lib\\site-packages\\sklearn\\decomposition\\pca.py:444: RuntimeWarning: invalid value encountered in true_divide\n",
      "  explained_variance_ = (S ** 2) / (n_samples - 1)\n",
      "D:\\Anaconda3\\lib\\site-packages\\sklearn\\decomposition\\pca.py:444: RuntimeWarning: invalid value encountered in true_divide\n",
      "  explained_variance_ = (S ** 2) / (n_samples - 1)\n",
      "D:\\Anaconda3\\lib\\site-packages\\sklearn\\decomposition\\pca.py:444: RuntimeWarning: invalid value encountered in true_divide\n",
      "  explained_variance_ = (S ** 2) / (n_samples - 1)\n",
      "D:\\Anaconda3\\lib\\site-packages\\sklearn\\decomposition\\pca.py:444: RuntimeWarning: invalid value encountered in true_divide\n",
      "  explained_variance_ = (S ** 2) / (n_samples - 1)\n",
      "D:\\Anaconda3\\lib\\site-packages\\sklearn\\decomposition\\pca.py:444: RuntimeWarning: invalid value encountered in true_divide\n",
      "  explained_variance_ = (S ** 2) / (n_samples - 1)\n",
      "D:\\Anaconda3\\lib\\site-packages\\sklearn\\decomposition\\pca.py:444: RuntimeWarning: invalid value encountered in true_divide\n",
      "  explained_variance_ = (S ** 2) / (n_samples - 1)\n",
      "D:\\Anaconda3\\lib\\site-packages\\sklearn\\decomposition\\pca.py:444: RuntimeWarning: invalid value encountered in true_divide\n",
      "  explained_variance_ = (S ** 2) / (n_samples - 1)\n",
      "D:\\Anaconda3\\lib\\site-packages\\sklearn\\decomposition\\pca.py:444: RuntimeWarning: invalid value encountered in true_divide\n",
      "  explained_variance_ = (S ** 2) / (n_samples - 1)\n",
      "D:\\Anaconda3\\lib\\site-packages\\sklearn\\decomposition\\pca.py:444: RuntimeWarning: invalid value encountered in true_divide\n",
      "  explained_variance_ = (S ** 2) / (n_samples - 1)\n",
      "D:\\Anaconda3\\lib\\site-packages\\sklearn\\decomposition\\pca.py:444: RuntimeWarning: invalid value encountered in true_divide\n",
      "  explained_variance_ = (S ** 2) / (n_samples - 1)\n",
      "D:\\Anaconda3\\lib\\site-packages\\sklearn\\decomposition\\pca.py:444: RuntimeWarning: invalid value encountered in true_divide\n",
      "  explained_variance_ = (S ** 2) / (n_samples - 1)\n",
      "D:\\Anaconda3\\lib\\site-packages\\sklearn\\decomposition\\pca.py:444: RuntimeWarning: invalid value encountered in true_divide\n",
      "  explained_variance_ = (S ** 2) / (n_samples - 1)\n",
      "D:\\Anaconda3\\lib\\site-packages\\sklearn\\decomposition\\pca.py:444: RuntimeWarning: invalid value encountered in true_divide\n",
      "  explained_variance_ = (S ** 2) / (n_samples - 1)\n",
      "D:\\Anaconda3\\lib\\site-packages\\sklearn\\decomposition\\pca.py:444: RuntimeWarning: invalid value encountered in true_divide\n",
      "  explained_variance_ = (S ** 2) / (n_samples - 1)\n",
      "D:\\Anaconda3\\lib\\site-packages\\sklearn\\decomposition\\pca.py:444: RuntimeWarning: invalid value encountered in true_divide\n",
      "  explained_variance_ = (S ** 2) / (n_samples - 1)\n",
      "D:\\Anaconda3\\lib\\site-packages\\sklearn\\decomposition\\pca.py:444: RuntimeWarning: invalid value encountered in true_divide\n",
      "  explained_variance_ = (S ** 2) / (n_samples - 1)\n",
      "D:\\Anaconda3\\lib\\site-packages\\sklearn\\decomposition\\pca.py:444: RuntimeWarning: invalid value encountered in true_divide\n",
      "  explained_variance_ = (S ** 2) / (n_samples - 1)\n",
      "D:\\Anaconda3\\lib\\site-packages\\sklearn\\decomposition\\pca.py:444: RuntimeWarning: invalid value encountered in true_divide\n",
      "  explained_variance_ = (S ** 2) / (n_samples - 1)\n",
      "D:\\Anaconda3\\lib\\site-packages\\sklearn\\decomposition\\pca.py:444: RuntimeWarning: invalid value encountered in true_divide\n",
      "  explained_variance_ = (S ** 2) / (n_samples - 1)\n",
      "D:\\Anaconda3\\lib\\site-packages\\sklearn\\decomposition\\pca.py:444: RuntimeWarning: invalid value encountered in true_divide\n",
      "  explained_variance_ = (S ** 2) / (n_samples - 1)\n",
      "D:\\Anaconda3\\lib\\site-packages\\sklearn\\decomposition\\pca.py:444: RuntimeWarning: invalid value encountered in true_divide\n",
      "  explained_variance_ = (S ** 2) / (n_samples - 1)\n",
      "D:\\Anaconda3\\lib\\site-packages\\sklearn\\decomposition\\pca.py:444: RuntimeWarning: invalid value encountered in true_divide\n",
      "  explained_variance_ = (S ** 2) / (n_samples - 1)\n",
      "D:\\Anaconda3\\lib\\site-packages\\sklearn\\decomposition\\pca.py:444: RuntimeWarning: invalid value encountered in true_divide\n",
      "  explained_variance_ = (S ** 2) / (n_samples - 1)\n",
      "D:\\Anaconda3\\lib\\site-packages\\sklearn\\decomposition\\pca.py:444: RuntimeWarning: invalid value encountered in true_divide\n",
      "  explained_variance_ = (S ** 2) / (n_samples - 1)\n",
      "D:\\Anaconda3\\lib\\site-packages\\sklearn\\decomposition\\pca.py:444: RuntimeWarning: invalid value encountered in true_divide\n",
      "  explained_variance_ = (S ** 2) / (n_samples - 1)\n",
      "D:\\Anaconda3\\lib\\site-packages\\sklearn\\decomposition\\pca.py:444: RuntimeWarning: invalid value encountered in true_divide\n",
      "  explained_variance_ = (S ** 2) / (n_samples - 1)\n",
      "D:\\Anaconda3\\lib\\site-packages\\sklearn\\decomposition\\pca.py:444: RuntimeWarning: invalid value encountered in true_divide\n",
      "  explained_variance_ = (S ** 2) / (n_samples - 1)\n",
      "D:\\Anaconda3\\lib\\site-packages\\sklearn\\decomposition\\pca.py:444: RuntimeWarning: invalid value encountered in true_divide\n",
      "  explained_variance_ = (S ** 2) / (n_samples - 1)\n",
      "D:\\Anaconda3\\lib\\site-packages\\sklearn\\decomposition\\pca.py:444: RuntimeWarning: invalid value encountered in true_divide\n",
      "  explained_variance_ = (S ** 2) / (n_samples - 1)\n",
      "D:\\Anaconda3\\lib\\site-packages\\sklearn\\decomposition\\pca.py:444: RuntimeWarning: invalid value encountered in true_divide\n",
      "  explained_variance_ = (S ** 2) / (n_samples - 1)\n",
      "D:\\Anaconda3\\lib\\site-packages\\sklearn\\decomposition\\pca.py:444: RuntimeWarning: invalid value encountered in true_divide\n",
      "  explained_variance_ = (S ** 2) / (n_samples - 1)\n"
     ]
    },
    {
     "name": "stderr",
     "output_type": "stream",
     "text": [
      "D:\\Anaconda3\\lib\\site-packages\\sklearn\\decomposition\\pca.py:444: RuntimeWarning: invalid value encountered in true_divide\n",
      "  explained_variance_ = (S ** 2) / (n_samples - 1)\n",
      "D:\\Anaconda3\\lib\\site-packages\\sklearn\\decomposition\\pca.py:444: RuntimeWarning: invalid value encountered in true_divide\n",
      "  explained_variance_ = (S ** 2) / (n_samples - 1)\n",
      "D:\\Anaconda3\\lib\\site-packages\\sklearn\\decomposition\\pca.py:444: RuntimeWarning: invalid value encountered in true_divide\n",
      "  explained_variance_ = (S ** 2) / (n_samples - 1)\n",
      "D:\\Anaconda3\\lib\\site-packages\\sklearn\\decomposition\\pca.py:444: RuntimeWarning: invalid value encountered in true_divide\n",
      "  explained_variance_ = (S ** 2) / (n_samples - 1)\n",
      "D:\\Anaconda3\\lib\\site-packages\\sklearn\\decomposition\\pca.py:444: RuntimeWarning: invalid value encountered in true_divide\n",
      "  explained_variance_ = (S ** 2) / (n_samples - 1)\n",
      "D:\\Anaconda3\\lib\\site-packages\\sklearn\\decomposition\\pca.py:444: RuntimeWarning: invalid value encountered in true_divide\n",
      "  explained_variance_ = (S ** 2) / (n_samples - 1)\n",
      "D:\\Anaconda3\\lib\\site-packages\\sklearn\\decomposition\\pca.py:444: RuntimeWarning: invalid value encountered in true_divide\n",
      "  explained_variance_ = (S ** 2) / (n_samples - 1)\n",
      "D:\\Anaconda3\\lib\\site-packages\\sklearn\\decomposition\\pca.py:444: RuntimeWarning: invalid value encountered in true_divide\n",
      "  explained_variance_ = (S ** 2) / (n_samples - 1)\n",
      "D:\\Anaconda3\\lib\\site-packages\\sklearn\\decomposition\\pca.py:444: RuntimeWarning: invalid value encountered in true_divide\n",
      "  explained_variance_ = (S ** 2) / (n_samples - 1)\n",
      "D:\\Anaconda3\\lib\\site-packages\\sklearn\\decomposition\\pca.py:444: RuntimeWarning: invalid value encountered in true_divide\n",
      "  explained_variance_ = (S ** 2) / (n_samples - 1)\n",
      "D:\\Anaconda3\\lib\\site-packages\\sklearn\\decomposition\\pca.py:444: RuntimeWarning: invalid value encountered in true_divide\n",
      "  explained_variance_ = (S ** 2) / (n_samples - 1)\n",
      "D:\\Anaconda3\\lib\\site-packages\\sklearn\\decomposition\\pca.py:444: RuntimeWarning: invalid value encountered in true_divide\n",
      "  explained_variance_ = (S ** 2) / (n_samples - 1)\n",
      "D:\\Anaconda3\\lib\\site-packages\\sklearn\\decomposition\\pca.py:444: RuntimeWarning: invalid value encountered in true_divide\n",
      "  explained_variance_ = (S ** 2) / (n_samples - 1)\n",
      "D:\\Anaconda3\\lib\\site-packages\\sklearn\\decomposition\\pca.py:444: RuntimeWarning: invalid value encountered in true_divide\n",
      "  explained_variance_ = (S ** 2) / (n_samples - 1)\n",
      "D:\\Anaconda3\\lib\\site-packages\\sklearn\\decomposition\\pca.py:444: RuntimeWarning: invalid value encountered in true_divide\n",
      "  explained_variance_ = (S ** 2) / (n_samples - 1)\n",
      "D:\\Anaconda3\\lib\\site-packages\\sklearn\\decomposition\\pca.py:444: RuntimeWarning: invalid value encountered in true_divide\n",
      "  explained_variance_ = (S ** 2) / (n_samples - 1)\n",
      "D:\\Anaconda3\\lib\\site-packages\\sklearn\\decomposition\\pca.py:444: RuntimeWarning: invalid value encountered in true_divide\n",
      "  explained_variance_ = (S ** 2) / (n_samples - 1)\n",
      "D:\\Anaconda3\\lib\\site-packages\\sklearn\\decomposition\\pca.py:444: RuntimeWarning: invalid value encountered in true_divide\n",
      "  explained_variance_ = (S ** 2) / (n_samples - 1)\n",
      "D:\\Anaconda3\\lib\\site-packages\\sklearn\\decomposition\\pca.py:444: RuntimeWarning: invalid value encountered in true_divide\n",
      "  explained_variance_ = (S ** 2) / (n_samples - 1)\n",
      "D:\\Anaconda3\\lib\\site-packages\\sklearn\\decomposition\\pca.py:444: RuntimeWarning: invalid value encountered in true_divide\n",
      "  explained_variance_ = (S ** 2) / (n_samples - 1)\n",
      "D:\\Anaconda3\\lib\\site-packages\\sklearn\\decomposition\\pca.py:444: RuntimeWarning: invalid value encountered in true_divide\n",
      "  explained_variance_ = (S ** 2) / (n_samples - 1)\n",
      "D:\\Anaconda3\\lib\\site-packages\\sklearn\\decomposition\\pca.py:444: RuntimeWarning: invalid value encountered in true_divide\n",
      "  explained_variance_ = (S ** 2) / (n_samples - 1)\n",
      "D:\\Anaconda3\\lib\\site-packages\\sklearn\\decomposition\\pca.py:444: RuntimeWarning: invalid value encountered in true_divide\n",
      "  explained_variance_ = (S ** 2) / (n_samples - 1)\n",
      "D:\\Anaconda3\\lib\\site-packages\\sklearn\\decomposition\\pca.py:444: RuntimeWarning: invalid value encountered in true_divide\n",
      "  explained_variance_ = (S ** 2) / (n_samples - 1)\n",
      "D:\\Anaconda3\\lib\\site-packages\\sklearn\\decomposition\\pca.py:444: RuntimeWarning: invalid value encountered in true_divide\n",
      "  explained_variance_ = (S ** 2) / (n_samples - 1)\n",
      "D:\\Anaconda3\\lib\\site-packages\\sklearn\\decomposition\\pca.py:444: RuntimeWarning: invalid value encountered in true_divide\n",
      "  explained_variance_ = (S ** 2) / (n_samples - 1)\n",
      "D:\\Anaconda3\\lib\\site-packages\\sklearn\\decomposition\\pca.py:444: RuntimeWarning: invalid value encountered in true_divide\n",
      "  explained_variance_ = (S ** 2) / (n_samples - 1)\n",
      "D:\\Anaconda3\\lib\\site-packages\\sklearn\\decomposition\\pca.py:444: RuntimeWarning: invalid value encountered in true_divide\n",
      "  explained_variance_ = (S ** 2) / (n_samples - 1)\n",
      "D:\\Anaconda3\\lib\\site-packages\\sklearn\\decomposition\\pca.py:444: RuntimeWarning: invalid value encountered in true_divide\n",
      "  explained_variance_ = (S ** 2) / (n_samples - 1)\n",
      "D:\\Anaconda3\\lib\\site-packages\\sklearn\\decomposition\\pca.py:444: RuntimeWarning: invalid value encountered in true_divide\n",
      "  explained_variance_ = (S ** 2) / (n_samples - 1)\n",
      "D:\\Anaconda3\\lib\\site-packages\\sklearn\\decomposition\\pca.py:444: RuntimeWarning: invalid value encountered in true_divide\n",
      "  explained_variance_ = (S ** 2) / (n_samples - 1)\n",
      "D:\\Anaconda3\\lib\\site-packages\\sklearn\\decomposition\\pca.py:444: RuntimeWarning: invalid value encountered in true_divide\n",
      "  explained_variance_ = (S ** 2) / (n_samples - 1)\n",
      "D:\\Anaconda3\\lib\\site-packages\\sklearn\\decomposition\\pca.py:444: RuntimeWarning: invalid value encountered in true_divide\n",
      "  explained_variance_ = (S ** 2) / (n_samples - 1)\n",
      "D:\\Anaconda3\\lib\\site-packages\\sklearn\\decomposition\\pca.py:444: RuntimeWarning: invalid value encountered in true_divide\n",
      "  explained_variance_ = (S ** 2) / (n_samples - 1)\n",
      "D:\\Anaconda3\\lib\\site-packages\\sklearn\\decomposition\\pca.py:444: RuntimeWarning: invalid value encountered in true_divide\n",
      "  explained_variance_ = (S ** 2) / (n_samples - 1)\n",
      "D:\\Anaconda3\\lib\\site-packages\\sklearn\\decomposition\\pca.py:444: RuntimeWarning: invalid value encountered in true_divide\n",
      "  explained_variance_ = (S ** 2) / (n_samples - 1)\n",
      "D:\\Anaconda3\\lib\\site-packages\\sklearn\\decomposition\\pca.py:444: RuntimeWarning: invalid value encountered in true_divide\n",
      "  explained_variance_ = (S ** 2) / (n_samples - 1)\n",
      "D:\\Anaconda3\\lib\\site-packages\\sklearn\\decomposition\\pca.py:444: RuntimeWarning: invalid value encountered in true_divide\n",
      "  explained_variance_ = (S ** 2) / (n_samples - 1)\n",
      "D:\\Anaconda3\\lib\\site-packages\\sklearn\\decomposition\\pca.py:444: RuntimeWarning: invalid value encountered in true_divide\n",
      "  explained_variance_ = (S ** 2) / (n_samples - 1)\n",
      "D:\\Anaconda3\\lib\\site-packages\\sklearn\\decomposition\\pca.py:444: RuntimeWarning: invalid value encountered in true_divide\n",
      "  explained_variance_ = (S ** 2) / (n_samples - 1)\n",
      "D:\\Anaconda3\\lib\\site-packages\\sklearn\\decomposition\\pca.py:444: RuntimeWarning: invalid value encountered in true_divide\n",
      "  explained_variance_ = (S ** 2) / (n_samples - 1)\n",
      "D:\\Anaconda3\\lib\\site-packages\\sklearn\\decomposition\\pca.py:444: RuntimeWarning: invalid value encountered in true_divide\n",
      "  explained_variance_ = (S ** 2) / (n_samples - 1)\n",
      "D:\\Anaconda3\\lib\\site-packages\\sklearn\\decomposition\\pca.py:444: RuntimeWarning: invalid value encountered in true_divide\n",
      "  explained_variance_ = (S ** 2) / (n_samples - 1)\n",
      "D:\\Anaconda3\\lib\\site-packages\\sklearn\\decomposition\\pca.py:444: RuntimeWarning: invalid value encountered in true_divide\n",
      "  explained_variance_ = (S ** 2) / (n_samples - 1)\n",
      "D:\\Anaconda3\\lib\\site-packages\\sklearn\\decomposition\\pca.py:444: RuntimeWarning: invalid value encountered in true_divide\n",
      "  explained_variance_ = (S ** 2) / (n_samples - 1)\n",
      "D:\\Anaconda3\\lib\\site-packages\\sklearn\\decomposition\\pca.py:444: RuntimeWarning: invalid value encountered in true_divide\n",
      "  explained_variance_ = (S ** 2) / (n_samples - 1)\n",
      "D:\\Anaconda3\\lib\\site-packages\\sklearn\\decomposition\\pca.py:444: RuntimeWarning: invalid value encountered in true_divide\n",
      "  explained_variance_ = (S ** 2) / (n_samples - 1)\n",
      "D:\\Anaconda3\\lib\\site-packages\\sklearn\\decomposition\\pca.py:444: RuntimeWarning: invalid value encountered in true_divide\n",
      "  explained_variance_ = (S ** 2) / (n_samples - 1)\n"
     ]
    },
    {
     "name": "stderr",
     "output_type": "stream",
     "text": [
      "D:\\Anaconda3\\lib\\site-packages\\sklearn\\decomposition\\pca.py:444: RuntimeWarning: invalid value encountered in true_divide\n",
      "  explained_variance_ = (S ** 2) / (n_samples - 1)\n",
      "D:\\Anaconda3\\lib\\site-packages\\sklearn\\decomposition\\pca.py:444: RuntimeWarning: invalid value encountered in true_divide\n",
      "  explained_variance_ = (S ** 2) / (n_samples - 1)\n",
      "D:\\Anaconda3\\lib\\site-packages\\sklearn\\decomposition\\pca.py:444: RuntimeWarning: invalid value encountered in true_divide\n",
      "  explained_variance_ = (S ** 2) / (n_samples - 1)\n",
      "D:\\Anaconda3\\lib\\site-packages\\sklearn\\decomposition\\pca.py:444: RuntimeWarning: invalid value encountered in true_divide\n",
      "  explained_variance_ = (S ** 2) / (n_samples - 1)\n",
      "D:\\Anaconda3\\lib\\site-packages\\sklearn\\decomposition\\pca.py:444: RuntimeWarning: invalid value encountered in true_divide\n",
      "  explained_variance_ = (S ** 2) / (n_samples - 1)\n",
      "D:\\Anaconda3\\lib\\site-packages\\sklearn\\decomposition\\pca.py:444: RuntimeWarning: invalid value encountered in true_divide\n",
      "  explained_variance_ = (S ** 2) / (n_samples - 1)\n",
      "D:\\Anaconda3\\lib\\site-packages\\sklearn\\decomposition\\pca.py:444: RuntimeWarning: invalid value encountered in true_divide\n",
      "  explained_variance_ = (S ** 2) / (n_samples - 1)\n",
      "D:\\Anaconda3\\lib\\site-packages\\sklearn\\decomposition\\pca.py:444: RuntimeWarning: invalid value encountered in true_divide\n",
      "  explained_variance_ = (S ** 2) / (n_samples - 1)\n",
      "D:\\Anaconda3\\lib\\site-packages\\sklearn\\decomposition\\pca.py:444: RuntimeWarning: invalid value encountered in true_divide\n",
      "  explained_variance_ = (S ** 2) / (n_samples - 1)\n",
      "D:\\Anaconda3\\lib\\site-packages\\sklearn\\decomposition\\pca.py:444: RuntimeWarning: invalid value encountered in true_divide\n",
      "  explained_variance_ = (S ** 2) / (n_samples - 1)\n",
      "D:\\Anaconda3\\lib\\site-packages\\sklearn\\decomposition\\pca.py:444: RuntimeWarning: invalid value encountered in true_divide\n",
      "  explained_variance_ = (S ** 2) / (n_samples - 1)\n",
      "D:\\Anaconda3\\lib\\site-packages\\sklearn\\decomposition\\pca.py:444: RuntimeWarning: invalid value encountered in true_divide\n",
      "  explained_variance_ = (S ** 2) / (n_samples - 1)\n",
      "D:\\Anaconda3\\lib\\site-packages\\sklearn\\decomposition\\pca.py:444: RuntimeWarning: invalid value encountered in true_divide\n",
      "  explained_variance_ = (S ** 2) / (n_samples - 1)\n",
      "D:\\Anaconda3\\lib\\site-packages\\sklearn\\decomposition\\pca.py:444: RuntimeWarning: invalid value encountered in true_divide\n",
      "  explained_variance_ = (S ** 2) / (n_samples - 1)\n",
      "D:\\Anaconda3\\lib\\site-packages\\sklearn\\decomposition\\pca.py:444: RuntimeWarning: invalid value encountered in true_divide\n",
      "  explained_variance_ = (S ** 2) / (n_samples - 1)\n",
      "D:\\Anaconda3\\lib\\site-packages\\sklearn\\decomposition\\pca.py:444: RuntimeWarning: invalid value encountered in true_divide\n",
      "  explained_variance_ = (S ** 2) / (n_samples - 1)\n",
      "D:\\Anaconda3\\lib\\site-packages\\sklearn\\decomposition\\pca.py:444: RuntimeWarning: invalid value encountered in true_divide\n",
      "  explained_variance_ = (S ** 2) / (n_samples - 1)\n",
      "D:\\Anaconda3\\lib\\site-packages\\sklearn\\decomposition\\pca.py:444: RuntimeWarning: invalid value encountered in true_divide\n",
      "  explained_variance_ = (S ** 2) / (n_samples - 1)\n",
      "D:\\Anaconda3\\lib\\site-packages\\sklearn\\decomposition\\pca.py:444: RuntimeWarning: invalid value encountered in true_divide\n",
      "  explained_variance_ = (S ** 2) / (n_samples - 1)\n",
      "D:\\Anaconda3\\lib\\site-packages\\sklearn\\decomposition\\pca.py:444: RuntimeWarning: invalid value encountered in true_divide\n",
      "  explained_variance_ = (S ** 2) / (n_samples - 1)\n",
      "D:\\Anaconda3\\lib\\site-packages\\sklearn\\decomposition\\pca.py:444: RuntimeWarning: invalid value encountered in true_divide\n",
      "  explained_variance_ = (S ** 2) / (n_samples - 1)\n",
      "D:\\Anaconda3\\lib\\site-packages\\sklearn\\decomposition\\pca.py:444: RuntimeWarning: invalid value encountered in true_divide\n",
      "  explained_variance_ = (S ** 2) / (n_samples - 1)\n",
      "D:\\Anaconda3\\lib\\site-packages\\sklearn\\decomposition\\pca.py:444: RuntimeWarning: invalid value encountered in true_divide\n",
      "  explained_variance_ = (S ** 2) / (n_samples - 1)\n",
      "D:\\Anaconda3\\lib\\site-packages\\sklearn\\decomposition\\pca.py:444: RuntimeWarning: invalid value encountered in true_divide\n",
      "  explained_variance_ = (S ** 2) / (n_samples - 1)\n",
      "D:\\Anaconda3\\lib\\site-packages\\sklearn\\decomposition\\pca.py:444: RuntimeWarning: invalid value encountered in true_divide\n",
      "  explained_variance_ = (S ** 2) / (n_samples - 1)\n",
      "D:\\Anaconda3\\lib\\site-packages\\sklearn\\decomposition\\pca.py:444: RuntimeWarning: invalid value encountered in true_divide\n",
      "  explained_variance_ = (S ** 2) / (n_samples - 1)\n",
      "D:\\Anaconda3\\lib\\site-packages\\sklearn\\decomposition\\pca.py:444: RuntimeWarning: invalid value encountered in true_divide\n",
      "  explained_variance_ = (S ** 2) / (n_samples - 1)\n",
      "D:\\Anaconda3\\lib\\site-packages\\sklearn\\decomposition\\pca.py:444: RuntimeWarning: invalid value encountered in true_divide\n",
      "  explained_variance_ = (S ** 2) / (n_samples - 1)\n",
      "D:\\Anaconda3\\lib\\site-packages\\sklearn\\decomposition\\pca.py:444: RuntimeWarning: invalid value encountered in true_divide\n",
      "  explained_variance_ = (S ** 2) / (n_samples - 1)\n",
      "D:\\Anaconda3\\lib\\site-packages\\sklearn\\decomposition\\pca.py:444: RuntimeWarning: invalid value encountered in true_divide\n",
      "  explained_variance_ = (S ** 2) / (n_samples - 1)\n",
      "D:\\Anaconda3\\lib\\site-packages\\sklearn\\decomposition\\pca.py:444: RuntimeWarning: invalid value encountered in true_divide\n",
      "  explained_variance_ = (S ** 2) / (n_samples - 1)\n",
      "D:\\Anaconda3\\lib\\site-packages\\sklearn\\decomposition\\pca.py:444: RuntimeWarning: invalid value encountered in true_divide\n",
      "  explained_variance_ = (S ** 2) / (n_samples - 1)\n",
      "D:\\Anaconda3\\lib\\site-packages\\sklearn\\decomposition\\pca.py:444: RuntimeWarning: invalid value encountered in true_divide\n",
      "  explained_variance_ = (S ** 2) / (n_samples - 1)\n",
      "D:\\Anaconda3\\lib\\site-packages\\sklearn\\decomposition\\pca.py:444: RuntimeWarning: invalid value encountered in true_divide\n",
      "  explained_variance_ = (S ** 2) / (n_samples - 1)\n",
      "D:\\Anaconda3\\lib\\site-packages\\sklearn\\decomposition\\pca.py:444: RuntimeWarning: invalid value encountered in true_divide\n",
      "  explained_variance_ = (S ** 2) / (n_samples - 1)\n",
      "D:\\Anaconda3\\lib\\site-packages\\sklearn\\decomposition\\pca.py:444: RuntimeWarning: invalid value encountered in true_divide\n",
      "  explained_variance_ = (S ** 2) / (n_samples - 1)\n",
      "D:\\Anaconda3\\lib\\site-packages\\sklearn\\decomposition\\pca.py:444: RuntimeWarning: invalid value encountered in true_divide\n",
      "  explained_variance_ = (S ** 2) / (n_samples - 1)\n",
      "D:\\Anaconda3\\lib\\site-packages\\sklearn\\decomposition\\pca.py:444: RuntimeWarning: invalid value encountered in true_divide\n",
      "  explained_variance_ = (S ** 2) / (n_samples - 1)\n",
      "D:\\Anaconda3\\lib\\site-packages\\sklearn\\decomposition\\pca.py:444: RuntimeWarning: invalid value encountered in true_divide\n",
      "  explained_variance_ = (S ** 2) / (n_samples - 1)\n",
      "D:\\Anaconda3\\lib\\site-packages\\sklearn\\decomposition\\pca.py:444: RuntimeWarning: invalid value encountered in true_divide\n",
      "  explained_variance_ = (S ** 2) / (n_samples - 1)\n",
      "D:\\Anaconda3\\lib\\site-packages\\sklearn\\decomposition\\pca.py:444: RuntimeWarning: invalid value encountered in true_divide\n",
      "  explained_variance_ = (S ** 2) / (n_samples - 1)\n",
      "D:\\Anaconda3\\lib\\site-packages\\sklearn\\decomposition\\pca.py:444: RuntimeWarning: invalid value encountered in true_divide\n",
      "  explained_variance_ = (S ** 2) / (n_samples - 1)\n",
      "D:\\Anaconda3\\lib\\site-packages\\sklearn\\decomposition\\pca.py:444: RuntimeWarning: invalid value encountered in true_divide\n",
      "  explained_variance_ = (S ** 2) / (n_samples - 1)\n",
      "D:\\Anaconda3\\lib\\site-packages\\sklearn\\decomposition\\pca.py:444: RuntimeWarning: invalid value encountered in true_divide\n",
      "  explained_variance_ = (S ** 2) / (n_samples - 1)\n",
      "D:\\Anaconda3\\lib\\site-packages\\sklearn\\decomposition\\pca.py:444: RuntimeWarning: invalid value encountered in true_divide\n",
      "  explained_variance_ = (S ** 2) / (n_samples - 1)\n",
      "D:\\Anaconda3\\lib\\site-packages\\sklearn\\decomposition\\pca.py:444: RuntimeWarning: invalid value encountered in true_divide\n",
      "  explained_variance_ = (S ** 2) / (n_samples - 1)\n",
      "D:\\Anaconda3\\lib\\site-packages\\sklearn\\decomposition\\pca.py:444: RuntimeWarning: invalid value encountered in true_divide\n",
      "  explained_variance_ = (S ** 2) / (n_samples - 1)\n",
      "D:\\Anaconda3\\lib\\site-packages\\sklearn\\decomposition\\pca.py:444: RuntimeWarning: invalid value encountered in true_divide\n",
      "  explained_variance_ = (S ** 2) / (n_samples - 1)\n"
     ]
    },
    {
     "name": "stderr",
     "output_type": "stream",
     "text": [
      "D:\\Anaconda3\\lib\\site-packages\\sklearn\\decomposition\\pca.py:444: RuntimeWarning: invalid value encountered in true_divide\n",
      "  explained_variance_ = (S ** 2) / (n_samples - 1)\n",
      "D:\\Anaconda3\\lib\\site-packages\\sklearn\\decomposition\\pca.py:444: RuntimeWarning: invalid value encountered in true_divide\n",
      "  explained_variance_ = (S ** 2) / (n_samples - 1)\n",
      "D:\\Anaconda3\\lib\\site-packages\\sklearn\\decomposition\\pca.py:444: RuntimeWarning: invalid value encountered in true_divide\n",
      "  explained_variance_ = (S ** 2) / (n_samples - 1)\n",
      "D:\\Anaconda3\\lib\\site-packages\\sklearn\\decomposition\\pca.py:444: RuntimeWarning: invalid value encountered in true_divide\n",
      "  explained_variance_ = (S ** 2) / (n_samples - 1)\n",
      "D:\\Anaconda3\\lib\\site-packages\\sklearn\\decomposition\\pca.py:444: RuntimeWarning: invalid value encountered in true_divide\n",
      "  explained_variance_ = (S ** 2) / (n_samples - 1)\n",
      "D:\\Anaconda3\\lib\\site-packages\\sklearn\\decomposition\\pca.py:444: RuntimeWarning: invalid value encountered in true_divide\n",
      "  explained_variance_ = (S ** 2) / (n_samples - 1)\n",
      "D:\\Anaconda3\\lib\\site-packages\\sklearn\\decomposition\\pca.py:444: RuntimeWarning: invalid value encountered in true_divide\n",
      "  explained_variance_ = (S ** 2) / (n_samples - 1)\n",
      "D:\\Anaconda3\\lib\\site-packages\\sklearn\\decomposition\\pca.py:444: RuntimeWarning: invalid value encountered in true_divide\n",
      "  explained_variance_ = (S ** 2) / (n_samples - 1)\n",
      "D:\\Anaconda3\\lib\\site-packages\\sklearn\\decomposition\\pca.py:444: RuntimeWarning: invalid value encountered in true_divide\n",
      "  explained_variance_ = (S ** 2) / (n_samples - 1)\n",
      "D:\\Anaconda3\\lib\\site-packages\\sklearn\\decomposition\\pca.py:444: RuntimeWarning: invalid value encountered in true_divide\n",
      "  explained_variance_ = (S ** 2) / (n_samples - 1)\n",
      "D:\\Anaconda3\\lib\\site-packages\\sklearn\\decomposition\\pca.py:444: RuntimeWarning: invalid value encountered in true_divide\n",
      "  explained_variance_ = (S ** 2) / (n_samples - 1)\n",
      "D:\\Anaconda3\\lib\\site-packages\\sklearn\\decomposition\\pca.py:444: RuntimeWarning: invalid value encountered in true_divide\n",
      "  explained_variance_ = (S ** 2) / (n_samples - 1)\n",
      "D:\\Anaconda3\\lib\\site-packages\\sklearn\\decomposition\\pca.py:444: RuntimeWarning: invalid value encountered in true_divide\n",
      "  explained_variance_ = (S ** 2) / (n_samples - 1)\n",
      "D:\\Anaconda3\\lib\\site-packages\\sklearn\\decomposition\\pca.py:444: RuntimeWarning: invalid value encountered in true_divide\n",
      "  explained_variance_ = (S ** 2) / (n_samples - 1)\n",
      "D:\\Anaconda3\\lib\\site-packages\\sklearn\\decomposition\\pca.py:444: RuntimeWarning: invalid value encountered in true_divide\n",
      "  explained_variance_ = (S ** 2) / (n_samples - 1)\n",
      "D:\\Anaconda3\\lib\\site-packages\\sklearn\\decomposition\\pca.py:444: RuntimeWarning: invalid value encountered in true_divide\n",
      "  explained_variance_ = (S ** 2) / (n_samples - 1)\n",
      "D:\\Anaconda3\\lib\\site-packages\\sklearn\\decomposition\\pca.py:444: RuntimeWarning: invalid value encountered in true_divide\n",
      "  explained_variance_ = (S ** 2) / (n_samples - 1)\n",
      "D:\\Anaconda3\\lib\\site-packages\\sklearn\\decomposition\\pca.py:444: RuntimeWarning: invalid value encountered in true_divide\n",
      "  explained_variance_ = (S ** 2) / (n_samples - 1)\n",
      "D:\\Anaconda3\\lib\\site-packages\\sklearn\\decomposition\\pca.py:444: RuntimeWarning: invalid value encountered in true_divide\n",
      "  explained_variance_ = (S ** 2) / (n_samples - 1)\n",
      "D:\\Anaconda3\\lib\\site-packages\\sklearn\\decomposition\\pca.py:444: RuntimeWarning: invalid value encountered in true_divide\n",
      "  explained_variance_ = (S ** 2) / (n_samples - 1)\n",
      "D:\\Anaconda3\\lib\\site-packages\\sklearn\\decomposition\\pca.py:444: RuntimeWarning: invalid value encountered in true_divide\n",
      "  explained_variance_ = (S ** 2) / (n_samples - 1)\n"
     ]
    }
   ],
   "source": [
    "PERSON = []\n",
    "V_point = defaultdict(list)\n",
    "for k, news in enumerate(sentence_word_content):\n",
    "    flag = -1\n",
    "    \n",
    "    for j, sentence in enumerate(news):\n",
    "        for i, word in enumerate(sentence):\n",
    "            if word in related_word_use:\n",
    "                flag = i\n",
    "                break\n",
    "                \n",
    "        if flag >= 0:           \n",
    "            Y = PCA_SIF_sentence_embdding(news)\n",
    "            \n",
    "            temp_person = ''\n",
    "            temp_sen = sentence_content[k][j]\n",
    "            temp_point = [sentence_content_with_punctuation[k][j]]\n",
    "            \n",
    "            NER = nlp.ner(temp_sen)\n",
    "            D_pr = nlp.dependency_parse(temp_sen)\n",
    "            \n",
    "            for i, relation in enumerate(D_pr):\n",
    "                if relation[1] == flag+1 and relation[0] == 'nsubj' and (NER[relation[-1] - 1][-1] == 'PERSON' or NER[relation[-1] - 1][-1] == 'ORGANIZATION'):\n",
    "                    temp_person = sentence[relation[-1] - 1]\n",
    "                    PERSON.append(sentence[relation[-1] - 1])\n",
    "                    for m in range((len(news) - j -1)):\n",
    "                        m += (j+1)\n",
    "                        if(distance(Y[j], Y[m])) < 0.2:\n",
    "                            temp_point.append(sentence_content_with_punctuation[k][j])\n",
    "                        else:\n",
    "                            break\n",
    "            if temp_person != '':\n",
    "                V_point[temp_person] = temp_point\n",
    "        flag = -1"
   ]
  },
  {
   "cell_type": "code",
   "execution_count": 52,
   "metadata": {
    "scrolled": true
   },
   "outputs": [
    {
     "data": {
      "text/plain": [
       "['刘青', '团队', '证券', '证券', '云龙', '于', '路透社', '孙宏斌', '孙宏斌', '晃']"
      ]
     },
     "execution_count": 52,
     "metadata": {},
     "output_type": "execute_result"
    }
   ],
   "source": [
    "PERSON[:10]"
   ]
  },
  {
   "cell_type": "code",
   "execution_count": 54,
   "metadata": {
    "scrolled": true
   },
   "outputs": [
    {
     "data": {
      "text/plain": [
       "['刘青介绍，6月16日早上7时36分，他正在环城南路附近值勤，接到中队关于一位女子裸身进入机动车可能有危险的警情，随后骑着小铁骑开始沿路寻找，大概花了十多分钟在南坪大道坂田出口往龙岗方向的逆行辅道上发现该女子。']"
      ]
     },
     "execution_count": 54,
     "metadata": {},
     "output_type": "execute_result"
    }
   ],
   "source": [
    "V_point['刘青']"
   ]
  },
  {
   "cell_type": "code",
   "execution_count": null,
   "metadata": {},
   "outputs": [],
   "source": []
  }
 ],
 "metadata": {
  "kernelspec": {
   "display_name": "Python 3",
   "language": "python",
   "name": "python3"
  },
  "language_info": {
   "codemirror_mode": {
    "name": "ipython",
    "version": 3
   },
   "file_extension": ".py",
   "mimetype": "text/x-python",
   "name": "python",
   "nbconvert_exporter": "python",
   "pygments_lexer": "ipython3",
   "version": "3.6.6"
  }
 },
 "nbformat": 4,
 "nbformat_minor": 2
}
