{
 "cells": [
  {
   "cell_type": "markdown",
   "metadata": {},
   "source": [
    "# 1 Prepear Work"
   ]
  },
  {
   "cell_type": "markdown",
   "metadata": {},
   "source": [
    "## 1.1 Get original content"
   ]
  },
  {
   "cell_type": "code",
   "execution_count": 1,
   "metadata": {},
   "outputs": [],
   "source": [
    "import os.path"
   ]
  },
  {
   "cell_type": "code",
   "execution_count": 2,
   "metadata": {},
   "outputs": [],
   "source": [
    "import jieba,re"
   ]
  },
  {
   "cell_type": "code",
   "execution_count": 3,
   "metadata": {},
   "outputs": [],
   "source": [
    "import pandas as pd"
   ]
  },
  {
   "cell_type": "code",
   "execution_count": 4,
   "metadata": {},
   "outputs": [],
   "source": [
    "def get_original_content(path):\n",
    "    if not os.path.isfile(path):\n",
    "        print('Input error, please enter correct path!')\n",
    "        return None\n",
    "    else:\n",
    "        content = pd.read_csv(path, encoding='ansi', error_bad_lines=False)\n",
    "        content = content.fillna(' ')\n",
    "        news_content = content['content'].tolist()\n",
    "        return news_content"
   ]
  },
  {
   "cell_type": "code",
   "execution_count": 5,
   "metadata": {},
   "outputs": [],
   "source": [
    "csv_path = r'D:\\Assignment\\Assignment_06\\newsdata.csv'"
   ]
  },
  {
   "cell_type": "code",
   "execution_count": 6,
   "metadata": {},
   "outputs": [
    {
     "name": "stderr",
     "output_type": "stream",
     "text": [
      "D:\\Anaconda3\\lib\\site-packages\\IPython\\core\\interactiveshell.py:3214: DtypeWarning: Columns (0,40,41,42,43,44,45,46,47,48,49,50) have mixed types. Specify dtype option on import or set low_memory=False.\n",
      "  if (yield from self.run_code(code, result)):\n"
     ]
    }
   ],
   "source": [
    "original_content = get_original_content(csv_path)"
   ]
  },
  {
   "cell_type": "code",
   "execution_count": 7,
   "metadata": {},
   "outputs": [
    {
     "data": {
      "text/plain": [
       "'（原标题：武汉警方一下子抓了808人，还都是俊男靓女！原来他们每天偷偷摸摸干这事！）\\n武汉警方一下子抓了808人，还都是俊男靓女！原来他们每天偷偷摸摸干这事！\\n大家还记得今年4月光谷曾发生的一件大事吗？\\n当时微博和朋友圈上都传疯了，\\n说是光谷国际广场大量白领被捕！\\n现场手铐都不够用！\\n结果经记者深入调查后发现，\\n这些被抓的并不是网传的“白领”\\n而是一个有282名涉案人员的诈骗团伙！\\n天呐！接近300人的犯罪团伙，\\n你以为这个数字已经够庞大了吗？\\n错，还有让你更震惊的！！\\n据武汉市公安局通报：\\n6月9日，警方在武汉三镇的10处窝点内，\\n抓获了808名嫌疑人！\\n而且令人大跌眼镜的是，\\n他们当中大多都是年青人，\\n用“俊男靓女”来形容也不为过！\\n年纪不大，外形不差，那么到底是犯了什么事呢？\\n其实说起来，这事估计绝大多数人都碰到过！那就是网络诈骗！\\n涉案电脑800余台、手机2000余部、\\n银行卡3000余张....\\n因为涉及的账户太多，\\n涉案金额目前还没统计出来。\\n这是全国涉案人数最多的一起特大网络诈骗案！\\n这些惊人的数字背后，究竟藏着什么样的秘密？警方把他们一锅端了！\\n今年4月，武汉警方获悉在塔子湖地区有电信网络诈骗活动，经过2个多月的秘密侦查，发现了一个特大网络诈骗犯罪团伙。\\n原来该团伙利用非法互联网金融平台，实施推荐股票、炒期货等诈骗，其10处窝点散布在江岸、洪山、东湖高新、硚口、江汉等5个区的写字楼内，涉案人员多达800余名！\\n6月9日上午，武汉警方组织了1000余名警力，分成14个抓捕组，同时对首脑分子和10处窝点实施了突击抓捕行动！\\n目前，警方已依法刑事拘留411人，对45人取保候审。该案还在进一步调查中。\\n他们是如何进行诈骗的？\\n人数众多的这个诈骗组织是怎么样进行人员分工？又是如何一步步引受害人上钩的呢？\\n2015年以来，该犯罪团伙以投资组建的某集团公司为总部，旗下成立多家分公司、子公司，设立人事部、财务部、行政部等机构部门，分为经理、分析师、业务小组长、业务员等组织层级。\\n在网上发布招聘信息招揽、培训业务员\\n依托虚构的互联网金融平台，通过业务员散布“有内幕消息”等虚假信息，引诱受害人加入专门的QQ群、微信群。\\n再由所谓的“证券公司资深分析师”和“经理”逐个联系受害人，引诱受害人交易股票、期货、贵金属、外汇等金融产品，\\n受害人若获利则按“五五”、“六四”分成，\\n若亏损则拉入“黑名单”不再联系。\\n网友热评\\n李晓猫不吃鱼：在人信汇写字楼面试过一个这种工作，一听不对劲就撤了，说不适合我，我嘴巴笨\\n习惯就好33xxzz：八百多人？可能相当部分人都不大清楚自己到底是啥性质工作吧？\\n刑法守望者：\\n要警惕了，普法：各种工作都要预防法律风险，要做个明白人，不是什么钱都可以拿，尤其是从事金融、保险、银行、财务的人员，不小心就触犯刑法……\\n童颜永在--心理医生：盘在写字楼内的诈骗公司，以高薪招聘业务人员为诱饵，实行诈骗的顽疾，终于被揣掉了。\\n你的渔船：联系一下自己的朋友，看有多少个被抓了\\nThe-former-degrees：\\n招聘平台和销售会上百分之八十就是这种工作。从源头抓起，防止更多人受伤。\\n宇宇家的小仙女：恐怖 进了一个星期发现不太对劲 这尼玛是让我骗人啊 ?赶紧自己跑路了\\nz_路漫漫：\\n我做过， ?后来听说公司跑路了\\n睡不饱怎么办啊小铭大：我都面试过这种工作，，还培训了几天，，话术一看就的套路骗，，果断闪人，，这种公司太多了，，\\n遗忘的金叶子：碰到这样的骗子找我们做视频，最后被我打电话骂了一顿！\\na一元复始c：\\n还有那些天天电话骚扰别人信贷的、卖房的、卖邮票的、发票的社会生活中一不留神就会被坑，所以活着需要理智\\n笑看世间丑2448337651：这是在路上发骗广告搞高利贷的那些互联网金融公司吗？\\n未来温暖的时光属于自己：金融港，街道口都是这些……好多同学刚刚毕业都去做过，都是网上投简历，这些公司就猛联系你，其实好多都不知道这是骗人的吧\\n有强迫症的天蝎座怪咖：吓到我了\\n冉冉的彗星是个宝：早上还接到说做期货\\n霖心金鱼And张蒙：\\n都不敢去找工作了\\n蒋妈妈1\\n5：刚回到武汉，准备找份工作，看网上好多这种招聘的，感觉像骗人的，都不看的\\n看了网友的评论，\\n小编只有一个感觉：\\n找工作时一定要擦亮双眼\\n不要因为一时疏忽，\\n而给自己的生活抹上污点！\\n俗话说，知己知彼百战不殆\\n弄清网络诈骗的常见手法?\\n才能避免上当受骗\\n下面就为大家奉上防骗攻略\\n遇到诈骗只需见招拆招！\\n网络防骗攻略\\n电信网络诈骗犯罪往往表现为“六大陷阱”：\\n1.物美价廉的网购陷阱\\n2.推销产品的便利陷阱\\n3.异性交友的情感陷阱\\n4.中奖信息的惊喜陷阱\\n5.冒充国家工作人员的恐吓陷阱\\n6.钓鱼网站和网上银行的迷惑陷阱\\n下面是网络诈骗中比较常见的几种类型，一起学习如何防范，让骗子无处遁形！\\n1虚假红包诈骗\\n临近节日时，各大电商平台会以派发红包的形式，为促销活动预热。有不法分子趁机在微信朋友圈、微信群等平台中，派发虚假红包，诱骗大家点击，套取个人信息，或传播木马病毒，盗取银行账号。\\n识骗方法：慎点此类红包领取链接，如果不小心点击，应第一时间关闭手机网络，修改网银、支付宝等重要账户密码，并通过安全软件查杀木马病毒。\\n2二维码诈骗\\n抢购高峰期，网页打开慢，网银交易出现比较迟钝现象。有不法分子会冒充客服或店主，以单子出现“调单”“卡单”等说法为幌子，故意说没有收到款项欺诈消费者，取得信任后要求消费者以其他办法进行转账。\\n识骗方法：消费者要注意，调单、卡单、激活订单等多为诈骗术语，见此类词语基本可以断定对方是骗子。没有收到款项这样的问题，是不会在东京、天猫这样的大型网络购物平台出现的。\\n3钓鱼网站诈骗\\n节假日期间，公众的购物热情高涨，假冒正规电商官方网站、在线支付平台等的钓鱼网站活动频繁。消费者在忙于浏览各色商品页面时，往往容易忽略链接的安全性，从而误入诈骗分子发来的虚假钓鱼网站。\\n识骗方法：对陌生人发来的商品链接要提高警惕，谨慎打开。如遇网络诈骗应第一时间向属地公安机关报案，并向举报中心举报。\\n4虚假客服诈骗\\n抢购高峰期，网页打开慢，网银交易出现比较迟钝现象。有不法分子会冒充客服或店主，以单子出现“调单”“卡单”等说法为幌子，故意说没有收到款项欺诈消费者，取得信任后要求消费者以其他办法进行转账。\\n识骗方法：消费者要注意，调单、卡单、激活订单等多为诈骗术语，见此类词语基本可以断定对方是骗子。没有收到款项这样的问题，是不会在东京、天猫这样的大型网络购物平台出现的。\\n5预购诈骗\\n还有不法分子会以“提前购”、“预售”为诱饵向用户发送木马链接。除了网购链接被植入木马、钓鱼网站，还有不法分子会在“预售”活动上做文章，骗取买家“定金”。\\n识骗方法：慎点不明链接，有关购物短信也不要轻信，同时也请给手机装上杀毒软件，提供安全的上网环境。\\n6中奖诈骗\\n购物过后，很多人会陆陆续续收到一些商家的中奖信息，切记不要随意拨打中奖信息提供的电话号码或点击发来的网站链接地址，很可能会让手机或电脑感染上木马病毒。\\n识骗方法：收到中奖信息后留心一下，看一看你所购买的产品中有没有这家的产品，然后最好能在天猫店里直接和卖家联系确认消息。\\n7朋友圈诈骗\\n由于缺少第三方监管平台，不法分子会在朋友圈发布虚假低价购物信息，骗取消费者汇款购买。\\n识骗方法：朋友圈里的销售行为，存在取证难，查处难的问题。因此建议大家在朋友圈买东西时，尽可能选择正规第三方支付平台进行支付，避免直接支付，以确保安全。\\n8快递诈骗\\n不法分子会从非法渠道获得客户信息，制作假的快递单，随后冒充快递员提前联系受骗者，把虚假货品送到消费者手中，骗取钱财。\\n识骗方法：签收包裹前，务必按官方的信息核实对方身份，并确认是否是自己的包裹。在取货之后；一定记得把自己的个人信息从包裹上完全抹去；避免个人信息泄露。\\n9退款诈骗\\n不法分子常以“退款”或“退货”为由假扮网店客服，要求消费者点击其提供的“钓鱼网站”链接，盗取持卡人的银行密码及动态验证码。\\n识骗方法：如果接到网上购物退款的电话或短信等信息，一定要谨慎对待，切莫泄露银行卡账号、户名，动态验证码等个人信息。\\n同时，提醒大家：保护好自己账户信息，遇到情况一定及时报警。\\n武汉破特大网络诈骗案抓808人:以内幕消息\"骗人'"
      ]
     },
     "execution_count": 7,
     "metadata": {},
     "output_type": "execute_result"
    }
   ],
   "source": [
    "original_content[8]"
   ]
  },
  {
   "cell_type": "markdown",
   "metadata": {},
   "source": [
    "## 1.2 Processing original content"
   ]
  },
  {
   "cell_type": "markdown",
   "metadata": {},
   "source": [
    "### 1.2.1 Sentence"
   ]
  },
  {
   "cell_type": "code",
   "execution_count": 8,
   "metadata": {},
   "outputs": [],
   "source": [
    "def token(string):\n",
    "    return ''.join(re.findall(r'[\\d|\\w]+', string))\n",
    "def cut(string):\n",
    "    return ' '.join(jieba.cut(string))"
   ]
  },
  {
   "cell_type": "code",
   "execution_count": 9,
   "metadata": {},
   "outputs": [],
   "source": [
    "def cut_sentence(para):\n",
    "    para = re.sub('([。！？\\?])([^”’])', r\"\\1\\n\\2\", para)  # 单字符断句符\n",
    "    para = re.sub('(\\.{6})([^”’])', r\"\\1\\n\\2\", para)  # 英文省略号\n",
    "    para = re.sub('(\\…{2})([^”’])', r\"\\1\\n\\2\", para)  # 中文省略号\n",
    "    para = re.sub('([。！？\\?][”’])([^，。！？\\?])', r'\\1\\n\\2', para)\n",
    "    # 如果双引号前有终止符，那么双引号才是句子的终点，把分句符\\n放到双引号后，注意前面的几句都小心保留了双引号\n",
    "    para = para.rstrip()  # 段尾如果有多余的\\n就去掉它\n",
    "    # 很多规则中会考虑分号;，但是这里我把它忽略不计，破折号、英文双引号等同样忽略，需要的再做些简单调整即可。\n",
    "    return para.split(\"\\n\")"
   ]
  },
  {
   "cell_type": "code",
   "execution_count": 10,
   "metadata": {},
   "outputs": [],
   "source": [
    "def get_sentence_content_with_punctuation(original_content):\n",
    "    sentence_content = []\n",
    "    for news in original_content:\n",
    "        news = re.sub(r'\\n', '', news)\n",
    "        if news != '' and news != ' ':\n",
    "            temp_list = cut_sentence(news)\n",
    "            sentence_content.append(temp_list)\n",
    "    return sentence_content"
   ]
  },
  {
   "cell_type": "code",
   "execution_count": 11,
   "metadata": {},
   "outputs": [],
   "source": [
    "def get_sentence_content(content):\n",
    "    sentence_content = []\n",
    "    for news in content:\n",
    "        temp_list = []\n",
    "        for sentence in news:\n",
    "            temp = token(sentence)\n",
    "            if temp!= '':\n",
    "                temp_list.append(temp)\n",
    "        sentence_content.append(temp_list)\n",
    "    return sentence_content"
   ]
  },
  {
   "cell_type": "code",
   "execution_count": 12,
   "metadata": {},
   "outputs": [],
   "source": [
    "sentence_content_with_punctuation = get_sentence_content_with_punctuation(original_content)"
   ]
  },
  {
   "cell_type": "code",
   "execution_count": 13,
   "metadata": {},
   "outputs": [],
   "source": [
    "sentence_content = get_sentence_content(sentence_content_with_punctuation)"
   ]
  },
  {
   "cell_type": "code",
   "execution_count": 14,
   "metadata": {},
   "outputs": [
    {
     "data": {
      "text/plain": [
       "87165"
      ]
     },
     "execution_count": 14,
     "metadata": {},
     "output_type": "execute_result"
    }
   ],
   "source": [
    "len(sentence_content_with_punctuation)"
   ]
  },
  {
   "cell_type": "code",
   "execution_count": 15,
   "metadata": {},
   "outputs": [
    {
     "data": {
      "text/plain": [
       "87165"
      ]
     },
     "execution_count": 15,
     "metadata": {},
     "output_type": "execute_result"
    }
   ],
   "source": [
    "len(sentence_content)"
   ]
  },
  {
   "cell_type": "code",
   "execution_count": 16,
   "metadata": {
    "scrolled": true
   },
   "outputs": [
    {
     "data": {
      "text/plain": [
       "['?',\n",
       " '\\u3000\\u3000巨丰早评：市场将再次探底\\u3000\\u3000【巨丰观点】\\u3000\\u3000周四大盘冲高回落，2500余只个股下跌。',\n",
       " '上证50、沪深300指数顽强收红。',\n",
       " '早盘大盘低开高走，展开反弹，沪指冲破120日均线压力位；午后大盘跳水，个股普跌。',\n",
       " '盘面上，保险、电力、银行、民航机场、券商、房地产、人工智能、迪士尼、网络安全等板块涨幅居前。',\n",
       " '雄安新区、福州新区、医疗器械、丝绸之路等跌幅居前。',\n",
       " '\\u3000\\u3000金融股全线大涨：保险板块涨3%：新华保险、中国太保、中国人寿涨4%，中国平安涨2%；西水股份、天茂集团盘中大涨7%以上。',\n",
       " '银行板块涨2%：招商银行大涨8%，贵阳银行、兴业银行、浦发银行、兴业银行等涨幅居前。',\n",
       " '金融股是A股纳入MSCI指数的受益者，后市可以逢低关注。',\n",
       " '\\u3000\\u3000盘中万达电影、复星医药等白马股闪崩，导致午后市场出现大幅跳水。',\n",
       " '盘后消息，银监会于6月中旬要求各家银行排查包括万达、海航集团、复星、浙江罗森内里在内数家企业的授信及风险分析，排查对象多是近年来海外投资比较凶猛、在银行业敞口较大的民营企业集团。',\n",
       " '\\u3000\\u3000巨丰投顾认为自5月以来，大盘已经走出了3重底的走势，并开启中级反弹行情。',\n",
       " '沪指在上证50及白马股推动下率先反弹，但遭遇60日、120日均线强压力而出现调整。',\n",
       " 'MSCI纳入A股后，沪深300指数创17个月新高，但2500余股下跌，市场分化明显。',\n",
       " '随着6月末市场流动性紧张的可能出现，市场将再次出现探底。',\n",
       " '建议投资者重点关注半年报大幅预增的错杀股和具备估值优势的大蓝筹。',\n",
       " '\\u3000\\u3000天信投资：尾盘跳水原因揭秘 伏击的品种曝光\\u3000\\u3000周四市场点评：\\u3000\\u3000沪深两市早盘纷纷低开，但是开盘之后权重板块崛起，其中保险和银行表现尤其明显，低矮动股指快速拉升，并顺势突破了60日均线和半年线的束缚；在主板拉升的过程中，市场的分化格局也较明显，题材板块和创业板表现相对较弱。',\n",
       " '不过虽然市场在早盘的上攻，但是成交量萎缩明教明显，所以这种上涨比较虚。',\n",
       " '果不其然，午后个股再度纷纷杀跌，同时股指也是顺势回落，沪市的半年线得而复失，形成长长的上影线；而创业板股指在回落的过程中失守5日均线的支撑。',\n",
       " '整体上周四市场全天保持宽幅震荡走势，尤其是沪市冲高回落。',\n",
       " '保险、银行、中字头、举牌等品种涨幅居前；钛金属、区块链、雄安新区、民营医院等品种领跌。',\n",
       " '\\u3000\\u3000今日市场预测：\\u3000\\u3000在周三收市的评论中，我们指出周四市场会出现阶段性的普涨行情，而周四早盘三大股指齐齐上涨，即使创业板股指涨幅较小，但是市场确实也给我们呈现的普涨格局。',\n",
       " '但是午后的跳水，包括创业板股指先下跌，随后沪指尾盘的快速下杀，使得市场从普涨瞬间到普跌，市场的大起大落来的非常刺激。',\n",
       " '从三大股指周四呈现给大家的K线组合来看，预计今日市场齐跌的概率较大，不过创业板合格题材板块或具备一定的抗跌性。',\n",
       " '\\u3000\\u3000短期行情判断：\\u3000\\u3000从大的环境上来看，市场目前本身不具备大面积和大空间的反弹基础，因为目前无论是从宏观面、货币基本面或者从国际经济和政治的角度来看，都不具备这样的条件，所以反应到市场中来，只能是结构性、局部性的投机性机会。',\n",
       " '而最近半个月以来，市场的走势也确实符合局部性、结构性投机的走势。',\n",
       " '\\u3000\\u3000周四市场沪指形成带长长上影线的倒锤阴线；创业板股指形成的是跌破5日和10日均线的中阴线，这种类型的K线形态，几乎都是市场开始调整的先兆，所以短期市场而言，悲观的情绪或升温。',\n",
       " '\\u3000\\u3000后市投资建议：\\u3000\\u3000短期建议投资者一定要控制好自身的仓位。',\n",
       " '中期继续看好题材板块的崛起，特别是次新股、高送转、重组股等等可以不断的去伏击，依旧具备超跌反弹的性质。']"
      ]
     },
     "execution_count": 16,
     "metadata": {},
     "output_type": "execute_result"
    }
   ],
   "source": [
    "sentence_content_with_punctuation[12]"
   ]
  },
  {
   "cell_type": "code",
   "execution_count": 17,
   "metadata": {
    "scrolled": true
   },
   "outputs": [
    {
     "data": {
      "text/plain": [
       "['巨丰早评市场将再次探底巨丰观点周四大盘冲高回落2500余只个股下跌',\n",
       " '上证50沪深300指数顽强收红',\n",
       " '早盘大盘低开高走展开反弹沪指冲破120日均线压力位午后大盘跳水个股普跌',\n",
       " '盘面上保险电力银行民航机场券商房地产人工智能迪士尼网络安全等板块涨幅居前',\n",
       " '雄安新区福州新区医疗器械丝绸之路等跌幅居前',\n",
       " '金融股全线大涨保险板块涨3新华保险中国太保中国人寿涨4中国平安涨2西水股份天茂集团盘中大涨7以上',\n",
       " '银行板块涨2招商银行大涨8贵阳银行兴业银行浦发银行兴业银行等涨幅居前',\n",
       " '金融股是A股纳入MSCI指数的受益者后市可以逢低关注',\n",
       " '盘中万达电影复星医药等白马股闪崩导致午后市场出现大幅跳水',\n",
       " '盘后消息银监会于6月中旬要求各家银行排查包括万达海航集团复星浙江罗森内里在内数家企业的授信及风险分析排查对象多是近年来海外投资比较凶猛在银行业敞口较大的民营企业集团',\n",
       " '巨丰投顾认为自5月以来大盘已经走出了3重底的走势并开启中级反弹行情',\n",
       " '沪指在上证50及白马股推动下率先反弹但遭遇60日120日均线强压力而出现调整',\n",
       " 'MSCI纳入A股后沪深300指数创17个月新高但2500余股下跌市场分化明显',\n",
       " '随着6月末市场流动性紧张的可能出现市场将再次出现探底',\n",
       " '建议投资者重点关注半年报大幅预增的错杀股和具备估值优势的大蓝筹',\n",
       " '天信投资尾盘跳水原因揭秘伏击的品种曝光周四市场点评沪深两市早盘纷纷低开但是开盘之后权重板块崛起其中保险和银行表现尤其明显低矮动股指快速拉升并顺势突破了60日均线和半年线的束缚在主板拉升的过程中市场的分化格局也较明显题材板块和创业板表现相对较弱',\n",
       " '不过虽然市场在早盘的上攻但是成交量萎缩明教明显所以这种上涨比较虚',\n",
       " '果不其然午后个股再度纷纷杀跌同时股指也是顺势回落沪市的半年线得而复失形成长长的上影线而创业板股指在回落的过程中失守5日均线的支撑',\n",
       " '整体上周四市场全天保持宽幅震荡走势尤其是沪市冲高回落',\n",
       " '保险银行中字头举牌等品种涨幅居前钛金属区块链雄安新区民营医院等品种领跌',\n",
       " '今日市场预测在周三收市的评论中我们指出周四市场会出现阶段性的普涨行情而周四早盘三大股指齐齐上涨即使创业板股指涨幅较小但是市场确实也给我们呈现的普涨格局',\n",
       " '但是午后的跳水包括创业板股指先下跌随后沪指尾盘的快速下杀使得市场从普涨瞬间到普跌市场的大起大落来的非常刺激',\n",
       " '从三大股指周四呈现给大家的K线组合来看预计今日市场齐跌的概率较大不过创业板合格题材板块或具备一定的抗跌性',\n",
       " '短期行情判断从大的环境上来看市场目前本身不具备大面积和大空间的反弹基础因为目前无论是从宏观面货币基本面或者从国际经济和政治的角度来看都不具备这样的条件所以反应到市场中来只能是结构性局部性的投机性机会',\n",
       " '而最近半个月以来市场的走势也确实符合局部性结构性投机的走势',\n",
       " '周四市场沪指形成带长长上影线的倒锤阴线创业板股指形成的是跌破5日和10日均线的中阴线这种类型的K线形态几乎都是市场开始调整的先兆所以短期市场而言悲观的情绪或升温',\n",
       " '后市投资建议短期建议投资者一定要控制好自身的仓位',\n",
       " '中期继续看好题材板块的崛起特别是次新股高送转重组股等等可以不断的去伏击依旧具备超跌反弹的性质']"
      ]
     },
     "execution_count": 17,
     "metadata": {},
     "output_type": "execute_result"
    }
   ],
   "source": [
    "sentence_content[12]"
   ]
  },
  {
   "cell_type": "code",
   "execution_count": 18,
   "metadata": {},
   "outputs": [],
   "source": [
    "with open('news-sentence-with-punctuation-cut.txt', 'w', encoding=\"utf-8\") as f:\n",
    "    for news in sentence_content_with_punctuation:\n",
    "        for sentence in news:\n",
    "            f.write(sentence + '\\n')\n",
    "        f.write('\\n')"
   ]
  },
  {
   "cell_type": "code",
   "execution_count": 19,
   "metadata": {},
   "outputs": [],
   "source": [
    "with open('news-sentence-cut.txt', 'w', encoding=\"utf-8\") as f:\n",
    "    for news in sentence_content:\n",
    "        for sentence in news:\n",
    "            f.write(sentence + '\\n')\n",
    "        f.write('\\n')"
   ]
  },
  {
   "cell_type": "markdown",
   "metadata": {},
   "source": [
    "### 1.2.3 Word and Sentence"
   ]
  },
  {
   "cell_type": "code",
   "execution_count": 33,
   "metadata": {},
   "outputs": [],
   "source": [
    "def get_sentence_word_content(content):\n",
    "    temp_sentence = []\n",
    "    result_sentence = []\n",
    "    \n",
    "    temp_word = []\n",
    "    result_word = []\n",
    "    \n",
    "    for news in content:\n",
    "        for sentence in news:\n",
    "            cut = jieba.lcut(sentence)\n",
    "            \n",
    "            temp_word.append(' '.join(cut))\n",
    "            temp_sentence.append(cut)\n",
    "            \n",
    "        result_sentence.append(temp_sentence)\n",
    "\n",
    "        result_word.append(' '.join(temp_word))\n",
    "        temp_sentence = []\n",
    "        temp_word = []\n",
    "        temp = []\n",
    "    return result_sentence, result_word"
   ]
  },
  {
   "cell_type": "code",
   "execution_count": 34,
   "metadata": {},
   "outputs": [],
   "source": [
    "sentence_word_content, word_content = get_sentence_word_content(sentence_content)"
   ]
  },
  {
   "cell_type": "code",
   "execution_count": 35,
   "metadata": {},
   "outputs": [
    {
     "data": {
      "text/plain": [
       "[['此外',\n",
       "  '自',\n",
       "  '本周',\n",
       "  '6',\n",
       "  '月',\n",
       "  '12',\n",
       "  '日起',\n",
       "  '除',\n",
       "  '小米',\n",
       "  '手机',\n",
       "  '6',\n",
       "  '等',\n",
       "  '15',\n",
       "  '款',\n",
       "  '机型',\n",
       "  '外',\n",
       "  '其余',\n",
       "  '机型',\n",
       "  '已',\n",
       "  '暂停',\n",
       "  '更新',\n",
       "  '发布',\n",
       "  '含',\n",
       "  '开发',\n",
       "  '版',\n",
       "  '体验版',\n",
       "  '内测',\n",
       "  '稳定版',\n",
       "  '暂不受',\n",
       "  '影响',\n",
       "  '以',\n",
       "  '确保',\n",
       "  '工程师',\n",
       "  '可以',\n",
       "  '集中',\n",
       "  '全部',\n",
       "  '精力',\n",
       "  '进行',\n",
       "  '系统优化',\n",
       "  '工作'],\n",
       " ['有人', '猜测', '这', '也', '是', '将', '精力', '主要', '用到', 'MIUI9', '的', '研发', '之中'],\n",
       " ['MIUI8',\n",
       "  '去年',\n",
       "  '5',\n",
       "  '月',\n",
       "  '发布',\n",
       "  '距今已有',\n",
       "  '一年',\n",
       "  '有余',\n",
       "  '也',\n",
       "  '是',\n",
       "  '时候',\n",
       "  '更新换代',\n",
       "  '了'],\n",
       " ['当然', '关于', 'MIUI9', '的', '确切', '信息', '我们', '还是', '等待', '官方消息']]"
      ]
     },
     "execution_count": 35,
     "metadata": {},
     "output_type": "execute_result"
    }
   ],
   "source": [
    "sentence_word_content[0]"
   ]
  },
  {
   "cell_type": "code",
   "execution_count": 23,
   "metadata": {},
   "outputs": [
    {
     "data": {
      "text/plain": [
       "87165"
      ]
     },
     "execution_count": 23,
     "metadata": {},
     "output_type": "execute_result"
    }
   ],
   "source": [
    "len(sentence_word_content)"
   ]
  },
  {
   "cell_type": "code",
   "execution_count": 24,
   "metadata": {},
   "outputs": [
    {
     "data": {
      "text/plain": [
       "'此外 自 本周 6 月 12 日起 除 小米 手机 6 等 15 款 机型 外 其余 机型 已 暂停 更新 发布 含 开发 版 体验版 内测 稳定版 暂不受 影响 以 确保 工程师 可以 集中 全部 精力 进行 系统优化 工作 有人 猜测 这 也 是 将 精力 主要 用到 MIUI9 的 研发 之中 MIUI8 去年 5 月 发布 距今已有 一年 有余 也 是 时候 更新换代 了 当然 关于 MIUI9 的 确切 信息 我们 还是 等待 官方消息'"
      ]
     },
     "execution_count": 24,
     "metadata": {},
     "output_type": "execute_result"
    }
   ],
   "source": [
    "word_content[0]"
   ]
  },
  {
   "cell_type": "code",
   "execution_count": 36,
   "metadata": {},
   "outputs": [],
   "source": [
    "with open('news-sentence-word-cut.txt', 'w', encoding='utf-8') as f:\n",
    "    for news in sentence_word_content:\n",
    "        for sentence in news:\n",
    "            for word in sentence:\n",
    "                f.write(word + ' ')\n",
    "            f.write('\\n')\n",
    "        f.write('\\n')"
   ]
  },
  {
   "cell_type": "code",
   "execution_count": 37,
   "metadata": {},
   "outputs": [],
   "source": [
    "with open('news-word-cut.txt', 'w', encoding=\"utf-8\") as f:\n",
    "    for news_i in word_content:\n",
    "        f.write(news_i + '\\n')"
   ]
  },
  {
   "cell_type": "markdown",
   "metadata": {},
   "source": [
    "# 2 Word2Vec "
   ]
  },
  {
   "cell_type": "code",
   "execution_count": 38,
   "metadata": {},
   "outputs": [],
   "source": [
    "import numpy"
   ]
  },
  {
   "cell_type": "code",
   "execution_count": 39,
   "metadata": {
    "scrolled": true
   },
   "outputs": [
    {
     "name": "stderr",
     "output_type": "stream",
     "text": [
      "D:\\Anaconda3\\lib\\site-packages\\gensim\\utils.py:1197: UserWarning: detected Windows; aliasing chunkize to chunkize_serial\n",
      "  warnings.warn(\"detected Windows; aliasing chunkize to chunkize_serial\")\n"
     ]
    }
   ],
   "source": [
    "from gensim.models import Word2Vec"
   ]
  },
  {
   "cell_type": "code",
   "execution_count": 40,
   "metadata": {},
   "outputs": [],
   "source": [
    "from gensim.models.word2vec import LineSentence"
   ]
  },
  {
   "cell_type": "code",
   "execution_count": 41,
   "metadata": {},
   "outputs": [],
   "source": [
    "embedding_size = 35"
   ]
  },
  {
   "cell_type": "code",
   "execution_count": 42,
   "metadata": {},
   "outputs": [],
   "source": [
    "news_word2vec= Word2Vec(LineSentence('news-word-cut.txt'), size=35, workers=8, min_count=1)"
   ]
  },
  {
   "cell_type": "code",
   "execution_count": 43,
   "metadata": {},
   "outputs": [
    {
     "name": "stderr",
     "output_type": "stream",
     "text": [
      "D:\\Anaconda3\\lib\\site-packages\\ipykernel_launcher.py:1: DeprecationWarning: Call to deprecated `most_similar` (Method will be removed in 4.0.0, use self.wv.most_similar() instead).\n",
      "  \"\"\"Entry point for launching an IPython kernel.\n"
     ]
    },
    {
     "data": {
      "text/plain": [
       "[('日艾瑞', 0.8294804692268372),\n",
       " ('年国栋', 0.7767621278762817),\n",
       " ('团校', 0.749431312084198),\n",
       " ('文化街', 0.7414053678512573),\n",
       " ('曾洁', 0.7407209873199463),\n",
       " ('梁森摄', 0.7340662479400635),\n",
       " ('尚坤', 0.7315571904182434),\n",
       " ('年春防', 0.7299376726150513),\n",
       " ('智变', 0.7269278764724731),\n",
       " ('魏鲁鸿右', 0.7137142419815063)]"
      ]
     },
     "execution_count": 43,
     "metadata": {},
     "output_type": "execute_result"
    }
   ],
   "source": [
    "news_word2vec.most_similar('3743', topn=10)"
   ]
  },
  {
   "cell_type": "code",
   "execution_count": 44,
   "metadata": {},
   "outputs": [],
   "source": [
    "news_word2vec.save(\"./Word2vec_model.w2v\")"
   ]
  },
  {
   "cell_type": "code",
   "execution_count": null,
   "metadata": {},
   "outputs": [],
   "source": []
  }
 ],
 "metadata": {
  "kernelspec": {
   "display_name": "Python 3",
   "language": "python",
   "name": "python3"
  },
  "language_info": {
   "codemirror_mode": {
    "name": "ipython",
    "version": 3
   },
   "file_extension": ".py",
   "mimetype": "text/x-python",
   "name": "python",
   "nbconvert_exporter": "python",
   "pygments_lexer": "ipython3",
   "version": "3.6.6"
  }
 },
 "nbformat": 4,
 "nbformat_minor": 2
}
