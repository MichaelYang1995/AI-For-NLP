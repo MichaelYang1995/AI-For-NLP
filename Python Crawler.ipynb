{
 "cells": [
  {
   "cell_type": "markdown",
   "metadata": {},
   "source": [
    "# Python网页爬虫"
   ]
  },
  {
   "cell_type": "code",
   "execution_count": 1,
   "metadata": {},
   "outputs": [],
   "source": [
    "import requests,re"
   ]
  },
  {
   "cell_type": "code",
   "execution_count": 2,
   "metadata": {},
   "outputs": [],
   "source": [
    "url = 'http://movie.douban.com/'\n",
    "response = requests.get(url)"
   ]
  },
  {
   "cell_type": "code",
   "execution_count": 3,
   "metadata": {},
   "outputs": [
    {
     "data": {
      "text/plain": [
       "<Response [200]>"
      ]
     },
     "execution_count": 3,
     "metadata": {},
     "output_type": "execute_result"
    }
   ],
   "source": [
    "response"
   ]
  },
  {
   "cell_type": "code",
   "execution_count": 4,
   "metadata": {},
   "outputs": [],
   "source": [
    "url_pattern = re.compile('https://movie.douban.com/subject/\\d+/\\?from=showing')\n",
    "image_pattern = re.compile('https://img3.doubanio.com/view/photo/s_ratio_poster/public/\\w\\d+.\\w+')\n",
    "html_content = response.text"
   ]
  },
  {
   "cell_type": "code",
   "execution_count": 7,
   "metadata": {},
   "outputs": [],
   "source": [
    "import matplotlib.pyplot as plt"
   ]
  },
  {
   "cell_type": "code",
   "execution_count": 8,
   "metadata": {},
   "outputs": [
    {
     "data": {
      "text/plain": [
       "['https://img3.doubanio.com/view/photo/s_ratio_poster/public/p2551353482.jpg',\n",
       " 'https://img3.doubanio.com/view/photo/s_ratio_poster/public/p2552608202.jpg',\n",
       " 'https://img3.doubanio.com/view/photo/s_ratio_poster/public/p2551249211.jpg',\n",
       " 'https://img3.doubanio.com/view/photo/s_ratio_poster/public/p2553090666.jpg',\n",
       " 'https://img3.doubanio.com/view/photo/s_ratio_poster/public/p2549234765.jpg',\n",
       " 'https://img3.doubanio.com/view/photo/s_ratio_poster/public/p2552522615.jpg',\n",
       " 'https://img3.doubanio.com/view/photo/s_ratio_poster/public/p2549558913.jpg',\n",
       " 'https://img3.doubanio.com/view/photo/s_ratio_poster/public/p2551172384.jpg',\n",
       " 'https://img3.doubanio.com/view/photo/s_ratio_poster/public/p2551569616.jpg',\n",
       " 'https://img3.doubanio.com/view/photo/s_ratio_poster/public/p2549177902.jpg',\n",
       " 'https://img3.doubanio.com/view/photo/s_ratio_poster/public/p2549523952.jpg',\n",
       " 'https://img3.doubanio.com/view/photo/s_ratio_poster/public/p2545472803.jpg',\n",
       " 'https://img3.doubanio.com/view/photo/s_ratio_poster/public/p2544987866.jpg',\n",
       " 'https://img3.doubanio.com/view/photo/s_ratio_poster/public/p2549910141.jpg',\n",
       " 'https://img3.doubanio.com/view/photo/s_ratio_poster/public/p2546335362.jpg',\n",
       " 'https://img3.doubanio.com/view/photo/s_ratio_poster/public/p2510130772.jpg',\n",
       " 'https://img3.doubanio.com/view/photo/s_ratio_poster/public/p2530572643.jpg']"
      ]
     },
     "execution_count": 8,
     "metadata": {},
     "output_type": "execute_result"
    }
   ],
   "source": [
    "image_pattern.findall(html_content)"
   ]
  },
  {
   "cell_type": "code",
   "execution_count": 9,
   "metadata": {},
   "outputs": [
    {
     "data": {
      "text/plain": [
       "{'https://movie.douban.com/subject/1652592/?from=showing',\n",
       " 'https://movie.douban.com/subject/19899707/?from=showing',\n",
       " 'https://movie.douban.com/subject/2244426/?from=showing',\n",
       " 'https://movie.douban.com/subject/25924056/?from=showing',\n",
       " 'https://movie.douban.com/subject/26266893/?from=showing',\n",
       " 'https://movie.douban.com/subject/26715636/?from=showing',\n",
       " 'https://movie.douban.com/subject/26728669/?from=showing',\n",
       " 'https://movie.douban.com/subject/26774017/?from=showing',\n",
       " 'https://movie.douban.com/subject/26803717/?from=showing',\n",
       " 'https://movie.douban.com/subject/26850330/?from=showing',\n",
       " 'https://movie.douban.com/subject/27040737/?from=showing',\n",
       " 'https://movie.douban.com/subject/27060077/?from=showing',\n",
       " 'https://movie.douban.com/subject/27063305/?from=showing',\n",
       " 'https://movie.douban.com/subject/27185558/?from=showing',\n",
       " 'https://movie.douban.com/subject/27202819/?from=showing',\n",
       " 'https://movie.douban.com/subject/27624661/?from=showing',\n",
       " 'https://movie.douban.com/subject/27663742/?from=showing',\n",
       " 'https://movie.douban.com/subject/30164448/?from=showing',\n",
       " 'https://movie.douban.com/subject/30334073/?from=showing',\n",
       " 'https://movie.douban.com/subject/30335687/?from=showing',\n",
       " 'https://movie.douban.com/subject/30345723/?from=showing',\n",
       " 'https://movie.douban.com/subject/30450410/?from=showing',\n",
       " 'https://movie.douban.com/subject/30463624/?from=showing',\n",
       " 'https://movie.douban.com/subject/5300054/?from=showing'}"
      ]
     },
     "execution_count": 9,
     "metadata": {},
     "output_type": "execute_result"
    }
   ],
   "source": [
    "set(url_pattern.findall(html_content))"
   ]
  },
  {
   "cell_type": "code",
   "execution_count": 10,
   "metadata": {},
   "outputs": [
    {
     "name": "stdout",
     "output_type": "stream",
     "text": [
      "https://movie.douban.com/subject/27202819/?from=showing\n",
      "https://movie.douban.com/subject/27202819/?from=showing\n",
      "https://movie.douban.com/subject/26850330/?from=showing\n",
      "https://movie.douban.com/subject/26850330/?from=showing\n",
      "https://movie.douban.com/subject/30334073/?from=showing\n",
      "https://movie.douban.com/subject/30334073/?from=showing\n",
      "https://movie.douban.com/subject/26774017/?from=showing\n",
      "https://movie.douban.com/subject/26774017/?from=showing\n",
      "https://movie.douban.com/subject/27040737/?from=showing\n",
      "https://movie.douban.com/subject/27040737/?from=showing\n",
      "https://movie.douban.com/subject/27185558/?from=showing\n",
      "https://movie.douban.com/subject/27185558/?from=showing\n",
      "https://movie.douban.com/subject/2244426/?from=showing\n",
      "https://movie.douban.com/subject/2244426/?from=showing\n",
      "https://movie.douban.com/subject/26803717/?from=showing\n",
      "https://movie.douban.com/subject/26803717/?from=showing\n",
      "https://movie.douban.com/subject/27663742/?from=showing\n",
      "https://movie.douban.com/subject/27663742/?from=showing\n",
      "https://movie.douban.com/subject/25924056/?from=showing\n",
      "https://movie.douban.com/subject/25924056/?from=showing\n",
      "https://movie.douban.com/subject/26728669/?from=showing\n",
      "https://movie.douban.com/subject/26728669/?from=showing\n",
      "https://movie.douban.com/subject/5300054/?from=showing\n",
      "https://movie.douban.com/subject/5300054/?from=showing\n",
      "https://movie.douban.com/subject/30164448/?from=showing\n",
      "https://movie.douban.com/subject/30164448/?from=showing\n",
      "https://movie.douban.com/subject/30450410/?from=showing\n",
      "https://movie.douban.com/subject/30450410/?from=showing\n",
      "https://movie.douban.com/subject/30345723/?from=showing\n",
      "https://movie.douban.com/subject/30345723/?from=showing\n",
      "https://movie.douban.com/subject/30463624/?from=showing\n",
      "https://movie.douban.com/subject/30463624/?from=showing\n",
      "https://movie.douban.com/subject/27060077/?from=showing\n",
      "https://movie.douban.com/subject/27060077/?from=showing\n",
      "https://movie.douban.com/subject/27624661/?from=showing\n",
      "https://movie.douban.com/subject/27624661/?from=showing\n",
      "https://movie.douban.com/subject/26715636/?from=showing\n",
      "https://movie.douban.com/subject/26715636/?from=showing\n",
      "https://movie.douban.com/subject/26266893/?from=showing\n",
      "https://movie.douban.com/subject/26266893/?from=showing\n",
      "https://movie.douban.com/subject/1652592/?from=showing\n",
      "https://movie.douban.com/subject/1652592/?from=showing\n",
      "https://movie.douban.com/subject/27063305/?from=showing\n",
      "https://movie.douban.com/subject/27063305/?from=showing\n",
      "https://movie.douban.com/subject/30335687/?from=showing\n",
      "https://movie.douban.com/subject/30335687/?from=showing\n",
      "https://movie.douban.com/subject/19899707/?from=showing\n",
      "https://movie.douban.com/subject/19899707/?from=showing\n"
     ]
    }
   ],
   "source": [
    "for line in html_content.split():\n",
    "    match = url_pattern.findall(line)\n",
    "    if match:\n",
    "        print(match[0])"
   ]
  },
  {
   "cell_type": "code",
   "execution_count": null,
   "metadata": {},
   "outputs": [],
   "source": []
  }
 ],
 "metadata": {
  "kernelspec": {
   "display_name": "Python 3",
   "language": "python",
   "name": "python3"
  },
  "language_info": {
   "codemirror_mode": {
    "name": "ipython",
    "version": 3
   },
   "file_extension": ".py",
   "mimetype": "text/x-python",
   "name": "python",
   "nbconvert_exporter": "python",
   "pygments_lexer": "ipython3",
   "version": "3.7.1"
  }
 },
 "nbformat": 4,
 "nbformat_minor": 2
}
